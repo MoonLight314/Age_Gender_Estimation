{
 "cells": [
  {
   "cell_type": "code",
   "execution_count": 1,
   "id": "e9d79e45",
   "metadata": {},
   "outputs": [],
   "source": [
    "import pandas as pd\n",
    "import os\n",
    "import numpy as np\n",
    "import tensorflow as tf\n",
    "from sklearn.preprocessing import LabelEncoder\n",
    "from sklearn.model_selection import train_test_split"
   ]
  },
  {
   "cell_type": "code",
   "execution_count": 2,
   "id": "ff60d58d",
   "metadata": {},
   "outputs": [
    {
     "data": {
      "text/plain": [
       "'\\ngpus = tf.config.experimental.list_physical_devices(\\'GPU\\')\\n\\nif gpus:\\n    # Restrict TensorFlow to only allocate 4GB of memory on the first GPU\\n    try:\\n        tf.config.experimental.set_virtual_device_configuration(\\n            gpus[0],\\n            [tf.config.experimental.VirtualDeviceConfiguration(memory_limit=4096)])\\n        logical_gpus = tf.config.experimental.list_logical_devices(\\'GPU\\')\\n        print(len(gpus), \"Physical GPUs,\", len(logical_gpus), \"Logical GPUs\")\\n    except RuntimeError as e:\\n        # Virtual devices must be set before GPUs have been initialized\\n        print(e)\\n'"
      ]
     },
     "execution_count": 2,
     "metadata": {},
     "output_type": "execute_result"
    }
   ],
   "source": [
    "\"\"\"\n",
    "gpus = tf.config.experimental.list_physical_devices('GPU')\n",
    "\n",
    "if gpus:\n",
    "    # Restrict TensorFlow to only allocate 4GB of memory on the first GPU\n",
    "    try:\n",
    "        tf.config.experimental.set_virtual_device_configuration(\n",
    "            gpus[0],\n",
    "            [tf.config.experimental.VirtualDeviceConfiguration(memory_limit=4096)])\n",
    "        logical_gpus = tf.config.experimental.list_logical_devices('GPU')\n",
    "        print(len(gpus), \"Physical GPUs,\", len(logical_gpus), \"Logical GPUs\")\n",
    "    except RuntimeError as e:\n",
    "        # Virtual devices must be set before GPUs have been initialized\n",
    "        print(e)\n",
    "\"\"\"        "
   ]
  },
  {
   "cell_type": "code",
   "execution_count": 3,
   "id": "839de7ca",
   "metadata": {},
   "outputs": [
    {
     "data": {
      "text/html": [
       "<div>\n",
       "<style scoped>\n",
       "    .dataframe tbody tr th:only-of-type {\n",
       "        vertical-align: middle;\n",
       "    }\n",
       "\n",
       "    .dataframe tbody tr th {\n",
       "        vertical-align: top;\n",
       "    }\n",
       "\n",
       "    .dataframe thead th {\n",
       "        text-align: right;\n",
       "    }\n",
       "</style>\n",
       "<table border=\"1\" class=\"dataframe\">\n",
       "  <thead>\n",
       "    <tr style=\"text-align: right;\">\n",
       "      <th></th>\n",
       "      <th>file_path</th>\n",
       "      <th>gender</th>\n",
       "      <th>age</th>\n",
       "    </tr>\n",
       "  </thead>\n",
       "  <tbody>\n",
       "    <tr>\n",
       "      <th>0</th>\n",
       "      <td>Dataset\\Adience_Dataset\\Crop_Faces\\0.jpg</td>\n",
       "      <td>f</td>\n",
       "      <td>(25, 32)</td>\n",
       "    </tr>\n",
       "    <tr>\n",
       "      <th>1</th>\n",
       "      <td>Dataset\\Adience_Dataset\\Crop_Faces\\1.jpg</td>\n",
       "      <td>m</td>\n",
       "      <td>(25, 32)</td>\n",
       "    </tr>\n",
       "    <tr>\n",
       "      <th>2</th>\n",
       "      <td>Dataset\\Adience_Dataset\\Crop_Faces\\2.jpg</td>\n",
       "      <td>f</td>\n",
       "      <td>(25, 32)</td>\n",
       "    </tr>\n",
       "    <tr>\n",
       "      <th>3</th>\n",
       "      <td>Dataset\\Adience_Dataset\\Crop_Faces\\4.jpg</td>\n",
       "      <td>m</td>\n",
       "      <td>(25, 32)</td>\n",
       "    </tr>\n",
       "    <tr>\n",
       "      <th>4</th>\n",
       "      <td>Dataset\\Adience_Dataset\\Crop_Faces\\5.jpg</td>\n",
       "      <td>f</td>\n",
       "      <td>(25, 32)</td>\n",
       "    </tr>\n",
       "    <tr>\n",
       "      <th>...</th>\n",
       "      <td>...</td>\n",
       "      <td>...</td>\n",
       "      <td>...</td>\n",
       "    </tr>\n",
       "    <tr>\n",
       "      <th>13541</th>\n",
       "      <td>Dataset\\Adience_Dataset\\Crop_Faces\\17444.jpg</td>\n",
       "      <td>m</td>\n",
       "      <td>(25, 32)</td>\n",
       "    </tr>\n",
       "    <tr>\n",
       "      <th>13542</th>\n",
       "      <td>Dataset\\Adience_Dataset\\Crop_Faces\\17447.jpg</td>\n",
       "      <td>m</td>\n",
       "      <td>(25, 32)</td>\n",
       "    </tr>\n",
       "    <tr>\n",
       "      <th>13543</th>\n",
       "      <td>Dataset\\Adience_Dataset\\Crop_Faces\\17448.jpg</td>\n",
       "      <td>f</td>\n",
       "      <td>(25, 32)</td>\n",
       "    </tr>\n",
       "    <tr>\n",
       "      <th>13544</th>\n",
       "      <td>Dataset\\Adience_Dataset\\Crop_Faces\\17449.jpg</td>\n",
       "      <td>f</td>\n",
       "      <td>(25, 32)</td>\n",
       "    </tr>\n",
       "    <tr>\n",
       "      <th>13545</th>\n",
       "      <td>Dataset\\Adience_Dataset\\Crop_Faces\\17450.jpg</td>\n",
       "      <td>f</td>\n",
       "      <td>(25, 32)</td>\n",
       "    </tr>\n",
       "  </tbody>\n",
       "</table>\n",
       "<p>13546 rows × 3 columns</p>\n",
       "</div>"
      ],
      "text/plain": [
       "                                          file_path gender       age\n",
       "0          Dataset\\Adience_Dataset\\Crop_Faces\\0.jpg      f  (25, 32)\n",
       "1          Dataset\\Adience_Dataset\\Crop_Faces\\1.jpg      m  (25, 32)\n",
       "2          Dataset\\Adience_Dataset\\Crop_Faces\\2.jpg      f  (25, 32)\n",
       "3          Dataset\\Adience_Dataset\\Crop_Faces\\4.jpg      m  (25, 32)\n",
       "4          Dataset\\Adience_Dataset\\Crop_Faces\\5.jpg      f  (25, 32)\n",
       "...                                             ...    ...       ...\n",
       "13541  Dataset\\Adience_Dataset\\Crop_Faces\\17444.jpg      m  (25, 32)\n",
       "13542  Dataset\\Adience_Dataset\\Crop_Faces\\17447.jpg      m  (25, 32)\n",
       "13543  Dataset\\Adience_Dataset\\Crop_Faces\\17448.jpg      f  (25, 32)\n",
       "13544  Dataset\\Adience_Dataset\\Crop_Faces\\17449.jpg      f  (25, 32)\n",
       "13545  Dataset\\Adience_Dataset\\Crop_Faces\\17450.jpg      f  (25, 32)\n",
       "\n",
       "[13546 rows x 3 columns]"
      ]
     },
     "execution_count": 3,
     "metadata": {},
     "output_type": "execute_result"
    }
   ],
   "source": [
    "dataset_info = pd.read_csv(\"crop_face_data.csv\")\n",
    "dataset_info"
   ]
  },
  {
   "cell_type": "code",
   "execution_count": 4,
   "id": "07d3c49b",
   "metadata": {},
   "outputs": [],
   "source": [
    "data_file_path = dataset_info['file_path'].tolist()\n",
    "gender = dataset_info['gender'].tolist()\n",
    "age = dataset_info['age'].tolist()"
   ]
  },
  {
   "cell_type": "code",
   "execution_count": 5,
   "id": "092a9d91",
   "metadata": {},
   "outputs": [
    {
     "data": {
      "text/plain": [
       "array([[1., 0.],\n",
       "       [0., 1.],\n",
       "       [1., 0.],\n",
       "       ...,\n",
       "       [1., 0.],\n",
       "       [1., 0.],\n",
       "       [1., 0.]], dtype=float32)"
      ]
     },
     "execution_count": 5,
     "metadata": {},
     "output_type": "execute_result"
    }
   ],
   "source": [
    "le_gender = LabelEncoder( ).fit_transform(gender)\n",
    "\n",
    "gender = tf.keras.utils.to_categorical(le_gender, num_classes=2)\n",
    "gender"
   ]
  },
  {
   "cell_type": "code",
   "execution_count": 6,
   "id": "37bcf376",
   "metadata": {},
   "outputs": [
    {
     "data": {
      "text/plain": [
       "(25, 32)     4352\n",
       "(38, 43)     2240\n",
       "(8, 13)      1718\n",
       "(4, 6)       1505\n",
       "(15, 20)     1471\n",
       "(0, 2)        893\n",
       "(48, 53)      714\n",
       "(60, 100)     653\n",
       "Name: age, dtype: int64"
      ]
     },
     "execution_count": 6,
     "metadata": {},
     "output_type": "execute_result"
    }
   ],
   "source": [
    "dataset_info['age'].value_counts()"
   ]
  },
  {
   "cell_type": "code",
   "execution_count": 7,
   "id": "d8514359",
   "metadata": {},
   "outputs": [
    {
     "data": {
      "text/plain": [
       "array([[0., 0., 1., ..., 0., 0., 0.],\n",
       "       [0., 0., 1., ..., 0., 0., 0.],\n",
       "       [0., 0., 1., ..., 0., 0., 0.],\n",
       "       ...,\n",
       "       [0., 0., 1., ..., 0., 0., 0.],\n",
       "       [0., 0., 1., ..., 0., 0., 0.],\n",
       "       [0., 0., 1., ..., 0., 0., 0.]], dtype=float32)"
      ]
     },
     "execution_count": 7,
     "metadata": {},
     "output_type": "execute_result"
    }
   ],
   "source": [
    "le_age = LabelEncoder( ).fit_transform(age)\n",
    "\n",
    "age = tf.keras.utils.to_categorical(le_age, num_classes=8)\n",
    "age"
   ]
  },
  {
   "cell_type": "code",
   "execution_count": null,
   "id": "705edffb",
   "metadata": {},
   "outputs": [],
   "source": []
  },
  {
   "cell_type": "code",
   "execution_count": 8,
   "id": "9427e124",
   "metadata": {},
   "outputs": [],
   "source": [
    "file_path_train, file_path_val, y_train, y_val = train_test_split(data_file_path, gender, \n",
    "                                                                  test_size=0.25, \n",
    "                                                                  random_state=777, \n",
    "                                                                  stratify = gender)"
   ]
  },
  {
   "cell_type": "code",
   "execution_count": 9,
   "id": "5236bc5c",
   "metadata": {},
   "outputs": [
    {
     "name": "stdout",
     "output_type": "stream",
     "text": [
      "10159 10159\n"
     ]
    }
   ],
   "source": [
    "print( len(file_path_train) , len(y_train) )"
   ]
  },
  {
   "cell_type": "code",
   "execution_count": 10,
   "id": "85b5d685",
   "metadata": {},
   "outputs": [
    {
     "name": "stdout",
     "output_type": "stream",
     "text": [
      "3387 3387\n"
     ]
    }
   ],
   "source": [
    "print( len(file_path_val) , len(y_val) )"
   ]
  },
  {
   "cell_type": "code",
   "execution_count": 11,
   "id": "48f18047",
   "metadata": {},
   "outputs": [
    {
     "data": {
      "text/plain": [
       "array([[0., 1.],\n",
       "       [0., 1.],\n",
       "       [1., 0.],\n",
       "       ...,\n",
       "       [0., 1.],\n",
       "       [1., 0.],\n",
       "       [1., 0.]], dtype=float32)"
      ]
     },
     "execution_count": 11,
     "metadata": {},
     "output_type": "execute_result"
    }
   ],
   "source": [
    "y_train"
   ]
  },
  {
   "cell_type": "code",
   "execution_count": null,
   "id": "d6e159af",
   "metadata": {},
   "outputs": [],
   "source": []
  },
  {
   "cell_type": "code",
   "execution_count": 12,
   "id": "12d46212",
   "metadata": {},
   "outputs": [],
   "source": [
    "BATCH_SIZE = 8"
   ]
  },
  {
   "cell_type": "code",
   "execution_count": 13,
   "id": "aaf7ee62",
   "metadata": {},
   "outputs": [],
   "source": [
    "def load_image( image_path , label ):\n",
    "    img = tf.io.read_file(image_path)\n",
    "    img = tf.image.decode_jpeg(img, channels=3)\n",
    "    img = tf.image.resize(img, (224, 224))\n",
    "    img = tf.keras.applications.efficientnet.preprocess_input(img)\n",
    "    return img , label"
   ]
  },
  {
   "cell_type": "code",
   "execution_count": 14,
   "id": "2e09c115",
   "metadata": {},
   "outputs": [],
   "source": [
    "train_dataset = tf.data.Dataset.from_tensor_slices( (file_path_train , y_train) )\n",
    "val_dataset = tf.data.Dataset.from_tensor_slices( (file_path_val , y_val) )"
   ]
  },
  {
   "cell_type": "code",
   "execution_count": 15,
   "id": "a8a5914b",
   "metadata": {},
   "outputs": [],
   "source": [
    "train_dataset = train_dataset.map( load_image, \n",
    "                                   num_parallel_calls=tf.data.experimental.AUTOTUNE)\\\n",
    "                .batch(BATCH_SIZE)\\\n",
    "                .cache()\\\n",
    "                .prefetch(tf.data.experimental.AUTOTUNE)\n",
    "\n",
    "val_dataset = val_dataset.map( load_image, \n",
    "                                   num_parallel_calls=tf.data.experimental.AUTOTUNE)\\\n",
    "                .batch(BATCH_SIZE)\\\n",
    "                .cache()\\\n",
    "                .prefetch(tf.data.experimental.AUTOTUNE)"
   ]
  },
  {
   "cell_type": "code",
   "execution_count": 16,
   "id": "7e7770fd",
   "metadata": {},
   "outputs": [
    {
     "data": {
      "text/plain": [
       "<TakeDataset shapes: ((None, 224, 224, 3), (None, 2)), types: (tf.float32, tf.float32)>"
      ]
     },
     "execution_count": 16,
     "metadata": {},
     "output_type": "execute_result"
    }
   ],
   "source": [
    "train_dataset.take(1)"
   ]
  },
  {
   "cell_type": "code",
   "execution_count": 17,
   "id": "1ec0712e",
   "metadata": {},
   "outputs": [
    {
     "data": {
      "text/plain": [
       "<TakeDataset shapes: ((None, 224, 224, 3), (None, 2)), types: (tf.float32, tf.float32)>"
      ]
     },
     "execution_count": 17,
     "metadata": {},
     "output_type": "execute_result"
    }
   ],
   "source": [
    "val_dataset.take(1)"
   ]
  },
  {
   "cell_type": "code",
   "execution_count": null,
   "id": "cc897a8a",
   "metadata": {},
   "outputs": [],
   "source": []
  },
  {
   "cell_type": "code",
   "execution_count": 18,
   "id": "3c267941",
   "metadata": {},
   "outputs": [],
   "source": [
    "from tensorflow.keras.applications.efficientnet import EfficientNetB0\n",
    "from tensorflow.keras.layers import GlobalAveragePooling2D , BatchNormalization , Dropout , Dense\n",
    "from tensorflow.keras.models import Sequential\n",
    "from tensorflow.keras.callbacks import TensorBoard , ModelCheckpoint , LearningRateScheduler"
   ]
  },
  {
   "cell_type": "code",
   "execution_count": 19,
   "id": "17792509",
   "metadata": {},
   "outputs": [],
   "source": [
    "EfficientNet = tf.keras.applications.efficientnet.EfficientNetB0(\n",
    "    weights=None,\n",
    "    input_shape=(224, 224, 3),\n",
    "    include_top=False)"
   ]
  },
  {
   "cell_type": "code",
   "execution_count": 20,
   "id": "3a88f235",
   "metadata": {},
   "outputs": [],
   "source": [
    "#EfficientNet.trainable = False"
   ]
  },
  {
   "cell_type": "code",
   "execution_count": 21,
   "id": "5213468f",
   "metadata": {},
   "outputs": [],
   "source": [
    "DROP_OUT_RATE = 0.2"
   ]
  },
  {
   "cell_type": "code",
   "execution_count": 22,
   "id": "becded6e",
   "metadata": {},
   "outputs": [],
   "source": [
    "model= Sequential()\n",
    "model.add( EfficientNet )\n",
    "model.add( GlobalAveragePooling2D() ) \n",
    "model.add( Dropout( DROP_OUT_RATE ) ) \n",
    "model.add( BatchNormalization() ) \n",
    "model.add( Dense(128, activation='relu') )\n",
    "model.add( Dropout( DROP_OUT_RATE ) ) \n",
    "model.add( BatchNormalization() ) \n",
    "model.add( Dense(2, activation='softmax') )"
   ]
  },
  {
   "cell_type": "code",
   "execution_count": 23,
   "id": "7277849c",
   "metadata": {
    "scrolled": true
   },
   "outputs": [
    {
     "name": "stdout",
     "output_type": "stream",
     "text": [
      "Model: \"sequential\"\n",
      "_________________________________________________________________\n",
      "Layer (type)                 Output Shape              Param #   \n",
      "=================================================================\n",
      "efficientnetb0 (Functional)  (None, 7, 7, 1280)        4049571   \n",
      "_________________________________________________________________\n",
      "global_average_pooling2d (Gl (None, 1280)              0         \n",
      "_________________________________________________________________\n",
      "dropout (Dropout)            (None, 1280)              0         \n",
      "_________________________________________________________________\n",
      "batch_normalization (BatchNo (None, 1280)              5120      \n",
      "_________________________________________________________________\n",
      "dense (Dense)                (None, 128)               163968    \n",
      "_________________________________________________________________\n",
      "dropout_1 (Dropout)          (None, 128)               0         \n",
      "_________________________________________________________________\n",
      "batch_normalization_1 (Batch (None, 128)               512       \n",
      "_________________________________________________________________\n",
      "dense_1 (Dense)              (None, 2)                 258       \n",
      "=================================================================\n",
      "Total params: 4,219,429\n",
      "Trainable params: 4,174,590\n",
      "Non-trainable params: 44,839\n",
      "_________________________________________________________________\n"
     ]
    }
   ],
   "source": [
    "model.summary()"
   ]
  },
  {
   "cell_type": "code",
   "execution_count": null,
   "id": "7cc1bd97",
   "metadata": {},
   "outputs": [],
   "source": []
  },
  {
   "cell_type": "code",
   "execution_count": 24,
   "id": "d4527d65",
   "metadata": {},
   "outputs": [],
   "source": [
    "initial_learning_rate = 0.01\n",
    "\n",
    "def lr_exp_decay(epoch, lr):\n",
    "    k = 0.1\n",
    "    return initial_learning_rate * np.math.exp(-k*epoch)"
   ]
  },
  {
   "cell_type": "code",
   "execution_count": 25,
   "id": "232a7794",
   "metadata": {},
   "outputs": [],
   "source": [
    "lr_scheduler = LearningRateScheduler(lr_exp_decay, verbose=1)"
   ]
  },
  {
   "cell_type": "code",
   "execution_count": 26,
   "id": "5c228858",
   "metadata": {},
   "outputs": [],
   "source": [
    "log_dir = os.path.join('Logs')\n",
    "CHECKPOINT_PATH = os.path.join('CheckPoints')\n",
    "tb_callback = TensorBoard(log_dir=log_dir)\n",
    "\n",
    "cp = ModelCheckpoint(filepath=CHECKPOINT_PATH, monitor='val_categorical_accuracy',\n",
    "                     save_best_only = True,\n",
    "                     verbose = 1)"
   ]
  },
  {
   "cell_type": "code",
   "execution_count": null,
   "id": "10ec7e9a",
   "metadata": {},
   "outputs": [],
   "source": []
  },
  {
   "cell_type": "code",
   "execution_count": 28,
   "id": "6970aada",
   "metadata": {},
   "outputs": [],
   "source": [
    "model.compile(\n",
    "    optimizer=tf.keras.optimizers.Adam(1e-3),\n",
    "    #loss='categorical_crossentropy',\n",
    "    loss = tf.keras.losses.CategoricalCrossentropy(),\n",
    "    metrics=['categorical_accuracy'],\n",
    ")"
   ]
  },
  {
   "cell_type": "code",
   "execution_count": 29,
   "id": "24fdf958",
   "metadata": {},
   "outputs": [
    {
     "name": "stderr",
     "output_type": "stream",
     "text": [
      "C:\\Users\\csyi\\Anaconda3\\envs\\TF.2.5.0-GPU\\lib\\site-packages\\tensorflow\\python\\keras\\utils\\generic_utils.py:494: CustomMaskWarning: Custom mask layers require a config and must override get_config. When loading, the custom mask layer must be passed to the custom_objects argument.\n",
      "  warnings.warn('Custom mask layers require a config and must override '\n"
     ]
    },
    {
     "name": "stdout",
     "output_type": "stream",
     "text": [
      "Epoch 1/20\n",
      "\n",
      "Epoch 00001: LearningRateScheduler reducing learning rate to 0.01.\n",
      "1270/1270 [==============================] - 377s 288ms/step - loss: 0.7432 - categorical_accuracy: 0.5019 - val_loss: 0.6925 - val_categorical_accuracy: 0.5276\n",
      "\n",
      "Epoch 00001: val_categorical_accuracy improved from -inf to 0.52761, saving model to CheckPoints\n"
     ]
    },
    {
     "name": "stderr",
     "output_type": "stream",
     "text": [
      "C:\\Users\\csyi\\Anaconda3\\envs\\TF.2.5.0-GPU\\lib\\site-packages\\tensorflow\\python\\keras\\utils\\generic_utils.py:494: CustomMaskWarning: Custom mask layers require a config and must override get_config. When loading, the custom mask layer must be passed to the custom_objects argument.\n",
      "  warnings.warn('Custom mask layers require a config and must override '\n"
     ]
    },
    {
     "name": "stdout",
     "output_type": "stream",
     "text": [
      "INFO:tensorflow:Assets written to: CheckPoints\\assets\n",
      "Epoch 2/20\n",
      "\n",
      "Epoch 00002: LearningRateScheduler reducing learning rate to 0.009048374180359595.\n",
      "1270/1270 [==============================] - 364s 286ms/step - loss: 0.6943 - categorical_accuracy: 0.5216 - val_loss: 0.6829 - val_categorical_accuracy: 0.5515\n",
      "\n",
      "Epoch 00002: val_categorical_accuracy improved from 0.52761 to 0.55152, saving model to CheckPoints\n"
     ]
    },
    {
     "name": "stderr",
     "output_type": "stream",
     "text": [
      "C:\\Users\\csyi\\Anaconda3\\envs\\TF.2.5.0-GPU\\lib\\site-packages\\tensorflow\\python\\keras\\utils\\generic_utils.py:494: CustomMaskWarning: Custom mask layers require a config and must override get_config. When loading, the custom mask layer must be passed to the custom_objects argument.\n",
      "  warnings.warn('Custom mask layers require a config and must override '\n"
     ]
    },
    {
     "name": "stdout",
     "output_type": "stream",
     "text": [
      "INFO:tensorflow:Assets written to: CheckPoints\\assets\n",
      "Epoch 3/20\n",
      "\n",
      "Epoch 00003: LearningRateScheduler reducing learning rate to 0.008187307530779819.\n",
      "1270/1270 [==============================] - 368s 289ms/step - loss: 0.6840 - categorical_accuracy: 0.5594 - val_loss: 0.6903 - val_categorical_accuracy: 0.6177\n",
      "\n",
      "Epoch 00003: val_categorical_accuracy improved from 0.55152 to 0.61766, saving model to CheckPoints\n"
     ]
    },
    {
     "name": "stderr",
     "output_type": "stream",
     "text": [
      "C:\\Users\\csyi\\Anaconda3\\envs\\TF.2.5.0-GPU\\lib\\site-packages\\tensorflow\\python\\keras\\utils\\generic_utils.py:494: CustomMaskWarning: Custom mask layers require a config and must override get_config. When loading, the custom mask layer must be passed to the custom_objects argument.\n",
      "  warnings.warn('Custom mask layers require a config and must override '\n"
     ]
    },
    {
     "name": "stdout",
     "output_type": "stream",
     "text": [
      "INFO:tensorflow:Assets written to: CheckPoints\\assets\n",
      "Epoch 4/20\n",
      "\n",
      "Epoch 00004: LearningRateScheduler reducing learning rate to 0.007408182206817179.\n",
      "1270/1270 [==============================] - 386s 304ms/step - loss: 0.6470 - categorical_accuracy: 0.6288 - val_loss: 0.6353 - val_categorical_accuracy: 0.6463\n",
      "\n",
      "Epoch 00004: val_categorical_accuracy improved from 0.61766 to 0.64629, saving model to CheckPoints\n"
     ]
    },
    {
     "name": "stderr",
     "output_type": "stream",
     "text": [
      "C:\\Users\\csyi\\Anaconda3\\envs\\TF.2.5.0-GPU\\lib\\site-packages\\tensorflow\\python\\keras\\utils\\generic_utils.py:494: CustomMaskWarning: Custom mask layers require a config and must override get_config. When loading, the custom mask layer must be passed to the custom_objects argument.\n",
      "  warnings.warn('Custom mask layers require a config and must override '\n"
     ]
    },
    {
     "name": "stdout",
     "output_type": "stream",
     "text": [
      "INFO:tensorflow:Assets written to: CheckPoints\\assets\n",
      "Epoch 5/20\n",
      "\n",
      "Epoch 00005: LearningRateScheduler reducing learning rate to 0.006703200460356393.\n",
      "1270/1270 [==============================] - 361s 284ms/step - loss: 0.6097 - categorical_accuracy: 0.6758 - val_loss: 0.6371 - val_categorical_accuracy: 0.6619\n",
      "\n",
      "Epoch 00005: val_categorical_accuracy improved from 0.64629 to 0.66194, saving model to CheckPoints\n"
     ]
    },
    {
     "name": "stderr",
     "output_type": "stream",
     "text": [
      "C:\\Users\\csyi\\Anaconda3\\envs\\TF.2.5.0-GPU\\lib\\site-packages\\tensorflow\\python\\keras\\utils\\generic_utils.py:494: CustomMaskWarning: Custom mask layers require a config and must override get_config. When loading, the custom mask layer must be passed to the custom_objects argument.\n",
      "  warnings.warn('Custom mask layers require a config and must override '\n"
     ]
    },
    {
     "name": "stdout",
     "output_type": "stream",
     "text": [
      "INFO:tensorflow:Assets written to: CheckPoints\\assets\n",
      "Epoch 6/20\n",
      "\n",
      "Epoch 00006: LearningRateScheduler reducing learning rate to 0.006065306597126334.\n",
      "1270/1270 [==============================] - 362s 284ms/step - loss: 0.5528 - categorical_accuracy: 0.7277 - val_loss: 0.5409 - val_categorical_accuracy: 0.7360\n",
      "\n",
      "Epoch 00006: val_categorical_accuracy improved from 0.66194 to 0.73605, saving model to CheckPoints\n"
     ]
    },
    {
     "name": "stderr",
     "output_type": "stream",
     "text": [
      "C:\\Users\\csyi\\Anaconda3\\envs\\TF.2.5.0-GPU\\lib\\site-packages\\tensorflow\\python\\keras\\utils\\generic_utils.py:494: CustomMaskWarning: Custom mask layers require a config and must override get_config. When loading, the custom mask layer must be passed to the custom_objects argument.\n",
      "  warnings.warn('Custom mask layers require a config and must override '\n"
     ]
    },
    {
     "name": "stdout",
     "output_type": "stream",
     "text": [
      "INFO:tensorflow:Assets written to: CheckPoints\\assets\n",
      "Epoch 7/20\n",
      "\n",
      "Epoch 00007: LearningRateScheduler reducing learning rate to 0.005488116360940264.\n",
      "1270/1270 [==============================] - 364s 287ms/step - loss: 0.5058 - categorical_accuracy: 0.7552 - val_loss: 0.6005 - val_categorical_accuracy: 0.6800\n",
      "\n",
      "Epoch 00007: val_categorical_accuracy did not improve from 0.73605\n",
      "Epoch 8/20\n",
      "\n",
      "Epoch 00008: LearningRateScheduler reducing learning rate to 0.004965853037914095.\n",
      "1270/1270 [==============================] - 364s 286ms/step - loss: 0.4730 - categorical_accuracy: 0.7775 - val_loss: 0.4243 - val_categorical_accuracy: 0.8093\n",
      "\n",
      "Epoch 00008: val_categorical_accuracy improved from 0.73605 to 0.80927, saving model to CheckPoints\n"
     ]
    },
    {
     "name": "stderr",
     "output_type": "stream",
     "text": [
      "C:\\Users\\csyi\\Anaconda3\\envs\\TF.2.5.0-GPU\\lib\\site-packages\\tensorflow\\python\\keras\\utils\\generic_utils.py:494: CustomMaskWarning: Custom mask layers require a config and must override get_config. When loading, the custom mask layer must be passed to the custom_objects argument.\n",
      "  warnings.warn('Custom mask layers require a config and must override '\n"
     ]
    },
    {
     "name": "stdout",
     "output_type": "stream",
     "text": [
      "INFO:tensorflow:Assets written to: CheckPoints\\assets\n",
      "Epoch 9/20\n",
      "\n",
      "Epoch 00009: LearningRateScheduler reducing learning rate to 0.004493289641172216.\n",
      "1270/1270 [==============================] - 362s 284ms/step - loss: 0.4950 - categorical_accuracy: 0.7568 - val_loss: 0.4115 - val_categorical_accuracy: 0.8045\n",
      "\n",
      "Epoch 00009: val_categorical_accuracy did not improve from 0.80927\n",
      "Epoch 10/20\n",
      "\n",
      "Epoch 00010: LearningRateScheduler reducing learning rate to 0.004065696597405992.\n",
      "1270/1270 [==============================] - 361s 284ms/step - loss: 0.4524 - categorical_accuracy: 0.7911 - val_loss: 0.4025 - val_categorical_accuracy: 0.8205\n",
      "\n",
      "Epoch 00010: val_categorical_accuracy improved from 0.80927 to 0.82049, saving model to CheckPoints\n"
     ]
    },
    {
     "name": "stderr",
     "output_type": "stream",
     "text": [
      "C:\\Users\\csyi\\Anaconda3\\envs\\TF.2.5.0-GPU\\lib\\site-packages\\tensorflow\\python\\keras\\utils\\generic_utils.py:494: CustomMaskWarning: Custom mask layers require a config and must override get_config. When loading, the custom mask layer must be passed to the custom_objects argument.\n",
      "  warnings.warn('Custom mask layers require a config and must override '\n"
     ]
    },
    {
     "name": "stdout",
     "output_type": "stream",
     "text": [
      "INFO:tensorflow:Assets written to: CheckPoints\\assets\n",
      "Epoch 11/20\n",
      "\n",
      "Epoch 00011: LearningRateScheduler reducing learning rate to 0.0036787944117144234.\n",
      "1270/1270 [==============================] - 361s 284ms/step - loss: 0.4193 - categorical_accuracy: 0.8087 - val_loss: 0.3825 - val_categorical_accuracy: 0.8282\n",
      "\n",
      "Epoch 00011: val_categorical_accuracy improved from 0.82049 to 0.82817, saving model to CheckPoints\n"
     ]
    },
    {
     "name": "stderr",
     "output_type": "stream",
     "text": [
      "C:\\Users\\csyi\\Anaconda3\\envs\\TF.2.5.0-GPU\\lib\\site-packages\\tensorflow\\python\\keras\\utils\\generic_utils.py:494: CustomMaskWarning: Custom mask layers require a config and must override get_config. When loading, the custom mask layer must be passed to the custom_objects argument.\n",
      "  warnings.warn('Custom mask layers require a config and must override '\n"
     ]
    },
    {
     "name": "stdout",
     "output_type": "stream",
     "text": [
      "INFO:tensorflow:Assets written to: CheckPoints\\assets\n",
      "Epoch 12/20\n",
      "\n",
      "Epoch 00012: LearningRateScheduler reducing learning rate to 0.003328710836980796.\n",
      "1270/1270 [==============================] - 358s 282ms/step - loss: 0.4922 - categorical_accuracy: 0.7516 - val_loss: 0.4363 - val_categorical_accuracy: 0.7916\n",
      "\n",
      "Epoch 00012: val_categorical_accuracy did not improve from 0.82817\n",
      "Epoch 13/20\n",
      "\n",
      "Epoch 00013: LearningRateScheduler reducing learning rate to 0.0030119421191220205.\n",
      "1270/1270 [==============================] - 362s 285ms/step - loss: 0.4395 - categorical_accuracy: 0.7962 - val_loss: 0.3524 - val_categorical_accuracy: 0.8453\n",
      "\n",
      "Epoch 00013: val_categorical_accuracy improved from 0.82817 to 0.84529, saving model to CheckPoints\n"
     ]
    },
    {
     "name": "stderr",
     "output_type": "stream",
     "text": [
      "C:\\Users\\csyi\\Anaconda3\\envs\\TF.2.5.0-GPU\\lib\\site-packages\\tensorflow\\python\\keras\\utils\\generic_utils.py:494: CustomMaskWarning: Custom mask layers require a config and must override get_config. When loading, the custom mask layer must be passed to the custom_objects argument.\n",
      "  warnings.warn('Custom mask layers require a config and must override '\n"
     ]
    },
    {
     "name": "stdout",
     "output_type": "stream",
     "text": [
      "INFO:tensorflow:Assets written to: CheckPoints\\assets\n",
      "Epoch 14/20\n",
      "\n",
      "Epoch 00014: LearningRateScheduler reducing learning rate to 0.002725317930340126.\n",
      "1270/1270 [==============================] - 360s 283ms/step - loss: 0.3803 - categorical_accuracy: 0.8349 - val_loss: 0.3196 - val_categorical_accuracy: 0.8612\n",
      "\n",
      "Epoch 00014: val_categorical_accuracy improved from 0.84529 to 0.86123, saving model to CheckPoints\n"
     ]
    },
    {
     "name": "stderr",
     "output_type": "stream",
     "text": [
      "C:\\Users\\csyi\\Anaconda3\\envs\\TF.2.5.0-GPU\\lib\\site-packages\\tensorflow\\python\\keras\\utils\\generic_utils.py:494: CustomMaskWarning: Custom mask layers require a config and must override get_config. When loading, the custom mask layer must be passed to the custom_objects argument.\n",
      "  warnings.warn('Custom mask layers require a config and must override '\n"
     ]
    },
    {
     "name": "stdout",
     "output_type": "stream",
     "text": [
      "INFO:tensorflow:Assets written to: CheckPoints\\assets\n",
      "Epoch 15/20\n",
      "\n",
      "Epoch 00015: LearningRateScheduler reducing learning rate to 0.0024659696394160645.\n",
      "1270/1270 [==============================] - 360s 283ms/step - loss: 0.3667 - categorical_accuracy: 0.8394 - val_loss: 0.3456 - val_categorical_accuracy: 0.8435\n",
      "\n",
      "Epoch 00015: val_categorical_accuracy did not improve from 0.86123\n",
      "Epoch 16/20\n",
      "\n",
      "Epoch 00016: LearningRateScheduler reducing learning rate to 0.0022313016014842983.\n",
      "1270/1270 [==============================] - 364s 286ms/step - loss: 0.3458 - categorical_accuracy: 0.8473 - val_loss: 0.3210 - val_categorical_accuracy: 0.8598\n",
      "\n",
      "Epoch 00016: val_categorical_accuracy did not improve from 0.86123\n",
      "Epoch 17/20\n",
      "\n",
      "Epoch 00017: LearningRateScheduler reducing learning rate to 0.002018965179946554.\n",
      "1270/1270 [==============================] - 366s 288ms/step - loss: 0.3237 - categorical_accuracy: 0.8642 - val_loss: 0.3279 - val_categorical_accuracy: 0.8512\n",
      "\n",
      "Epoch 00017: val_categorical_accuracy did not improve from 0.86123\n",
      "Epoch 18/20\n",
      "\n",
      "Epoch 00018: LearningRateScheduler reducing learning rate to 0.001826835240527346.\n",
      "1270/1270 [==============================] - 363s 286ms/step - loss: 0.3087 - categorical_accuracy: 0.8689 - val_loss: 0.3474 - val_categorical_accuracy: 0.8515\n",
      "\n",
      "Epoch 00018: val_categorical_accuracy did not improve from 0.86123\n",
      "Epoch 19/20\n",
      "\n",
      "Epoch 00019: LearningRateScheduler reducing learning rate to 0.0016529888822158654.\n",
      "1270/1270 [==============================] - 366s 288ms/step - loss: 0.2867 - categorical_accuracy: 0.8833 - val_loss: 0.3338 - val_categorical_accuracy: 0.8574\n",
      "\n",
      "Epoch 00019: val_categorical_accuracy did not improve from 0.86123\n",
      "Epoch 20/20\n",
      "\n",
      "Epoch 00020: LearningRateScheduler reducing learning rate to 0.0014956861922263505.\n",
      "1270/1270 [==============================] - 371s 292ms/step - loss: 0.2726 - categorical_accuracy: 0.8900 - val_loss: 0.3801 - val_categorical_accuracy: 0.8444\n",
      "\n",
      "Epoch 00020: val_categorical_accuracy did not improve from 0.86123\n"
     ]
    }
   ],
   "source": [
    "hist = model.fit(train_dataset,\n",
    "                 validation_data=val_dataset,\n",
    "                 callbacks=[lr_scheduler , cp , tb_callback],\n",
    "                 epochs = 20,\n",
    "                 verbose = 1 \n",
    ")"
   ]
  },
  {
   "cell_type": "code",
   "execution_count": null,
   "id": "29c1e5d6",
   "metadata": {},
   "outputs": [],
   "source": []
  }
 ],
 "metadata": {
  "kernelspec": {
   "display_name": "TF.2.5.0-GPU",
   "language": "python",
   "name": "tf.2.5.0-gpu"
  },
  "language_info": {
   "codemirror_mode": {
    "name": "ipython",
    "version": 3
   },
   "file_extension": ".py",
   "mimetype": "text/x-python",
   "name": "python",
   "nbconvert_exporter": "python",
   "pygments_lexer": "ipython3",
   "version": "3.9.5"
  }
 },
 "nbformat": 4,
 "nbformat_minor": 5
}
