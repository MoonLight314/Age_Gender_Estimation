{
 "cells": [
  {
   "cell_type": "code",
   "execution_count": 1,
   "id": "b3dbc4b6",
   "metadata": {},
   "outputs": [],
   "source": [
    "import numpy as np\n",
    "import pandas as pd\n",
    "import os\n",
    "import glob\n",
    "from tqdm import tqdm"
   ]
  },
  {
   "cell_type": "code",
   "execution_count": 2,
   "id": "daa814dc",
   "metadata": {},
   "outputs": [],
   "source": [
    "meta_data = pd.read_csv(\"meta_data_K-Face_High_Resolution.csv\")"
   ]
  },
  {
   "cell_type": "code",
   "execution_count": 3,
   "id": "ed53ebb4",
   "metadata": {},
   "outputs": [
    {
     "data": {
      "text/html": [
       "<div>\n",
       "<style scoped>\n",
       "    .dataframe tbody tr th:only-of-type {\n",
       "        vertical-align: middle;\n",
       "    }\n",
       "\n",
       "    .dataframe tbody tr th {\n",
       "        vertical-align: top;\n",
       "    }\n",
       "\n",
       "    .dataframe thead th {\n",
       "        text-align: right;\n",
       "    }\n",
       "</style>\n",
       "<table border=\"1\" class=\"dataframe\">\n",
       "  <thead>\n",
       "    <tr style=\"text-align: right;\">\n",
       "      <th></th>\n",
       "      <th>file_path</th>\n",
       "    </tr>\n",
       "  </thead>\n",
       "  <tbody>\n",
       "    <tr>\n",
       "      <th>0</th>\n",
       "      <td>f:/High_Resolution\\19062421\\S001\\L1\\E01\\C1.jpg</td>\n",
       "    </tr>\n",
       "    <tr>\n",
       "      <th>1</th>\n",
       "      <td>f:/High_Resolution\\19062421\\S001\\L1\\E01\\C10.jpg</td>\n",
       "    </tr>\n",
       "    <tr>\n",
       "      <th>2</th>\n",
       "      <td>f:/High_Resolution\\19062421\\S001\\L1\\E01\\C11.jpg</td>\n",
       "    </tr>\n",
       "    <tr>\n",
       "      <th>3</th>\n",
       "      <td>f:/High_Resolution\\19062421\\S001\\L1\\E01\\C12.jpg</td>\n",
       "    </tr>\n",
       "    <tr>\n",
       "      <th>4</th>\n",
       "      <td>f:/High_Resolution\\19062421\\S001\\L1\\E01\\C13.jpg</td>\n",
       "    </tr>\n",
       "  </tbody>\n",
       "</table>\n",
       "</div>"
      ],
      "text/plain": [
       "                                         file_path\n",
       "0   f:/High_Resolution\\19062421\\S001\\L1\\E01\\C1.jpg\n",
       "1  f:/High_Resolution\\19062421\\S001\\L1\\E01\\C10.jpg\n",
       "2  f:/High_Resolution\\19062421\\S001\\L1\\E01\\C11.jpg\n",
       "3  f:/High_Resolution\\19062421\\S001\\L1\\E01\\C12.jpg\n",
       "4  f:/High_Resolution\\19062421\\S001\\L1\\E01\\C13.jpg"
      ]
     },
     "execution_count": 3,
     "metadata": {},
     "output_type": "execute_result"
    }
   ],
   "source": [
    "meta_data.head()"
   ]
  },
  {
   "cell_type": "code",
   "execution_count": 4,
   "id": "2ec937ec",
   "metadata": {},
   "outputs": [
    {
     "name": "stdout",
     "output_type": "stream",
     "text": [
      "<class 'pandas.core.frame.DataFrame'>\n",
      "RangeIndex: 4320000 entries, 0 to 4319999\n",
      "Data columns (total 1 columns):\n",
      " #   Column     Dtype \n",
      "---  ------     ----- \n",
      " 0   file_path  object\n",
      "dtypes: object(1)\n",
      "memory usage: 33.0+ MB\n"
     ]
    }
   ],
   "source": [
    "meta_data.info()"
   ]
  },
  {
   "cell_type": "code",
   "execution_count": 5,
   "id": "3e36ea16",
   "metadata": {},
   "outputs": [],
   "source": [
    "drop_accessaries = ['S004' , 'S005' , 'S006']"
   ]
  },
  {
   "cell_type": "code",
   "execution_count": 6,
   "id": "d4877392",
   "metadata": {},
   "outputs": [],
   "source": [
    "def drop_acc( file_path ):\n",
    "    \n",
    "    for acc in drop_accessaries:\n",
    "        if acc in str(file_path):\n",
    "            return '미사용'\n",
    "        \n",
    "    return '사용'"
   ]
  },
  {
   "cell_type": "code",
   "execution_count": 7,
   "id": "cd962865",
   "metadata": {},
   "outputs": [],
   "source": [
    "meta_data['drop'] = meta_data['file_path'].apply( drop_acc )"
   ]
  },
  {
   "cell_type": "code",
   "execution_count": 8,
   "id": "a20bbd9b",
   "metadata": {},
   "outputs": [
    {
     "data": {
      "text/html": [
       "<div>\n",
       "<style scoped>\n",
       "    .dataframe tbody tr th:only-of-type {\n",
       "        vertical-align: middle;\n",
       "    }\n",
       "\n",
       "    .dataframe tbody tr th {\n",
       "        vertical-align: top;\n",
       "    }\n",
       "\n",
       "    .dataframe thead th {\n",
       "        text-align: right;\n",
       "    }\n",
       "</style>\n",
       "<table border=\"1\" class=\"dataframe\">\n",
       "  <thead>\n",
       "    <tr style=\"text-align: right;\">\n",
       "      <th></th>\n",
       "      <th>file_path</th>\n",
       "      <th>drop</th>\n",
       "    </tr>\n",
       "  </thead>\n",
       "  <tbody>\n",
       "    <tr>\n",
       "      <th>0</th>\n",
       "      <td>f:/High_Resolution\\19062421\\S001\\L1\\E01\\C1.jpg</td>\n",
       "      <td>사용</td>\n",
       "    </tr>\n",
       "    <tr>\n",
       "      <th>1</th>\n",
       "      <td>f:/High_Resolution\\19062421\\S001\\L1\\E01\\C10.jpg</td>\n",
       "      <td>사용</td>\n",
       "    </tr>\n",
       "    <tr>\n",
       "      <th>2</th>\n",
       "      <td>f:/High_Resolution\\19062421\\S001\\L1\\E01\\C11.jpg</td>\n",
       "      <td>사용</td>\n",
       "    </tr>\n",
       "    <tr>\n",
       "      <th>3</th>\n",
       "      <td>f:/High_Resolution\\19062421\\S001\\L1\\E01\\C12.jpg</td>\n",
       "      <td>사용</td>\n",
       "    </tr>\n",
       "    <tr>\n",
       "      <th>4</th>\n",
       "      <td>f:/High_Resolution\\19062421\\S001\\L1\\E01\\C13.jpg</td>\n",
       "      <td>사용</td>\n",
       "    </tr>\n",
       "  </tbody>\n",
       "</table>\n",
       "</div>"
      ],
      "text/plain": [
       "                                         file_path drop\n",
       "0   f:/High_Resolution\\19062421\\S001\\L1\\E01\\C1.jpg   사용\n",
       "1  f:/High_Resolution\\19062421\\S001\\L1\\E01\\C10.jpg   사용\n",
       "2  f:/High_Resolution\\19062421\\S001\\L1\\E01\\C11.jpg   사용\n",
       "3  f:/High_Resolution\\19062421\\S001\\L1\\E01\\C12.jpg   사용\n",
       "4  f:/High_Resolution\\19062421\\S001\\L1\\E01\\C13.jpg   사용"
      ]
     },
     "execution_count": 8,
     "metadata": {},
     "output_type": "execute_result"
    }
   ],
   "source": [
    "meta_data.head()"
   ]
  },
  {
   "cell_type": "code",
   "execution_count": 9,
   "id": "aef4bcb2",
   "metadata": {},
   "outputs": [
    {
     "data": {
      "text/plain": [
       "미사용    2160000\n",
       "사용     2160000\n",
       "Name: drop, dtype: int64"
      ]
     },
     "execution_count": 9,
     "metadata": {},
     "output_type": "execute_result"
    }
   ],
   "source": [
    "meta_data['drop'].value_counts()"
   ]
  },
  {
   "cell_type": "code",
   "execution_count": 10,
   "id": "7538799b",
   "metadata": {},
   "outputs": [],
   "source": [
    "meta_data.drop( meta_data[meta_data['drop'] == '미사용'].index , inplace=True)"
   ]
  },
  {
   "cell_type": "code",
   "execution_count": 11,
   "id": "d2491803",
   "metadata": {},
   "outputs": [],
   "source": [
    "meta_data.reset_index(drop=True , inplace=True)"
   ]
  },
  {
   "cell_type": "code",
   "execution_count": 12,
   "id": "2876bb2d",
   "metadata": {},
   "outputs": [
    {
     "name": "stdout",
     "output_type": "stream",
     "text": [
      "<class 'pandas.core.frame.DataFrame'>\n",
      "RangeIndex: 2160000 entries, 0 to 2159999\n",
      "Data columns (total 2 columns):\n",
      " #   Column     Dtype \n",
      "---  ------     ----- \n",
      " 0   file_path  object\n",
      " 1   drop       object\n",
      "dtypes: object(2)\n",
      "memory usage: 33.0+ MB\n"
     ]
    }
   ],
   "source": [
    "meta_data.info()"
   ]
  },
  {
   "cell_type": "code",
   "execution_count": 13,
   "id": "0df67008",
   "metadata": {},
   "outputs": [],
   "source": [
    "drop_lights = ['L1' , 'L2' , 'L3' , 'L4' , 'L8' ,'L9' ,'L12' ,'L13' ,'L22']"
   ]
  },
  {
   "cell_type": "code",
   "execution_count": 14,
   "id": "f28145be",
   "metadata": {},
   "outputs": [],
   "source": [
    "def drop_light( file_path ):\n",
    "    \n",
    "    for light in drop_lights:\n",
    "        if light in str(file_path):\n",
    "            return '사용'\n",
    "        \n",
    "    return '미사용'"
   ]
  },
  {
   "cell_type": "code",
   "execution_count": 15,
   "id": "3ce8ddd3",
   "metadata": {},
   "outputs": [],
   "source": [
    "meta_data['drop'] = meta_data['file_path'].apply( drop_light )"
   ]
  },
  {
   "cell_type": "code",
   "execution_count": 16,
   "id": "f454230d",
   "metadata": {},
   "outputs": [
    {
     "data": {
      "text/plain": [
       "사용     1944000\n",
       "미사용     216000\n",
       "Name: drop, dtype: int64"
      ]
     },
     "execution_count": 16,
     "metadata": {},
     "output_type": "execute_result"
    }
   ],
   "source": [
    "meta_data['drop'].value_counts()"
   ]
  },
  {
   "cell_type": "code",
   "execution_count": 17,
   "id": "9b7d67af",
   "metadata": {},
   "outputs": [],
   "source": [
    "meta_data.drop( meta_data[meta_data['drop'] == '미사용'].index , inplace=True)"
   ]
  },
  {
   "cell_type": "code",
   "execution_count": 18,
   "id": "e850339b",
   "metadata": {},
   "outputs": [],
   "source": [
    "meta_data.reset_index(drop=True , inplace=True)"
   ]
  },
  {
   "cell_type": "code",
   "execution_count": 19,
   "id": "bb0a31ff",
   "metadata": {},
   "outputs": [
    {
     "name": "stdout",
     "output_type": "stream",
     "text": [
      "<class 'pandas.core.frame.DataFrame'>\n",
      "RangeIndex: 1944000 entries, 0 to 1943999\n",
      "Data columns (total 2 columns):\n",
      " #   Column     Dtype \n",
      "---  ------     ----- \n",
      " 0   file_path  object\n",
      " 1   drop       object\n",
      "dtypes: object(2)\n",
      "memory usage: 29.7+ MB\n"
     ]
    }
   ],
   "source": [
    "meta_data.info()"
   ]
  },
  {
   "cell_type": "code",
   "execution_count": 20,
   "id": "6450c4bb",
   "metadata": {},
   "outputs": [
    {
     "data": {
      "text/html": [
       "<div>\n",
       "<style scoped>\n",
       "    .dataframe tbody tr th:only-of-type {\n",
       "        vertical-align: middle;\n",
       "    }\n",
       "\n",
       "    .dataframe tbody tr th {\n",
       "        vertical-align: top;\n",
       "    }\n",
       "\n",
       "    .dataframe thead th {\n",
       "        text-align: right;\n",
       "    }\n",
       "</style>\n",
       "<table border=\"1\" class=\"dataframe\">\n",
       "  <thead>\n",
       "    <tr style=\"text-align: right;\">\n",
       "      <th></th>\n",
       "      <th>file_path</th>\n",
       "      <th>drop</th>\n",
       "    </tr>\n",
       "  </thead>\n",
       "  <tbody>\n",
       "    <tr>\n",
       "      <th>0</th>\n",
       "      <td>f:/High_Resolution\\19062421\\S001\\L1\\E01\\C1.jpg</td>\n",
       "      <td>사용</td>\n",
       "    </tr>\n",
       "    <tr>\n",
       "      <th>1</th>\n",
       "      <td>f:/High_Resolution\\19062421\\S001\\L1\\E01\\C10.jpg</td>\n",
       "      <td>사용</td>\n",
       "    </tr>\n",
       "    <tr>\n",
       "      <th>2</th>\n",
       "      <td>f:/High_Resolution\\19062421\\S001\\L1\\E01\\C11.jpg</td>\n",
       "      <td>사용</td>\n",
       "    </tr>\n",
       "    <tr>\n",
       "      <th>3</th>\n",
       "      <td>f:/High_Resolution\\19062421\\S001\\L1\\E01\\C12.jpg</td>\n",
       "      <td>사용</td>\n",
       "    </tr>\n",
       "    <tr>\n",
       "      <th>4</th>\n",
       "      <td>f:/High_Resolution\\19062421\\S001\\L1\\E01\\C13.jpg</td>\n",
       "      <td>사용</td>\n",
       "    </tr>\n",
       "  </tbody>\n",
       "</table>\n",
       "</div>"
      ],
      "text/plain": [
       "                                         file_path drop\n",
       "0   f:/High_Resolution\\19062421\\S001\\L1\\E01\\C1.jpg   사용\n",
       "1  f:/High_Resolution\\19062421\\S001\\L1\\E01\\C10.jpg   사용\n",
       "2  f:/High_Resolution\\19062421\\S001\\L1\\E01\\C11.jpg   사용\n",
       "3  f:/High_Resolution\\19062421\\S001\\L1\\E01\\C12.jpg   사용\n",
       "4  f:/High_Resolution\\19062421\\S001\\L1\\E01\\C13.jpg   사용"
      ]
     },
     "execution_count": 20,
     "metadata": {},
     "output_type": "execute_result"
    }
   ],
   "source": [
    "meta_data.head()"
   ]
  },
  {
   "cell_type": "code",
   "execution_count": 21,
   "id": "133f0805",
   "metadata": {},
   "outputs": [
    {
     "data": {
      "text/plain": [
       "사용    1944000\n",
       "Name: drop, dtype: int64"
      ]
     },
     "execution_count": 21,
     "metadata": {},
     "output_type": "execute_result"
    }
   ],
   "source": [
    "meta_data['drop'].value_counts()"
   ]
  },
  {
   "cell_type": "code",
   "execution_count": 22,
   "id": "d0445af8",
   "metadata": {},
   "outputs": [],
   "source": [
    "drop_cam_pos = ['C4','C5','C6','C7','C8','C9','C10','C19','C20']"
   ]
  },
  {
   "cell_type": "code",
   "execution_count": 23,
   "id": "17dd5ff0",
   "metadata": {},
   "outputs": [],
   "source": [
    "def drop_cam( file_path ):\n",
    "    \n",
    "    for cam in drop_cam_pos:\n",
    "        if cam in str(file_path):\n",
    "            return '사용'\n",
    "        \n",
    "    return '미사용'"
   ]
  },
  {
   "cell_type": "code",
   "execution_count": 24,
   "id": "6d44b051",
   "metadata": {},
   "outputs": [],
   "source": [
    "meta_data['drop'] = meta_data['file_path'].apply( drop_cam )"
   ]
  },
  {
   "cell_type": "code",
   "execution_count": 25,
   "id": "681c3ff6",
   "metadata": {},
   "outputs": [],
   "source": [
    "meta_data.reset_index(drop=True , inplace=True)"
   ]
  },
  {
   "cell_type": "code",
   "execution_count": 26,
   "id": "221b7f96",
   "metadata": {},
   "outputs": [
    {
     "data": {
      "text/plain": [
       "미사용    1069200\n",
       "사용      874800\n",
       "Name: drop, dtype: int64"
      ]
     },
     "execution_count": 26,
     "metadata": {},
     "output_type": "execute_result"
    }
   ],
   "source": [
    "meta_data['drop'].value_counts()"
   ]
  },
  {
   "cell_type": "code",
   "execution_count": 27,
   "id": "667f70ee",
   "metadata": {},
   "outputs": [],
   "source": [
    "meta_data.drop( meta_data[meta_data['drop'] == '미사용'].index , inplace=True)"
   ]
  },
  {
   "cell_type": "code",
   "execution_count": 28,
   "id": "e1653713",
   "metadata": {},
   "outputs": [
    {
     "data": {
      "text/plain": [
       "사용    874800\n",
       "Name: drop, dtype: int64"
      ]
     },
     "execution_count": 28,
     "metadata": {},
     "output_type": "execute_result"
    }
   ],
   "source": [
    "meta_data['drop'].value_counts()"
   ]
  },
  {
   "cell_type": "code",
   "execution_count": null,
   "id": "b68318ec",
   "metadata": {},
   "outputs": [],
   "source": []
  },
  {
   "cell_type": "code",
   "execution_count": 30,
   "id": "6e39df15",
   "metadata": {},
   "outputs": [],
   "source": [
    "meta_data.reset_index(drop=True , inplace=True)"
   ]
  },
  {
   "cell_type": "code",
   "execution_count": 31,
   "id": "65de34e6",
   "metadata": {},
   "outputs": [
    {
     "data": {
      "text/html": [
       "<div>\n",
       "<style scoped>\n",
       "    .dataframe tbody tr th:only-of-type {\n",
       "        vertical-align: middle;\n",
       "    }\n",
       "\n",
       "    .dataframe tbody tr th {\n",
       "        vertical-align: top;\n",
       "    }\n",
       "\n",
       "    .dataframe thead th {\n",
       "        text-align: right;\n",
       "    }\n",
       "</style>\n",
       "<table border=\"1\" class=\"dataframe\">\n",
       "  <thead>\n",
       "    <tr style=\"text-align: right;\">\n",
       "      <th></th>\n",
       "      <th>file_path</th>\n",
       "      <th>drop</th>\n",
       "    </tr>\n",
       "  </thead>\n",
       "  <tbody>\n",
       "    <tr>\n",
       "      <th>0</th>\n",
       "      <td>f:/High_Resolution\\19062421\\S001\\L1\\E01\\C10.jpg</td>\n",
       "      <td>사용</td>\n",
       "    </tr>\n",
       "    <tr>\n",
       "      <th>1</th>\n",
       "      <td>f:/High_Resolution\\19062421\\S001\\L1\\E01\\C19.jpg</td>\n",
       "      <td>사용</td>\n",
       "    </tr>\n",
       "    <tr>\n",
       "      <th>2</th>\n",
       "      <td>f:/High_Resolution\\19062421\\S001\\L1\\E01\\C20.jpg</td>\n",
       "      <td>사용</td>\n",
       "    </tr>\n",
       "    <tr>\n",
       "      <th>3</th>\n",
       "      <td>f:/High_Resolution\\19062421\\S001\\L1\\E01\\C4.jpg</td>\n",
       "      <td>사용</td>\n",
       "    </tr>\n",
       "    <tr>\n",
       "      <th>4</th>\n",
       "      <td>f:/High_Resolution\\19062421\\S001\\L1\\E01\\C5.jpg</td>\n",
       "      <td>사용</td>\n",
       "    </tr>\n",
       "  </tbody>\n",
       "</table>\n",
       "</div>"
      ],
      "text/plain": [
       "                                         file_path drop\n",
       "0  f:/High_Resolution\\19062421\\S001\\L1\\E01\\C10.jpg   사용\n",
       "1  f:/High_Resolution\\19062421\\S001\\L1\\E01\\C19.jpg   사용\n",
       "2  f:/High_Resolution\\19062421\\S001\\L1\\E01\\C20.jpg   사용\n",
       "3   f:/High_Resolution\\19062421\\S001\\L1\\E01\\C4.jpg   사용\n",
       "4   f:/High_Resolution\\19062421\\S001\\L1\\E01\\C5.jpg   사용"
      ]
     },
     "execution_count": 31,
     "metadata": {},
     "output_type": "execute_result"
    }
   ],
   "source": [
    "meta_data.head()"
   ]
  },
  {
   "cell_type": "code",
   "execution_count": 32,
   "id": "e9ca348f",
   "metadata": {},
   "outputs": [
    {
     "name": "stdout",
     "output_type": "stream",
     "text": [
      "<class 'pandas.core.frame.DataFrame'>\n",
      "RangeIndex: 874800 entries, 0 to 874799\n",
      "Data columns (total 2 columns):\n",
      " #   Column     Non-Null Count   Dtype \n",
      "---  ------     --------------   ----- \n",
      " 0   file_path  874800 non-null  object\n",
      " 1   drop       874800 non-null  object\n",
      "dtypes: object(2)\n",
      "memory usage: 13.3+ MB\n"
     ]
    }
   ],
   "source": [
    "meta_data.info()"
   ]
  },
  {
   "cell_type": "code",
   "execution_count": 33,
   "id": "65d0a74a",
   "metadata": {},
   "outputs": [],
   "source": [
    "drop_looks = ['E01','E02']"
   ]
  },
  {
   "cell_type": "code",
   "execution_count": 34,
   "id": "f38f4b6e",
   "metadata": {},
   "outputs": [],
   "source": [
    "def drop_look( file_path ):\n",
    "    \n",
    "    for look in drop_looks:\n",
    "        if look in str(file_path):\n",
    "            return '사용'\n",
    "        \n",
    "    return '미사용'"
   ]
  },
  {
   "cell_type": "code",
   "execution_count": 35,
   "id": "b5074f4f",
   "metadata": {},
   "outputs": [],
   "source": [
    "meta_data['drop'] = meta_data['file_path'].apply( drop_look )"
   ]
  },
  {
   "cell_type": "code",
   "execution_count": 36,
   "id": "0bc162ae",
   "metadata": {},
   "outputs": [
    {
     "data": {
      "text/plain": [
       "사용     583200\n",
       "미사용    291600\n",
       "Name: drop, dtype: int64"
      ]
     },
     "execution_count": 36,
     "metadata": {},
     "output_type": "execute_result"
    }
   ],
   "source": [
    "meta_data['drop'].value_counts()"
   ]
  },
  {
   "cell_type": "code",
   "execution_count": 37,
   "id": "4741cf7c",
   "metadata": {},
   "outputs": [],
   "source": [
    "meta_data.drop( meta_data[meta_data['drop'] == '미사용'].index , inplace=True)"
   ]
  },
  {
   "cell_type": "code",
   "execution_count": 38,
   "id": "06133d0d",
   "metadata": {},
   "outputs": [],
   "source": [
    "meta_data.reset_index(drop=True , inplace=True)"
   ]
  },
  {
   "cell_type": "code",
   "execution_count": 39,
   "id": "488b86d4",
   "metadata": {},
   "outputs": [
    {
     "data": {
      "text/html": [
       "<div>\n",
       "<style scoped>\n",
       "    .dataframe tbody tr th:only-of-type {\n",
       "        vertical-align: middle;\n",
       "    }\n",
       "\n",
       "    .dataframe tbody tr th {\n",
       "        vertical-align: top;\n",
       "    }\n",
       "\n",
       "    .dataframe thead th {\n",
       "        text-align: right;\n",
       "    }\n",
       "</style>\n",
       "<table border=\"1\" class=\"dataframe\">\n",
       "  <thead>\n",
       "    <tr style=\"text-align: right;\">\n",
       "      <th></th>\n",
       "      <th>file_path</th>\n",
       "      <th>drop</th>\n",
       "    </tr>\n",
       "  </thead>\n",
       "  <tbody>\n",
       "    <tr>\n",
       "      <th>0</th>\n",
       "      <td>f:/High_Resolution\\19062421\\S001\\L1\\E01\\C10.jpg</td>\n",
       "      <td>사용</td>\n",
       "    </tr>\n",
       "    <tr>\n",
       "      <th>1</th>\n",
       "      <td>f:/High_Resolution\\19062421\\S001\\L1\\E01\\C19.jpg</td>\n",
       "      <td>사용</td>\n",
       "    </tr>\n",
       "    <tr>\n",
       "      <th>2</th>\n",
       "      <td>f:/High_Resolution\\19062421\\S001\\L1\\E01\\C20.jpg</td>\n",
       "      <td>사용</td>\n",
       "    </tr>\n",
       "    <tr>\n",
       "      <th>3</th>\n",
       "      <td>f:/High_Resolution\\19062421\\S001\\L1\\E01\\C4.jpg</td>\n",
       "      <td>사용</td>\n",
       "    </tr>\n",
       "    <tr>\n",
       "      <th>4</th>\n",
       "      <td>f:/High_Resolution\\19062421\\S001\\L1\\E01\\C5.jpg</td>\n",
       "      <td>사용</td>\n",
       "    </tr>\n",
       "  </tbody>\n",
       "</table>\n",
       "</div>"
      ],
      "text/plain": [
       "                                         file_path drop\n",
       "0  f:/High_Resolution\\19062421\\S001\\L1\\E01\\C10.jpg   사용\n",
       "1  f:/High_Resolution\\19062421\\S001\\L1\\E01\\C19.jpg   사용\n",
       "2  f:/High_Resolution\\19062421\\S001\\L1\\E01\\C20.jpg   사용\n",
       "3   f:/High_Resolution\\19062421\\S001\\L1\\E01\\C4.jpg   사용\n",
       "4   f:/High_Resolution\\19062421\\S001\\L1\\E01\\C5.jpg   사용"
      ]
     },
     "execution_count": 39,
     "metadata": {},
     "output_type": "execute_result"
    }
   ],
   "source": [
    "meta_data.head()"
   ]
  },
  {
   "cell_type": "code",
   "execution_count": 40,
   "id": "f2341b54",
   "metadata": {},
   "outputs": [
    {
     "data": {
      "text/plain": [
       "사용    583200\n",
       "Name: drop, dtype: int64"
      ]
     },
     "execution_count": 40,
     "metadata": {},
     "output_type": "execute_result"
    }
   ],
   "source": [
    "meta_data['drop'].value_counts()"
   ]
  },
  {
   "cell_type": "code",
   "execution_count": 41,
   "id": "c748041d",
   "metadata": {},
   "outputs": [
    {
     "name": "stdout",
     "output_type": "stream",
     "text": [
      "<class 'pandas.core.frame.DataFrame'>\n",
      "RangeIndex: 583200 entries, 0 to 583199\n",
      "Data columns (total 2 columns):\n",
      " #   Column     Non-Null Count   Dtype \n",
      "---  ------     --------------   ----- \n",
      " 0   file_path  583200 non-null  object\n",
      " 1   drop       583200 non-null  object\n",
      "dtypes: object(2)\n",
      "memory usage: 8.9+ MB\n"
     ]
    }
   ],
   "source": [
    "meta_data.info()"
   ]
  },
  {
   "cell_type": "code",
   "execution_count": 43,
   "id": "1dc8cb04",
   "metadata": {},
   "outputs": [],
   "source": [
    "meta_data.drop( 'drop', inplace=True , axis=1)"
   ]
  },
  {
   "cell_type": "code",
   "execution_count": 44,
   "id": "8df43980",
   "metadata": {},
   "outputs": [
    {
     "data": {
      "text/html": [
       "<div>\n",
       "<style scoped>\n",
       "    .dataframe tbody tr th:only-of-type {\n",
       "        vertical-align: middle;\n",
       "    }\n",
       "\n",
       "    .dataframe tbody tr th {\n",
       "        vertical-align: top;\n",
       "    }\n",
       "\n",
       "    .dataframe thead th {\n",
       "        text-align: right;\n",
       "    }\n",
       "</style>\n",
       "<table border=\"1\" class=\"dataframe\">\n",
       "  <thead>\n",
       "    <tr style=\"text-align: right;\">\n",
       "      <th></th>\n",
       "      <th>file_path</th>\n",
       "    </tr>\n",
       "  </thead>\n",
       "  <tbody>\n",
       "    <tr>\n",
       "      <th>0</th>\n",
       "      <td>f:/High_Resolution\\19062421\\S001\\L1\\E01\\C10.jpg</td>\n",
       "    </tr>\n",
       "    <tr>\n",
       "      <th>1</th>\n",
       "      <td>f:/High_Resolution\\19062421\\S001\\L1\\E01\\C19.jpg</td>\n",
       "    </tr>\n",
       "    <tr>\n",
       "      <th>2</th>\n",
       "      <td>f:/High_Resolution\\19062421\\S001\\L1\\E01\\C20.jpg</td>\n",
       "    </tr>\n",
       "    <tr>\n",
       "      <th>3</th>\n",
       "      <td>f:/High_Resolution\\19062421\\S001\\L1\\E01\\C4.jpg</td>\n",
       "    </tr>\n",
       "    <tr>\n",
       "      <th>4</th>\n",
       "      <td>f:/High_Resolution\\19062421\\S001\\L1\\E01\\C5.jpg</td>\n",
       "    </tr>\n",
       "    <tr>\n",
       "      <th>...</th>\n",
       "      <td>...</td>\n",
       "    </tr>\n",
       "    <tr>\n",
       "      <th>583195</th>\n",
       "      <td>f:/High_Resolution\\19101513\\S003\\L9\\E02\\C5.jpg</td>\n",
       "    </tr>\n",
       "    <tr>\n",
       "      <th>583196</th>\n",
       "      <td>f:/High_Resolution\\19101513\\S003\\L9\\E02\\C6.jpg</td>\n",
       "    </tr>\n",
       "    <tr>\n",
       "      <th>583197</th>\n",
       "      <td>f:/High_Resolution\\19101513\\S003\\L9\\E02\\C7.jpg</td>\n",
       "    </tr>\n",
       "    <tr>\n",
       "      <th>583198</th>\n",
       "      <td>f:/High_Resolution\\19101513\\S003\\L9\\E02\\C8.jpg</td>\n",
       "    </tr>\n",
       "    <tr>\n",
       "      <th>583199</th>\n",
       "      <td>f:/High_Resolution\\19101513\\S003\\L9\\E02\\C9.jpg</td>\n",
       "    </tr>\n",
       "  </tbody>\n",
       "</table>\n",
       "<p>583200 rows × 1 columns</p>\n",
       "</div>"
      ],
      "text/plain": [
       "                                              file_path\n",
       "0       f:/High_Resolution\\19062421\\S001\\L1\\E01\\C10.jpg\n",
       "1       f:/High_Resolution\\19062421\\S001\\L1\\E01\\C19.jpg\n",
       "2       f:/High_Resolution\\19062421\\S001\\L1\\E01\\C20.jpg\n",
       "3        f:/High_Resolution\\19062421\\S001\\L1\\E01\\C4.jpg\n",
       "4        f:/High_Resolution\\19062421\\S001\\L1\\E01\\C5.jpg\n",
       "...                                                 ...\n",
       "583195   f:/High_Resolution\\19101513\\S003\\L9\\E02\\C5.jpg\n",
       "583196   f:/High_Resolution\\19101513\\S003\\L9\\E02\\C6.jpg\n",
       "583197   f:/High_Resolution\\19101513\\S003\\L9\\E02\\C7.jpg\n",
       "583198   f:/High_Resolution\\19101513\\S003\\L9\\E02\\C8.jpg\n",
       "583199   f:/High_Resolution\\19101513\\S003\\L9\\E02\\C9.jpg\n",
       "\n",
       "[583200 rows x 1 columns]"
      ]
     },
     "execution_count": 44,
     "metadata": {},
     "output_type": "execute_result"
    }
   ],
   "source": [
    "meta_data"
   ]
  },
  {
   "cell_type": "code",
   "execution_count": 64,
   "id": "e1cfa1c7",
   "metadata": {},
   "outputs": [],
   "source": [
    "def get_ID(file_path):\n",
    "    ID = str(file_path)[19:27]\n",
    "    return int(ID)"
   ]
  },
  {
   "cell_type": "code",
   "execution_count": 65,
   "id": "291414ed",
   "metadata": {},
   "outputs": [],
   "source": [
    "meta_data['ID'] = meta_data['file_path'].apply(get_ID)"
   ]
  },
  {
   "cell_type": "code",
   "execution_count": 66,
   "id": "8880c911",
   "metadata": {},
   "outputs": [
    {
     "data": {
      "text/html": [
       "<div>\n",
       "<style scoped>\n",
       "    .dataframe tbody tr th:only-of-type {\n",
       "        vertical-align: middle;\n",
       "    }\n",
       "\n",
       "    .dataframe tbody tr th {\n",
       "        vertical-align: top;\n",
       "    }\n",
       "\n",
       "    .dataframe thead th {\n",
       "        text-align: right;\n",
       "    }\n",
       "</style>\n",
       "<table border=\"1\" class=\"dataframe\">\n",
       "  <thead>\n",
       "    <tr style=\"text-align: right;\">\n",
       "      <th></th>\n",
       "      <th>file_path</th>\n",
       "      <th>ID</th>\n",
       "    </tr>\n",
       "  </thead>\n",
       "  <tbody>\n",
       "    <tr>\n",
       "      <th>0</th>\n",
       "      <td>f:/High_Resolution\\19062421\\S001\\L1\\E01\\C10.jpg</td>\n",
       "      <td>19062421</td>\n",
       "    </tr>\n",
       "    <tr>\n",
       "      <th>1</th>\n",
       "      <td>f:/High_Resolution\\19062421\\S001\\L1\\E01\\C19.jpg</td>\n",
       "      <td>19062421</td>\n",
       "    </tr>\n",
       "    <tr>\n",
       "      <th>2</th>\n",
       "      <td>f:/High_Resolution\\19062421\\S001\\L1\\E01\\C20.jpg</td>\n",
       "      <td>19062421</td>\n",
       "    </tr>\n",
       "    <tr>\n",
       "      <th>3</th>\n",
       "      <td>f:/High_Resolution\\19062421\\S001\\L1\\E01\\C4.jpg</td>\n",
       "      <td>19062421</td>\n",
       "    </tr>\n",
       "    <tr>\n",
       "      <th>4</th>\n",
       "      <td>f:/High_Resolution\\19062421\\S001\\L1\\E01\\C5.jpg</td>\n",
       "      <td>19062421</td>\n",
       "    </tr>\n",
       "  </tbody>\n",
       "</table>\n",
       "</div>"
      ],
      "text/plain": [
       "                                         file_path        ID\n",
       "0  f:/High_Resolution\\19062421\\S001\\L1\\E01\\C10.jpg  19062421\n",
       "1  f:/High_Resolution\\19062421\\S001\\L1\\E01\\C19.jpg  19062421\n",
       "2  f:/High_Resolution\\19062421\\S001\\L1\\E01\\C20.jpg  19062421\n",
       "3   f:/High_Resolution\\19062421\\S001\\L1\\E01\\C4.jpg  19062421\n",
       "4   f:/High_Resolution\\19062421\\S001\\L1\\E01\\C5.jpg  19062421"
      ]
     },
     "execution_count": 66,
     "metadata": {},
     "output_type": "execute_result"
    }
   ],
   "source": [
    "meta_data.head()"
   ]
  },
  {
   "cell_type": "code",
   "execution_count": null,
   "id": "4e6d10f6",
   "metadata": {},
   "outputs": [],
   "source": []
  },
  {
   "cell_type": "code",
   "execution_count": null,
   "id": "3846b1f6",
   "metadata": {},
   "outputs": [],
   "source": []
  },
  {
   "cell_type": "code",
   "execution_count": 47,
   "id": "cad1a2d0",
   "metadata": {},
   "outputs": [],
   "source": [
    "additional_info = pd.read_csv(\"KFace_data_information_Folder1_400.csv\")"
   ]
  },
  {
   "cell_type": "code",
   "execution_count": 50,
   "id": "e2c5e3f8",
   "metadata": {},
   "outputs": [
    {
     "data": {
      "text/html": [
       "<div>\n",
       "<style scoped>\n",
       "    .dataframe tbody tr th:only-of-type {\n",
       "        vertical-align: middle;\n",
       "    }\n",
       "\n",
       "    .dataframe tbody tr th {\n",
       "        vertical-align: top;\n",
       "    }\n",
       "\n",
       "    .dataframe thead th {\n",
       "        text-align: right;\n",
       "    }\n",
       "</style>\n",
       "<table border=\"1\" class=\"dataframe\">\n",
       "  <thead>\n",
       "    <tr style=\"text-align: right;\">\n",
       "      <th></th>\n",
       "      <th>ID</th>\n",
       "      <th>연령대</th>\n",
       "      <th>성별</th>\n",
       "    </tr>\n",
       "  </thead>\n",
       "  <tbody>\n",
       "    <tr>\n",
       "      <th>0</th>\n",
       "      <td>19062421</td>\n",
       "      <td>30대</td>\n",
       "      <td>남</td>\n",
       "    </tr>\n",
       "    <tr>\n",
       "      <th>1</th>\n",
       "      <td>19062431</td>\n",
       "      <td>40대</td>\n",
       "      <td>남</td>\n",
       "    </tr>\n",
       "    <tr>\n",
       "      <th>2</th>\n",
       "      <td>19062521</td>\n",
       "      <td>50대</td>\n",
       "      <td>여</td>\n",
       "    </tr>\n",
       "    <tr>\n",
       "      <th>3</th>\n",
       "      <td>19062531</td>\n",
       "      <td>40대</td>\n",
       "      <td>여</td>\n",
       "    </tr>\n",
       "    <tr>\n",
       "      <th>4</th>\n",
       "      <td>19062542</td>\n",
       "      <td>30대</td>\n",
       "      <td>여</td>\n",
       "    </tr>\n",
       "  </tbody>\n",
       "</table>\n",
       "</div>"
      ],
      "text/plain": [
       "         ID  연령대 성별\n",
       "0  19062421  30대  남\n",
       "1  19062431  40대  남\n",
       "2  19062521  50대  여\n",
       "3  19062531  40대  여\n",
       "4  19062542  30대  여"
      ]
     },
     "execution_count": 50,
     "metadata": {},
     "output_type": "execute_result"
    }
   ],
   "source": [
    "additional_info = additional_info[['ID' , '연령대' , '성별']]\n",
    "additional_info.head()"
   ]
  },
  {
   "cell_type": "code",
   "execution_count": 51,
   "id": "c28866d8",
   "metadata": {},
   "outputs": [
    {
     "name": "stdout",
     "output_type": "stream",
     "text": [
      "<class 'pandas.core.frame.DataFrame'>\n",
      "RangeIndex: 400 entries, 0 to 399\n",
      "Data columns (total 3 columns):\n",
      " #   Column  Non-Null Count  Dtype \n",
      "---  ------  --------------  ----- \n",
      " 0   ID      400 non-null    int64 \n",
      " 1   연령대     400 non-null    object\n",
      " 2   성별      400 non-null    object\n",
      "dtypes: int64(1), object(2)\n",
      "memory usage: 9.5+ KB\n"
     ]
    }
   ],
   "source": [
    "additional_info.info()"
   ]
  },
  {
   "cell_type": "code",
   "execution_count": 67,
   "id": "c36d13ca",
   "metadata": {},
   "outputs": [],
   "source": [
    "a = pd.merge(meta_data,\n",
    "             additional_info,\n",
    "             how='left',\n",
    "             on='ID'\n",
    "            )"
   ]
  },
  {
   "cell_type": "code",
   "execution_count": 69,
   "id": "17f4583f",
   "metadata": {},
   "outputs": [
    {
     "data": {
      "text/html": [
       "<div>\n",
       "<style scoped>\n",
       "    .dataframe tbody tr th:only-of-type {\n",
       "        vertical-align: middle;\n",
       "    }\n",
       "\n",
       "    .dataframe tbody tr th {\n",
       "        vertical-align: top;\n",
       "    }\n",
       "\n",
       "    .dataframe thead th {\n",
       "        text-align: right;\n",
       "    }\n",
       "</style>\n",
       "<table border=\"1\" class=\"dataframe\">\n",
       "  <thead>\n",
       "    <tr style=\"text-align: right;\">\n",
       "      <th></th>\n",
       "      <th>file_path</th>\n",
       "      <th>ID</th>\n",
       "      <th>연령대</th>\n",
       "      <th>성별</th>\n",
       "    </tr>\n",
       "  </thead>\n",
       "  <tbody>\n",
       "    <tr>\n",
       "      <th>583150</th>\n",
       "      <td>f:/High_Resolution\\19101513\\S003\\L4\\E01\\C5.jpg</td>\n",
       "      <td>19101513</td>\n",
       "      <td>20대</td>\n",
       "      <td>여</td>\n",
       "    </tr>\n",
       "    <tr>\n",
       "      <th>583151</th>\n",
       "      <td>f:/High_Resolution\\19101513\\S003\\L4\\E01\\C6.jpg</td>\n",
       "      <td>19101513</td>\n",
       "      <td>20대</td>\n",
       "      <td>여</td>\n",
       "    </tr>\n",
       "    <tr>\n",
       "      <th>583152</th>\n",
       "      <td>f:/High_Resolution\\19101513\\S003\\L4\\E01\\C7.jpg</td>\n",
       "      <td>19101513</td>\n",
       "      <td>20대</td>\n",
       "      <td>여</td>\n",
       "    </tr>\n",
       "    <tr>\n",
       "      <th>583153</th>\n",
       "      <td>f:/High_Resolution\\19101513\\S003\\L4\\E01\\C8.jpg</td>\n",
       "      <td>19101513</td>\n",
       "      <td>20대</td>\n",
       "      <td>여</td>\n",
       "    </tr>\n",
       "    <tr>\n",
       "      <th>583154</th>\n",
       "      <td>f:/High_Resolution\\19101513\\S003\\L4\\E01\\C9.jpg</td>\n",
       "      <td>19101513</td>\n",
       "      <td>20대</td>\n",
       "      <td>여</td>\n",
       "    </tr>\n",
       "    <tr>\n",
       "      <th>583155</th>\n",
       "      <td>f:/High_Resolution\\19101513\\S003\\L4\\E02\\C10.jpg</td>\n",
       "      <td>19101513</td>\n",
       "      <td>20대</td>\n",
       "      <td>여</td>\n",
       "    </tr>\n",
       "    <tr>\n",
       "      <th>583156</th>\n",
       "      <td>f:/High_Resolution\\19101513\\S003\\L4\\E02\\C19.jpg</td>\n",
       "      <td>19101513</td>\n",
       "      <td>20대</td>\n",
       "      <td>여</td>\n",
       "    </tr>\n",
       "    <tr>\n",
       "      <th>583157</th>\n",
       "      <td>f:/High_Resolution\\19101513\\S003\\L4\\E02\\C20.jpg</td>\n",
       "      <td>19101513</td>\n",
       "      <td>20대</td>\n",
       "      <td>여</td>\n",
       "    </tr>\n",
       "    <tr>\n",
       "      <th>583158</th>\n",
       "      <td>f:/High_Resolution\\19101513\\S003\\L4\\E02\\C4.jpg</td>\n",
       "      <td>19101513</td>\n",
       "      <td>20대</td>\n",
       "      <td>여</td>\n",
       "    </tr>\n",
       "    <tr>\n",
       "      <th>583159</th>\n",
       "      <td>f:/High_Resolution\\19101513\\S003\\L4\\E02\\C5.jpg</td>\n",
       "      <td>19101513</td>\n",
       "      <td>20대</td>\n",
       "      <td>여</td>\n",
       "    </tr>\n",
       "    <tr>\n",
       "      <th>583160</th>\n",
       "      <td>f:/High_Resolution\\19101513\\S003\\L4\\E02\\C6.jpg</td>\n",
       "      <td>19101513</td>\n",
       "      <td>20대</td>\n",
       "      <td>여</td>\n",
       "    </tr>\n",
       "    <tr>\n",
       "      <th>583161</th>\n",
       "      <td>f:/High_Resolution\\19101513\\S003\\L4\\E02\\C7.jpg</td>\n",
       "      <td>19101513</td>\n",
       "      <td>20대</td>\n",
       "      <td>여</td>\n",
       "    </tr>\n",
       "    <tr>\n",
       "      <th>583162</th>\n",
       "      <td>f:/High_Resolution\\19101513\\S003\\L4\\E02\\C8.jpg</td>\n",
       "      <td>19101513</td>\n",
       "      <td>20대</td>\n",
       "      <td>여</td>\n",
       "    </tr>\n",
       "    <tr>\n",
       "      <th>583163</th>\n",
       "      <td>f:/High_Resolution\\19101513\\S003\\L4\\E02\\C9.jpg</td>\n",
       "      <td>19101513</td>\n",
       "      <td>20대</td>\n",
       "      <td>여</td>\n",
       "    </tr>\n",
       "    <tr>\n",
       "      <th>583164</th>\n",
       "      <td>f:/High_Resolution\\19101513\\S003\\L8\\E01\\C10.jpg</td>\n",
       "      <td>19101513</td>\n",
       "      <td>20대</td>\n",
       "      <td>여</td>\n",
       "    </tr>\n",
       "    <tr>\n",
       "      <th>583165</th>\n",
       "      <td>f:/High_Resolution\\19101513\\S003\\L8\\E01\\C19.jpg</td>\n",
       "      <td>19101513</td>\n",
       "      <td>20대</td>\n",
       "      <td>여</td>\n",
       "    </tr>\n",
       "    <tr>\n",
       "      <th>583166</th>\n",
       "      <td>f:/High_Resolution\\19101513\\S003\\L8\\E01\\C20.jpg</td>\n",
       "      <td>19101513</td>\n",
       "      <td>20대</td>\n",
       "      <td>여</td>\n",
       "    </tr>\n",
       "    <tr>\n",
       "      <th>583167</th>\n",
       "      <td>f:/High_Resolution\\19101513\\S003\\L8\\E01\\C4.jpg</td>\n",
       "      <td>19101513</td>\n",
       "      <td>20대</td>\n",
       "      <td>여</td>\n",
       "    </tr>\n",
       "    <tr>\n",
       "      <th>583168</th>\n",
       "      <td>f:/High_Resolution\\19101513\\S003\\L8\\E01\\C5.jpg</td>\n",
       "      <td>19101513</td>\n",
       "      <td>20대</td>\n",
       "      <td>여</td>\n",
       "    </tr>\n",
       "    <tr>\n",
       "      <th>583169</th>\n",
       "      <td>f:/High_Resolution\\19101513\\S003\\L8\\E01\\C6.jpg</td>\n",
       "      <td>19101513</td>\n",
       "      <td>20대</td>\n",
       "      <td>여</td>\n",
       "    </tr>\n",
       "    <tr>\n",
       "      <th>583170</th>\n",
       "      <td>f:/High_Resolution\\19101513\\S003\\L8\\E01\\C7.jpg</td>\n",
       "      <td>19101513</td>\n",
       "      <td>20대</td>\n",
       "      <td>여</td>\n",
       "    </tr>\n",
       "    <tr>\n",
       "      <th>583171</th>\n",
       "      <td>f:/High_Resolution\\19101513\\S003\\L8\\E01\\C8.jpg</td>\n",
       "      <td>19101513</td>\n",
       "      <td>20대</td>\n",
       "      <td>여</td>\n",
       "    </tr>\n",
       "    <tr>\n",
       "      <th>583172</th>\n",
       "      <td>f:/High_Resolution\\19101513\\S003\\L8\\E01\\C9.jpg</td>\n",
       "      <td>19101513</td>\n",
       "      <td>20대</td>\n",
       "      <td>여</td>\n",
       "    </tr>\n",
       "    <tr>\n",
       "      <th>583173</th>\n",
       "      <td>f:/High_Resolution\\19101513\\S003\\L8\\E02\\C10.jpg</td>\n",
       "      <td>19101513</td>\n",
       "      <td>20대</td>\n",
       "      <td>여</td>\n",
       "    </tr>\n",
       "    <tr>\n",
       "      <th>583174</th>\n",
       "      <td>f:/High_Resolution\\19101513\\S003\\L8\\E02\\C19.jpg</td>\n",
       "      <td>19101513</td>\n",
       "      <td>20대</td>\n",
       "      <td>여</td>\n",
       "    </tr>\n",
       "    <tr>\n",
       "      <th>583175</th>\n",
       "      <td>f:/High_Resolution\\19101513\\S003\\L8\\E02\\C20.jpg</td>\n",
       "      <td>19101513</td>\n",
       "      <td>20대</td>\n",
       "      <td>여</td>\n",
       "    </tr>\n",
       "    <tr>\n",
       "      <th>583176</th>\n",
       "      <td>f:/High_Resolution\\19101513\\S003\\L8\\E02\\C4.jpg</td>\n",
       "      <td>19101513</td>\n",
       "      <td>20대</td>\n",
       "      <td>여</td>\n",
       "    </tr>\n",
       "    <tr>\n",
       "      <th>583177</th>\n",
       "      <td>f:/High_Resolution\\19101513\\S003\\L8\\E02\\C5.jpg</td>\n",
       "      <td>19101513</td>\n",
       "      <td>20대</td>\n",
       "      <td>여</td>\n",
       "    </tr>\n",
       "    <tr>\n",
       "      <th>583178</th>\n",
       "      <td>f:/High_Resolution\\19101513\\S003\\L8\\E02\\C6.jpg</td>\n",
       "      <td>19101513</td>\n",
       "      <td>20대</td>\n",
       "      <td>여</td>\n",
       "    </tr>\n",
       "    <tr>\n",
       "      <th>583179</th>\n",
       "      <td>f:/High_Resolution\\19101513\\S003\\L8\\E02\\C7.jpg</td>\n",
       "      <td>19101513</td>\n",
       "      <td>20대</td>\n",
       "      <td>여</td>\n",
       "    </tr>\n",
       "    <tr>\n",
       "      <th>583180</th>\n",
       "      <td>f:/High_Resolution\\19101513\\S003\\L8\\E02\\C8.jpg</td>\n",
       "      <td>19101513</td>\n",
       "      <td>20대</td>\n",
       "      <td>여</td>\n",
       "    </tr>\n",
       "    <tr>\n",
       "      <th>583181</th>\n",
       "      <td>f:/High_Resolution\\19101513\\S003\\L8\\E02\\C9.jpg</td>\n",
       "      <td>19101513</td>\n",
       "      <td>20대</td>\n",
       "      <td>여</td>\n",
       "    </tr>\n",
       "    <tr>\n",
       "      <th>583182</th>\n",
       "      <td>f:/High_Resolution\\19101513\\S003\\L9\\E01\\C10.jpg</td>\n",
       "      <td>19101513</td>\n",
       "      <td>20대</td>\n",
       "      <td>여</td>\n",
       "    </tr>\n",
       "    <tr>\n",
       "      <th>583183</th>\n",
       "      <td>f:/High_Resolution\\19101513\\S003\\L9\\E01\\C19.jpg</td>\n",
       "      <td>19101513</td>\n",
       "      <td>20대</td>\n",
       "      <td>여</td>\n",
       "    </tr>\n",
       "    <tr>\n",
       "      <th>583184</th>\n",
       "      <td>f:/High_Resolution\\19101513\\S003\\L9\\E01\\C20.jpg</td>\n",
       "      <td>19101513</td>\n",
       "      <td>20대</td>\n",
       "      <td>여</td>\n",
       "    </tr>\n",
       "    <tr>\n",
       "      <th>583185</th>\n",
       "      <td>f:/High_Resolution\\19101513\\S003\\L9\\E01\\C4.jpg</td>\n",
       "      <td>19101513</td>\n",
       "      <td>20대</td>\n",
       "      <td>여</td>\n",
       "    </tr>\n",
       "    <tr>\n",
       "      <th>583186</th>\n",
       "      <td>f:/High_Resolution\\19101513\\S003\\L9\\E01\\C5.jpg</td>\n",
       "      <td>19101513</td>\n",
       "      <td>20대</td>\n",
       "      <td>여</td>\n",
       "    </tr>\n",
       "    <tr>\n",
       "      <th>583187</th>\n",
       "      <td>f:/High_Resolution\\19101513\\S003\\L9\\E01\\C6.jpg</td>\n",
       "      <td>19101513</td>\n",
       "      <td>20대</td>\n",
       "      <td>여</td>\n",
       "    </tr>\n",
       "    <tr>\n",
       "      <th>583188</th>\n",
       "      <td>f:/High_Resolution\\19101513\\S003\\L9\\E01\\C7.jpg</td>\n",
       "      <td>19101513</td>\n",
       "      <td>20대</td>\n",
       "      <td>여</td>\n",
       "    </tr>\n",
       "    <tr>\n",
       "      <th>583189</th>\n",
       "      <td>f:/High_Resolution\\19101513\\S003\\L9\\E01\\C8.jpg</td>\n",
       "      <td>19101513</td>\n",
       "      <td>20대</td>\n",
       "      <td>여</td>\n",
       "    </tr>\n",
       "    <tr>\n",
       "      <th>583190</th>\n",
       "      <td>f:/High_Resolution\\19101513\\S003\\L9\\E01\\C9.jpg</td>\n",
       "      <td>19101513</td>\n",
       "      <td>20대</td>\n",
       "      <td>여</td>\n",
       "    </tr>\n",
       "    <tr>\n",
       "      <th>583191</th>\n",
       "      <td>f:/High_Resolution\\19101513\\S003\\L9\\E02\\C10.jpg</td>\n",
       "      <td>19101513</td>\n",
       "      <td>20대</td>\n",
       "      <td>여</td>\n",
       "    </tr>\n",
       "    <tr>\n",
       "      <th>583192</th>\n",
       "      <td>f:/High_Resolution\\19101513\\S003\\L9\\E02\\C19.jpg</td>\n",
       "      <td>19101513</td>\n",
       "      <td>20대</td>\n",
       "      <td>여</td>\n",
       "    </tr>\n",
       "    <tr>\n",
       "      <th>583193</th>\n",
       "      <td>f:/High_Resolution\\19101513\\S003\\L9\\E02\\C20.jpg</td>\n",
       "      <td>19101513</td>\n",
       "      <td>20대</td>\n",
       "      <td>여</td>\n",
       "    </tr>\n",
       "    <tr>\n",
       "      <th>583194</th>\n",
       "      <td>f:/High_Resolution\\19101513\\S003\\L9\\E02\\C4.jpg</td>\n",
       "      <td>19101513</td>\n",
       "      <td>20대</td>\n",
       "      <td>여</td>\n",
       "    </tr>\n",
       "    <tr>\n",
       "      <th>583195</th>\n",
       "      <td>f:/High_Resolution\\19101513\\S003\\L9\\E02\\C5.jpg</td>\n",
       "      <td>19101513</td>\n",
       "      <td>20대</td>\n",
       "      <td>여</td>\n",
       "    </tr>\n",
       "    <tr>\n",
       "      <th>583196</th>\n",
       "      <td>f:/High_Resolution\\19101513\\S003\\L9\\E02\\C6.jpg</td>\n",
       "      <td>19101513</td>\n",
       "      <td>20대</td>\n",
       "      <td>여</td>\n",
       "    </tr>\n",
       "    <tr>\n",
       "      <th>583197</th>\n",
       "      <td>f:/High_Resolution\\19101513\\S003\\L9\\E02\\C7.jpg</td>\n",
       "      <td>19101513</td>\n",
       "      <td>20대</td>\n",
       "      <td>여</td>\n",
       "    </tr>\n",
       "    <tr>\n",
       "      <th>583198</th>\n",
       "      <td>f:/High_Resolution\\19101513\\S003\\L9\\E02\\C8.jpg</td>\n",
       "      <td>19101513</td>\n",
       "      <td>20대</td>\n",
       "      <td>여</td>\n",
       "    </tr>\n",
       "    <tr>\n",
       "      <th>583199</th>\n",
       "      <td>f:/High_Resolution\\19101513\\S003\\L9\\E02\\C9.jpg</td>\n",
       "      <td>19101513</td>\n",
       "      <td>20대</td>\n",
       "      <td>여</td>\n",
       "    </tr>\n",
       "  </tbody>\n",
       "</table>\n",
       "</div>"
      ],
      "text/plain": [
       "                                              file_path        ID  연령대 성별\n",
       "583150   f:/High_Resolution\\19101513\\S003\\L4\\E01\\C5.jpg  19101513  20대  여\n",
       "583151   f:/High_Resolution\\19101513\\S003\\L4\\E01\\C6.jpg  19101513  20대  여\n",
       "583152   f:/High_Resolution\\19101513\\S003\\L4\\E01\\C7.jpg  19101513  20대  여\n",
       "583153   f:/High_Resolution\\19101513\\S003\\L4\\E01\\C8.jpg  19101513  20대  여\n",
       "583154   f:/High_Resolution\\19101513\\S003\\L4\\E01\\C9.jpg  19101513  20대  여\n",
       "583155  f:/High_Resolution\\19101513\\S003\\L4\\E02\\C10.jpg  19101513  20대  여\n",
       "583156  f:/High_Resolution\\19101513\\S003\\L4\\E02\\C19.jpg  19101513  20대  여\n",
       "583157  f:/High_Resolution\\19101513\\S003\\L4\\E02\\C20.jpg  19101513  20대  여\n",
       "583158   f:/High_Resolution\\19101513\\S003\\L4\\E02\\C4.jpg  19101513  20대  여\n",
       "583159   f:/High_Resolution\\19101513\\S003\\L4\\E02\\C5.jpg  19101513  20대  여\n",
       "583160   f:/High_Resolution\\19101513\\S003\\L4\\E02\\C6.jpg  19101513  20대  여\n",
       "583161   f:/High_Resolution\\19101513\\S003\\L4\\E02\\C7.jpg  19101513  20대  여\n",
       "583162   f:/High_Resolution\\19101513\\S003\\L4\\E02\\C8.jpg  19101513  20대  여\n",
       "583163   f:/High_Resolution\\19101513\\S003\\L4\\E02\\C9.jpg  19101513  20대  여\n",
       "583164  f:/High_Resolution\\19101513\\S003\\L8\\E01\\C10.jpg  19101513  20대  여\n",
       "583165  f:/High_Resolution\\19101513\\S003\\L8\\E01\\C19.jpg  19101513  20대  여\n",
       "583166  f:/High_Resolution\\19101513\\S003\\L8\\E01\\C20.jpg  19101513  20대  여\n",
       "583167   f:/High_Resolution\\19101513\\S003\\L8\\E01\\C4.jpg  19101513  20대  여\n",
       "583168   f:/High_Resolution\\19101513\\S003\\L8\\E01\\C5.jpg  19101513  20대  여\n",
       "583169   f:/High_Resolution\\19101513\\S003\\L8\\E01\\C6.jpg  19101513  20대  여\n",
       "583170   f:/High_Resolution\\19101513\\S003\\L8\\E01\\C7.jpg  19101513  20대  여\n",
       "583171   f:/High_Resolution\\19101513\\S003\\L8\\E01\\C8.jpg  19101513  20대  여\n",
       "583172   f:/High_Resolution\\19101513\\S003\\L8\\E01\\C9.jpg  19101513  20대  여\n",
       "583173  f:/High_Resolution\\19101513\\S003\\L8\\E02\\C10.jpg  19101513  20대  여\n",
       "583174  f:/High_Resolution\\19101513\\S003\\L8\\E02\\C19.jpg  19101513  20대  여\n",
       "583175  f:/High_Resolution\\19101513\\S003\\L8\\E02\\C20.jpg  19101513  20대  여\n",
       "583176   f:/High_Resolution\\19101513\\S003\\L8\\E02\\C4.jpg  19101513  20대  여\n",
       "583177   f:/High_Resolution\\19101513\\S003\\L8\\E02\\C5.jpg  19101513  20대  여\n",
       "583178   f:/High_Resolution\\19101513\\S003\\L8\\E02\\C6.jpg  19101513  20대  여\n",
       "583179   f:/High_Resolution\\19101513\\S003\\L8\\E02\\C7.jpg  19101513  20대  여\n",
       "583180   f:/High_Resolution\\19101513\\S003\\L8\\E02\\C8.jpg  19101513  20대  여\n",
       "583181   f:/High_Resolution\\19101513\\S003\\L8\\E02\\C9.jpg  19101513  20대  여\n",
       "583182  f:/High_Resolution\\19101513\\S003\\L9\\E01\\C10.jpg  19101513  20대  여\n",
       "583183  f:/High_Resolution\\19101513\\S003\\L9\\E01\\C19.jpg  19101513  20대  여\n",
       "583184  f:/High_Resolution\\19101513\\S003\\L9\\E01\\C20.jpg  19101513  20대  여\n",
       "583185   f:/High_Resolution\\19101513\\S003\\L9\\E01\\C4.jpg  19101513  20대  여\n",
       "583186   f:/High_Resolution\\19101513\\S003\\L9\\E01\\C5.jpg  19101513  20대  여\n",
       "583187   f:/High_Resolution\\19101513\\S003\\L9\\E01\\C6.jpg  19101513  20대  여\n",
       "583188   f:/High_Resolution\\19101513\\S003\\L9\\E01\\C7.jpg  19101513  20대  여\n",
       "583189   f:/High_Resolution\\19101513\\S003\\L9\\E01\\C8.jpg  19101513  20대  여\n",
       "583190   f:/High_Resolution\\19101513\\S003\\L9\\E01\\C9.jpg  19101513  20대  여\n",
       "583191  f:/High_Resolution\\19101513\\S003\\L9\\E02\\C10.jpg  19101513  20대  여\n",
       "583192  f:/High_Resolution\\19101513\\S003\\L9\\E02\\C19.jpg  19101513  20대  여\n",
       "583193  f:/High_Resolution\\19101513\\S003\\L9\\E02\\C20.jpg  19101513  20대  여\n",
       "583194   f:/High_Resolution\\19101513\\S003\\L9\\E02\\C4.jpg  19101513  20대  여\n",
       "583195   f:/High_Resolution\\19101513\\S003\\L9\\E02\\C5.jpg  19101513  20대  여\n",
       "583196   f:/High_Resolution\\19101513\\S003\\L9\\E02\\C6.jpg  19101513  20대  여\n",
       "583197   f:/High_Resolution\\19101513\\S003\\L9\\E02\\C7.jpg  19101513  20대  여\n",
       "583198   f:/High_Resolution\\19101513\\S003\\L9\\E02\\C8.jpg  19101513  20대  여\n",
       "583199   f:/High_Resolution\\19101513\\S003\\L9\\E02\\C9.jpg  19101513  20대  여"
      ]
     },
     "execution_count": 69,
     "metadata": {},
     "output_type": "execute_result"
    }
   ],
   "source": [
    "a.tail(50)"
   ]
  },
  {
   "cell_type": "code",
   "execution_count": null,
   "id": "58a7da91",
   "metadata": {},
   "outputs": [],
   "source": []
  },
  {
   "cell_type": "code",
   "execution_count": null,
   "id": "1a90fba2",
   "metadata": {},
   "outputs": [],
   "source": []
  },
  {
   "cell_type": "code",
   "execution_count": null,
   "id": "01bc8d06",
   "metadata": {},
   "outputs": [],
   "source": []
  },
  {
   "cell_type": "code",
   "execution_count": null,
   "id": "d0909503",
   "metadata": {},
   "outputs": [],
   "source": []
  },
  {
   "cell_type": "code",
   "execution_count": 71,
   "id": "ff0c10d3",
   "metadata": {},
   "outputs": [],
   "source": [
    "a.to_csv('meta_data_for_train_K-Face.csv' , index=False)"
   ]
  },
  {
   "cell_type": "code",
   "execution_count": 74,
   "id": "322bf14d",
   "metadata": {},
   "outputs": [
    {
     "data": {
      "text/plain": [
       "남    312012\n",
       "여    271188\n",
       "Name: 성별, dtype: int64"
      ]
     },
     "execution_count": 74,
     "metadata": {},
     "output_type": "execute_result"
    }
   ],
   "source": [
    "a['성별'].value_counts()"
   ]
  },
  {
   "cell_type": "code",
   "execution_count": 75,
   "id": "4b3b37f9",
   "metadata": {},
   "outputs": [
    {
     "data": {
      "text/plain": [
       "30대    208494\n",
       "40대    207036\n",
       "50대    148716\n",
       "20대     18954\n",
       "Name: 연령대, dtype: int64"
      ]
     },
     "execution_count": 75,
     "metadata": {},
     "output_type": "execute_result"
    }
   ],
   "source": [
    "a['연령대'].value_counts()"
   ]
  },
  {
   "cell_type": "code",
   "execution_count": null,
   "id": "44c4f91c",
   "metadata": {},
   "outputs": [],
   "source": []
  }
 ],
 "metadata": {
  "kernelspec": {
   "display_name": "TF.2.5.0-GPU",
   "language": "python",
   "name": "tf.2.5.0-gpu"
  },
  "language_info": {
   "codemirror_mode": {
    "name": "ipython",
    "version": 3
   },
   "file_extension": ".py",
   "mimetype": "text/x-python",
   "name": "python",
   "nbconvert_exporter": "python",
   "pygments_lexer": "ipython3",
   "version": "3.9.5"
  }
 },
 "nbformat": 4,
 "nbformat_minor": 5
}
