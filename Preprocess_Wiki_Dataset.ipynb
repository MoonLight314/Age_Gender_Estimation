{
 "cells": [
  {
   "cell_type": "code",
   "execution_count": 87,
   "id": "e6b2243c",
   "metadata": {},
   "outputs": [],
   "source": [
    "import numpy as np\n",
    "import h5py\n",
    "import datetime\n",
    "import pandas as pd"
   ]
  },
  {
   "cell_type": "code",
   "execution_count": null,
   "id": "0e9a1696",
   "metadata": {},
   "outputs": [],
   "source": []
  },
  {
   "cell_type": "code",
   "execution_count": 2,
   "id": "00a69219",
   "metadata": {},
   "outputs": [],
   "source": [
    "mat = scipy.io.loadmat('Dataset\\wiki_crop\\wiki.mat')"
   ]
  },
  {
   "cell_type": "code",
   "execution_count": 31,
   "id": "731258ab",
   "metadata": {},
   "outputs": [
    {
     "name": "stdout",
     "output_type": "stream",
     "text": [
      "<class 'numpy.ndarray'> (1, 1)\n",
      "<class 'numpy.ndarray'> (1,)\n",
      "<class 'numpy.void'> ()\n",
      "8 (array([[723671, 703186, 711677, ..., 720620, 723893, 713846]]), array([[2009, 1964, 2008, ..., 2013, 2011, 2008]], dtype=uint16), array([[array(['17/10000217_1981-05-05_2009.jpg'], dtype='<U31'),\n",
      "        array(['48/10000548_1925-04-04_1964.jpg'], dtype='<U31'),\n",
      "        array(['12/100012_1948-07-03_2008.jpg'], dtype='<U29'), ...,\n",
      "        array(['09/9998109_1972-12-27_2013.jpg'], dtype='<U30'),\n",
      "        array(['00/9999400_1981-12-13_2011.jpg'], dtype='<U30'),\n",
      "        array(['80/999980_1954-06-11_2008.jpg'], dtype='<U29')]],\n",
      "      dtype=object), array([[1., 1., 1., ..., 1., 1., 0.]]), array([[array(['Sami Jauhojärvi'], dtype='<U15'),\n",
      "        array(['Dettmar Cramer'], dtype='<U14'),\n",
      "        array(['Marc Okrand'], dtype='<U11'), ...,\n",
      "        array(['Michael Wiesinger'], dtype='<U17'),\n",
      "        array(['Johann Grugger'], dtype='<U14'),\n",
      "        array(['Greta Van Susteren'], dtype='<U18')]], dtype=object), array([[array([[111.29109473, 111.29109473, 252.66993082, 252.66993082]]),\n",
      "        array([[252.4833023 , 126.68165115, 354.53192596, 228.73027481]]),\n",
      "        array([[113.52, 169.84, 366.08, 422.4 ]]), ...,\n",
      "        array([[169.88839786,  74.31669472, 235.2534231 , 139.68171997]]),\n",
      "        array([[1, 1, 1, 1]], dtype=uint8),\n",
      "        array([[ 92.72633235,  62.0435549 , 230.12083087, 199.43805342]])]],\n",
      "      dtype=object), array([[4.30096239, 2.6456395 , 4.32932883, ..., 3.49430317,       -inf,\n",
      "        5.48691655]]), array([[       nan, 1.94924791,        nan, ...,        nan,        nan,\n",
      "               nan]]))\n"
     ]
    }
   ],
   "source": [
    "print( type(mat['wiki'] ) , mat['wiki'].shape )\n",
    "print( type(mat['wiki'][0] ) , mat['wiki'][0].shape )\n",
    "print( type(mat['wiki'][0][0]) , mat['wiki'][0][0].shape )\n",
    "print( len(mat['wiki'][0][0]) , mat['wiki'][0][0] )"
   ]
  },
  {
   "cell_type": "code",
   "execution_count": 41,
   "id": "4b51c3ef",
   "metadata": {},
   "outputs": [
    {
     "name": "stdout",
     "output_type": "stream",
     "text": [
      "[723671 703186 711677 ... 720620 723893 713846]\n",
      "[[2009 1964 2008 ... 2013 2011 2008]]\n",
      "[[array(['17/10000217_1981-05-05_2009.jpg'], dtype='<U31')\n",
      "  array(['48/10000548_1925-04-04_1964.jpg'], dtype='<U31')\n",
      "  array(['12/100012_1948-07-03_2008.jpg'], dtype='<U29') ...\n",
      "  array(['09/9998109_1972-12-27_2013.jpg'], dtype='<U30')\n",
      "  array(['00/9999400_1981-12-13_2011.jpg'], dtype='<U30')\n",
      "  array(['80/999980_1954-06-11_2008.jpg'], dtype='<U29')]]\n",
      "[[1. 1. 1. ... 1. 1. 0.]]\n",
      "[[array(['Sami Jauhojärvi'], dtype='<U15')\n",
      "  array(['Dettmar Cramer'], dtype='<U14')\n",
      "  array(['Marc Okrand'], dtype='<U11') ...\n",
      "  array(['Michael Wiesinger'], dtype='<U17')\n",
      "  array(['Johann Grugger'], dtype='<U14')\n",
      "  array(['Greta Van Susteren'], dtype='<U18')]]\n",
      "[[array([[111.29109473, 111.29109473, 252.66993082, 252.66993082]])\n",
      "  array([[252.4833023 , 126.68165115, 354.53192596, 228.73027481]])\n",
      "  array([[113.52, 169.84, 366.08, 422.4 ]]) ...\n",
      "  array([[169.88839786,  74.31669472, 235.2534231 , 139.68171997]])\n",
      "  array([[1, 1, 1, 1]], dtype=uint8)\n",
      "  array([[ 92.72633235,  62.0435549 , 230.12083087, 199.43805342]])]]\n",
      "[[4.30096239 2.6456395  4.32932883 ... 3.49430317       -inf 5.48691655]]\n",
      "[[       nan 1.94924791        nan ...        nan        nan        nan]]\n"
     ]
    }
   ],
   "source": [
    "print( mat['wiki'][0][0][0][0] ) # dob: date of birth (Matlab serial date number)\n",
    "print( mat['wiki'][0][0][1] ) # photo_taken: year when the photo was taken\n",
    "print( mat['wiki'][0][0][2] ) # full_path: path to file\n",
    "print( mat['wiki'][0][0][3] ) # gender: 0 for female and 1 for male, NaN if unknown\n",
    "print( mat['wiki'][0][0][4] ) # name: name of the celebrity\n",
    "print( mat['wiki'][0][0][5] ) # face_location: location of the face. To crop the face in Matlab run\n",
    "print( mat['wiki'][0][0][6] ) # face_score: detector score (the higher the better). Inf implies that no face was found in the image and the face_location then just returns the entire image\n",
    "print( mat['wiki'][0][0][7] ) # second_face_score: detector score of the face with the second highest score. This is useful to ignore images with more than one face. second_face_score is NaN if no second face was detected."
   ]
  },
  {
   "cell_type": "code",
   "execution_count": 57,
   "id": "c78b6700",
   "metadata": {},
   "outputs": [],
   "source": [
    "python_datetime = datetime.date.fromordinal(int(mat['wiki'][0][0][0][0][0])) + datetime.timedelta(days=int(mat['wiki'][0][0][0][0][0])%1) - datetime.timedelta(days = 366)"
   ]
  },
  {
   "cell_type": "code",
   "execution_count": 58,
   "id": "c9859a45",
   "metadata": {},
   "outputs": [
    {
     "data": {
      "text/plain": [
       "datetime.date(1981, 5, 5)"
      ]
     },
     "execution_count": 58,
     "metadata": {},
     "output_type": "execute_result"
    }
   ],
   "source": [
    "python_datetime"
   ]
  },
  {
   "cell_type": "code",
   "execution_count": 61,
   "id": "b39a49c1",
   "metadata": {},
   "outputs": [
    {
     "data": {
      "text/plain": [
       "datetime.date(1925, 4, 4)"
      ]
     },
     "execution_count": 61,
     "metadata": {},
     "output_type": "execute_result"
    }
   ],
   "source": [
    "python_datetime = datetime.date.fromordinal(int(mat['wiki'][0][0][0][0][1])) + datetime.timedelta(days=int(mat['wiki'][0][0][0][0][1])%1) - datetime.timedelta(days = 366)\n",
    "python_datetime"
   ]
  },
  {
   "cell_type": "code",
   "execution_count": null,
   "id": "1738dfd7",
   "metadata": {},
   "outputs": [],
   "source": []
  },
  {
   "cell_type": "code",
   "execution_count": null,
   "id": "7772b1ae",
   "metadata": {},
   "outputs": [],
   "source": []
  },
  {
   "cell_type": "code",
   "execution_count": null,
   "id": "1fbe0ded",
   "metadata": {},
   "outputs": [],
   "source": [
    "print( mat['wiki'][0][0][0][0] ) # dob: date of birth (Matlab serial date number)\n",
    "print( mat['wiki'][0][0][1] ) # photo_taken: year when the photo was taken\n",
    "print( mat['wiki'][0][0][2] ) # full_path: path to file\n",
    "print( mat['wiki'][0][0][3] ) # gender: 0 for female and 1 for male, NaN if unknown\n",
    "print( mat['wiki'][0][0][4] ) # name: name of the celebrity\n",
    "print( mat['wiki'][0][0][5] ) # face_location: location of the face. To crop the face in Matlab run\n",
    "print( mat['wiki'][0][0][6] ) # face_score: detector score (the higher the better). Inf implies that no face was found in the image and the face_location then just returns the entire image\n",
    "print( mat['wiki'][0][0][7] ) # second_face_score: detector score of the face with the second highest score. This is useful to ignore images with more than one face. second_face_score is NaN if no second face was detected."
   ]
  },
  {
   "cell_type": "code",
   "execution_count": 85,
   "id": "d41f4713",
   "metadata": {},
   "outputs": [],
   "source": [
    "birth_date = mat['wiki'][0][0][0][0].tolist()\n",
    "photo_take_year = mat['wiki'][0][0][1][0].tolist()\n",
    "file_path = mat['wiki'][0][0][2][0].tolist()\n",
    "gender = mat['wiki'][0][0][3][0].tolist()\n",
    "name = mat['wiki'][0][0][4][0].tolist()\n",
    "face_loc = mat['wiki'][0][0][5][0].tolist()\n",
    "face_score = mat['wiki'][0][0][6][0].tolist()\n",
    "sec_face_score = mat['wiki'][0][0][7][0].tolist()"
   ]
  },
  {
   "cell_type": "code",
   "execution_count": 86,
   "id": "a01b4bf8",
   "metadata": {},
   "outputs": [
    {
     "name": "stdout",
     "output_type": "stream",
     "text": [
      "62328 62328 62328 62328 62328 62328 62328 62328\n"
     ]
    }
   ],
   "source": [
    "print( len( birth_date ) , len( photo_take_year ) , len( file_path ) , len( gender ) , len( name ) , len( face_loc ) , len( face_score ) , len( sec_face_score ))"
   ]
  },
  {
   "cell_type": "code",
   "execution_count": 119,
   "id": "4268dff6",
   "metadata": {},
   "outputs": [],
   "source": [
    "t = np.array(face_loc)"
   ]
  },
  {
   "cell_type": "code",
   "execution_count": 120,
   "id": "2d7a0353",
   "metadata": {},
   "outputs": [
    {
     "data": {
      "text/plain": [
       "(62328, 1, 4)"
      ]
     },
     "execution_count": 120,
     "metadata": {},
     "output_type": "execute_result"
    }
   ],
   "source": [
    "t.shape"
   ]
  },
  {
   "cell_type": "code",
   "execution_count": 121,
   "id": "8280dace",
   "metadata": {},
   "outputs": [],
   "source": [
    "t = t.reshape(62328,4)"
   ]
  },
  {
   "cell_type": "code",
   "execution_count": 122,
   "id": "31d447e2",
   "metadata": {},
   "outputs": [],
   "source": [
    "face_loc = t.tolist()"
   ]
  },
  {
   "cell_type": "code",
   "execution_count": null,
   "id": "b55effd8",
   "metadata": {},
   "outputs": [],
   "source": []
  },
  {
   "cell_type": "code",
   "execution_count": 123,
   "id": "a0c9d69d",
   "metadata": {},
   "outputs": [],
   "source": [
    "meta_data = pd.DataFrame({\"birth_date\" : birth_date,\n",
    "                         \"photo_take_year\" : photo_take_year,\n",
    "                          \"file_path\" : file_path,\n",
    "                          \"gender\" : gender,\n",
    "                          \"name\" : name,\n",
    "                          \"face_loc\" : face_loc,\n",
    "                          \"face_score\" : face_score,\n",
    "                          \"sec_face_score\" : sec_face_score\n",
    "                         })"
   ]
  },
  {
   "cell_type": "code",
   "execution_count": 124,
   "id": "7599a2c8",
   "metadata": {},
   "outputs": [
    {
     "data": {
      "text/html": [
       "<div>\n",
       "<style scoped>\n",
       "    .dataframe tbody tr th:only-of-type {\n",
       "        vertical-align: middle;\n",
       "    }\n",
       "\n",
       "    .dataframe tbody tr th {\n",
       "        vertical-align: top;\n",
       "    }\n",
       "\n",
       "    .dataframe thead th {\n",
       "        text-align: right;\n",
       "    }\n",
       "</style>\n",
       "<table border=\"1\" class=\"dataframe\">\n",
       "  <thead>\n",
       "    <tr style=\"text-align: right;\">\n",
       "      <th></th>\n",
       "      <th>birth_date</th>\n",
       "      <th>photo_take_year</th>\n",
       "      <th>file_path</th>\n",
       "      <th>gender</th>\n",
       "      <th>name</th>\n",
       "      <th>face_loc</th>\n",
       "      <th>face_score</th>\n",
       "      <th>sec_face_score</th>\n",
       "    </tr>\n",
       "  </thead>\n",
       "  <tbody>\n",
       "    <tr>\n",
       "      <th>0</th>\n",
       "      <td>723671</td>\n",
       "      <td>2009</td>\n",
       "      <td>[17/10000217_1981-05-05_2009.jpg]</td>\n",
       "      <td>1.0</td>\n",
       "      <td>[Sami Jauhojärvi]</td>\n",
       "      <td>[111.29109473290997, 111.29109473290997, 252.6...</td>\n",
       "      <td>4.300962</td>\n",
       "      <td>NaN</td>\n",
       "    </tr>\n",
       "    <tr>\n",
       "      <th>1</th>\n",
       "      <td>703186</td>\n",
       "      <td>1964</td>\n",
       "      <td>[48/10000548_1925-04-04_1964.jpg]</td>\n",
       "      <td>1.0</td>\n",
       "      <td>[Dettmar Cramer]</td>\n",
       "      <td>[252.48330229530742, 126.68165114765371, 354.5...</td>\n",
       "      <td>2.645639</td>\n",
       "      <td>1.949248</td>\n",
       "    </tr>\n",
       "    <tr>\n",
       "      <th>2</th>\n",
       "      <td>711677</td>\n",
       "      <td>2008</td>\n",
       "      <td>[12/100012_1948-07-03_2008.jpg]</td>\n",
       "      <td>1.0</td>\n",
       "      <td>[Marc Okrand]</td>\n",
       "      <td>[113.52, 169.83999999999997, 366.08, 422.4]</td>\n",
       "      <td>4.329329</td>\n",
       "      <td>NaN</td>\n",
       "    </tr>\n",
       "    <tr>\n",
       "      <th>3</th>\n",
       "      <td>705061</td>\n",
       "      <td>1961</td>\n",
       "      <td>[65/10001965_1930-05-23_1961.jpg]</td>\n",
       "      <td>1.0</td>\n",
       "      <td>[Aleksandar Matanović]</td>\n",
       "      <td>[1.0, 1.0, 634.0, 440.0]</td>\n",
       "      <td>-inf</td>\n",
       "      <td>NaN</td>\n",
       "    </tr>\n",
       "    <tr>\n",
       "      <th>4</th>\n",
       "      <td>720044</td>\n",
       "      <td>2012</td>\n",
       "      <td>[16/10002116_1971-05-31_2012.jpg]</td>\n",
       "      <td>0.0</td>\n",
       "      <td>[Diana Damrau]</td>\n",
       "      <td>[171.61031405173117, 75.57451239763239, 266.76...</td>\n",
       "      <td>3.408442</td>\n",
       "      <td>NaN</td>\n",
       "    </tr>\n",
       "    <tr>\n",
       "      <th>...</th>\n",
       "      <td>...</td>\n",
       "      <td>...</td>\n",
       "      <td>...</td>\n",
       "      <td>...</td>\n",
       "      <td>...</td>\n",
       "      <td>...</td>\n",
       "      <td>...</td>\n",
       "      <td>...</td>\n",
       "    </tr>\n",
       "    <tr>\n",
       "      <th>62323</th>\n",
       "      <td>707582</td>\n",
       "      <td>1963</td>\n",
       "      <td>[49/9996949_1937-04-17_1963.jpg]</td>\n",
       "      <td>1.0</td>\n",
       "      <td>[Guus Haak]</td>\n",
       "      <td>[128.92773553879837, 128.92773553879837, 320.1...</td>\n",
       "      <td>4.029268</td>\n",
       "      <td>NaN</td>\n",
       "    </tr>\n",
       "    <tr>\n",
       "      <th>62324</th>\n",
       "      <td>711338</td>\n",
       "      <td>1970</td>\n",
       "      <td>[32/9997032_1947-07-30_1970.jpg]</td>\n",
       "      <td>1.0</td>\n",
       "      <td>[Nico Rijnders]</td>\n",
       "      <td>[1.0, 1.0, 285.0, 440.0]</td>\n",
       "      <td>-inf</td>\n",
       "      <td>NaN</td>\n",
       "    </tr>\n",
       "    <tr>\n",
       "      <th>62325</th>\n",
       "      <td>720620</td>\n",
       "      <td>2013</td>\n",
       "      <td>[09/9998109_1972-12-27_2013.jpg]</td>\n",
       "      <td>1.0</td>\n",
       "      <td>[Michael Wiesinger]</td>\n",
       "      <td>[169.88839785556354, 74.31669471981023, 235.25...</td>\n",
       "      <td>3.494303</td>\n",
       "      <td>NaN</td>\n",
       "    </tr>\n",
       "    <tr>\n",
       "      <th>62326</th>\n",
       "      <td>723893</td>\n",
       "      <td>2011</td>\n",
       "      <td>[00/9999400_1981-12-13_2011.jpg]</td>\n",
       "      <td>1.0</td>\n",
       "      <td>[Johann Grugger]</td>\n",
       "      <td>[1.0, 1.0, 1.0, 1.0]</td>\n",
       "      <td>-inf</td>\n",
       "      <td>NaN</td>\n",
       "    </tr>\n",
       "    <tr>\n",
       "      <th>62327</th>\n",
       "      <td>713846</td>\n",
       "      <td>2008</td>\n",
       "      <td>[80/999980_1954-06-11_2008.jpg]</td>\n",
       "      <td>0.0</td>\n",
       "      <td>[Greta Van Susteren]</td>\n",
       "      <td>[92.72633234774001, 62.04355489849334, 230.120...</td>\n",
       "      <td>5.486917</td>\n",
       "      <td>NaN</td>\n",
       "    </tr>\n",
       "  </tbody>\n",
       "</table>\n",
       "<p>62328 rows × 8 columns</p>\n",
       "</div>"
      ],
      "text/plain": [
       "       birth_date  photo_take_year                          file_path  gender  \\\n",
       "0          723671             2009  [17/10000217_1981-05-05_2009.jpg]     1.0   \n",
       "1          703186             1964  [48/10000548_1925-04-04_1964.jpg]     1.0   \n",
       "2          711677             2008    [12/100012_1948-07-03_2008.jpg]     1.0   \n",
       "3          705061             1961  [65/10001965_1930-05-23_1961.jpg]     1.0   \n",
       "4          720044             2012  [16/10002116_1971-05-31_2012.jpg]     0.0   \n",
       "...           ...              ...                                ...     ...   \n",
       "62323      707582             1963   [49/9996949_1937-04-17_1963.jpg]     1.0   \n",
       "62324      711338             1970   [32/9997032_1947-07-30_1970.jpg]     1.0   \n",
       "62325      720620             2013   [09/9998109_1972-12-27_2013.jpg]     1.0   \n",
       "62326      723893             2011   [00/9999400_1981-12-13_2011.jpg]     1.0   \n",
       "62327      713846             2008    [80/999980_1954-06-11_2008.jpg]     0.0   \n",
       "\n",
       "                         name  \\\n",
       "0           [Sami Jauhojärvi]   \n",
       "1            [Dettmar Cramer]   \n",
       "2               [Marc Okrand]   \n",
       "3      [Aleksandar Matanović]   \n",
       "4              [Diana Damrau]   \n",
       "...                       ...   \n",
       "62323             [Guus Haak]   \n",
       "62324         [Nico Rijnders]   \n",
       "62325     [Michael Wiesinger]   \n",
       "62326        [Johann Grugger]   \n",
       "62327    [Greta Van Susteren]   \n",
       "\n",
       "                                                face_loc  face_score  \\\n",
       "0      [111.29109473290997, 111.29109473290997, 252.6...    4.300962   \n",
       "1      [252.48330229530742, 126.68165114765371, 354.5...    2.645639   \n",
       "2            [113.52, 169.83999999999997, 366.08, 422.4]    4.329329   \n",
       "3                               [1.0, 1.0, 634.0, 440.0]        -inf   \n",
       "4      [171.61031405173117, 75.57451239763239, 266.76...    3.408442   \n",
       "...                                                  ...         ...   \n",
       "62323  [128.92773553879837, 128.92773553879837, 320.1...    4.029268   \n",
       "62324                           [1.0, 1.0, 285.0, 440.0]        -inf   \n",
       "62325  [169.88839785556354, 74.31669471981023, 235.25...    3.494303   \n",
       "62326                               [1.0, 1.0, 1.0, 1.0]        -inf   \n",
       "62327  [92.72633234774001, 62.04355489849334, 230.120...    5.486917   \n",
       "\n",
       "       sec_face_score  \n",
       "0                 NaN  \n",
       "1            1.949248  \n",
       "2                 NaN  \n",
       "3                 NaN  \n",
       "4                 NaN  \n",
       "...               ...  \n",
       "62323             NaN  \n",
       "62324             NaN  \n",
       "62325             NaN  \n",
       "62326             NaN  \n",
       "62327             NaN  \n",
       "\n",
       "[62328 rows x 8 columns]"
      ]
     },
     "execution_count": 124,
     "metadata": {},
     "output_type": "execute_result"
    }
   ],
   "source": [
    "meta_data"
   ]
  },
  {
   "cell_type": "code",
   "execution_count": 130,
   "id": "183111a3",
   "metadata": {},
   "outputs": [],
   "source": [
    "meta_data.to_csv(\"Dataset\\wiki_crop\\wiki_meta_data.csv\" , index=False)"
   ]
  },
  {
   "cell_type": "code",
   "execution_count": null,
   "id": "9d65b514",
   "metadata": {},
   "outputs": [],
   "source": []
  }
 ],
 "metadata": {
  "kernelspec": {
   "display_name": "TF.2.5.0-GPU",
   "language": "python",
   "name": "tf.2.5.0-gpu"
  },
  "language_info": {
   "codemirror_mode": {
    "name": "ipython",
    "version": 3
   },
   "file_extension": ".py",
   "mimetype": "text/x-python",
   "name": "python",
   "nbconvert_exporter": "python",
   "pygments_lexer": "ipython3",
   "version": "3.9.5"
  }
 },
 "nbformat": 4,
 "nbformat_minor": 5
}
