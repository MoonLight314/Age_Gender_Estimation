{
 "cells": [
  {
   "cell_type": "code",
   "execution_count": 32,
   "id": "f0da296c",
   "metadata": {},
   "outputs": [],
   "source": [
    "import os\n",
    "import numpy as np\n",
    "import pandas as pd\n",
    "import glob\n",
    "from tqdm import tqdm"
   ]
  },
  {
   "cell_type": "code",
   "execution_count": 26,
   "id": "dded1e8b",
   "metadata": {},
   "outputs": [],
   "source": [
    "path = \"Dataset\\\\AFAD-Full\\\\**\"\n",
    "\n",
    "file_list = glob.glob(path , recursive=True)\n",
    "file_path = [file for file in file_list if file.endswith(\".jpg\")]"
   ]
  },
  {
   "cell_type": "code",
   "execution_count": 27,
   "id": "de8ceaf4",
   "metadata": {},
   "outputs": [
    {
     "data": {
      "text/plain": [
       "165501"
      ]
     },
     "execution_count": 27,
     "metadata": {},
     "output_type": "execute_result"
    }
   ],
   "source": [
    "len( file_path )"
   ]
  },
  {
   "cell_type": "code",
   "execution_count": 28,
   "id": "48b24420",
   "metadata": {},
   "outputs": [
    {
     "data": {
      "text/plain": [
       "['Dataset\\\\AFAD-Full\\\\15\\\\111\\\\109008-0.jpg',\n",
       " 'Dataset\\\\AFAD-Full\\\\15\\\\111\\\\114557-0.jpg',\n",
       " 'Dataset\\\\AFAD-Full\\\\15\\\\111\\\\116002-0.jpg',\n",
       " 'Dataset\\\\AFAD-Full\\\\15\\\\111\\\\116080-1.jpg',\n",
       " 'Dataset\\\\AFAD-Full\\\\15\\\\111\\\\116596-2.jpg']"
      ]
     },
     "execution_count": 28,
     "metadata": {},
     "output_type": "execute_result"
    }
   ],
   "source": [
    "file_path[:5]"
   ]
  },
  {
   "cell_type": "code",
   "execution_count": 31,
   "id": "403b1047",
   "metadata": {},
   "outputs": [],
   "source": []
  },
  {
   "cell_type": "code",
   "execution_count": 53,
   "id": "1a60347f",
   "metadata": {},
   "outputs": [
    {
     "name": "stderr",
     "output_type": "stream",
     "text": [
      "100%|██████████████████████████████████████████████████████████████████████| 165501/165501 [00:00<00:00, 671848.09it/s]\n"
     ]
    }
   ],
   "source": [
    "age_list = []\n",
    "gender_list = []\n",
    "\n",
    "for path in tqdm( file_path ):\n",
    "    age_list.append( int(path.split(\"\\\\\")[2]) )\n",
    "    \n",
    "    if path.split(\"\\\\\")[3] == '111':\n",
    "        gender_list.append( \"male\" )\n",
    "    elif path.split(\"\\\\\")[3] == '112':\n",
    "        gender_list.append( \"female\" )\n",
    "    else:\n",
    "        gender_list.append( \"none\" )"
   ]
  },
  {
   "cell_type": "code",
   "execution_count": 59,
   "id": "13c7132a",
   "metadata": {},
   "outputs": [
    {
     "data": {
      "text/html": [
       "<div>\n",
       "<style scoped>\n",
       "    .dataframe tbody tr th:only-of-type {\n",
       "        vertical-align: middle;\n",
       "    }\n",
       "\n",
       "    .dataframe tbody tr th {\n",
       "        vertical-align: top;\n",
       "    }\n",
       "\n",
       "    .dataframe thead th {\n",
       "        text-align: right;\n",
       "    }\n",
       "</style>\n",
       "<table border=\"1\" class=\"dataframe\">\n",
       "  <thead>\n",
       "    <tr style=\"text-align: right;\">\n",
       "      <th></th>\n",
       "      <th>file_path</th>\n",
       "      <th>age</th>\n",
       "      <th>gender</th>\n",
       "    </tr>\n",
       "  </thead>\n",
       "  <tbody>\n",
       "    <tr>\n",
       "      <th>0</th>\n",
       "      <td>Dataset\\AFAD-Full\\15\\111\\109008-0.jpg</td>\n",
       "      <td>15</td>\n",
       "      <td>male</td>\n",
       "    </tr>\n",
       "    <tr>\n",
       "      <th>1</th>\n",
       "      <td>Dataset\\AFAD-Full\\15\\111\\114557-0.jpg</td>\n",
       "      <td>15</td>\n",
       "      <td>male</td>\n",
       "    </tr>\n",
       "    <tr>\n",
       "      <th>2</th>\n",
       "      <td>Dataset\\AFAD-Full\\15\\111\\116002-0.jpg</td>\n",
       "      <td>15</td>\n",
       "      <td>male</td>\n",
       "    </tr>\n",
       "    <tr>\n",
       "      <th>3</th>\n",
       "      <td>Dataset\\AFAD-Full\\15\\111\\116080-1.jpg</td>\n",
       "      <td>15</td>\n",
       "      <td>male</td>\n",
       "    </tr>\n",
       "    <tr>\n",
       "      <th>4</th>\n",
       "      <td>Dataset\\AFAD-Full\\15\\111\\116596-2.jpg</td>\n",
       "      <td>15</td>\n",
       "      <td>male</td>\n",
       "    </tr>\n",
       "    <tr>\n",
       "      <th>...</th>\n",
       "      <td>...</td>\n",
       "      <td>...</td>\n",
       "      <td>...</td>\n",
       "    </tr>\n",
       "    <tr>\n",
       "      <th>165496</th>\n",
       "      <td>Dataset\\AFAD-Full\\72\\112\\858968-0.jpg</td>\n",
       "      <td>72</td>\n",
       "      <td>female</td>\n",
       "    </tr>\n",
       "    <tr>\n",
       "      <th>165497</th>\n",
       "      <td>Dataset\\AFAD-Full\\72\\112\\858968-1.jpg</td>\n",
       "      <td>72</td>\n",
       "      <td>female</td>\n",
       "    </tr>\n",
       "    <tr>\n",
       "      <th>165498</th>\n",
       "      <td>Dataset\\AFAD-Full\\72\\112\\858971-0.jpg</td>\n",
       "      <td>72</td>\n",
       "      <td>female</td>\n",
       "    </tr>\n",
       "    <tr>\n",
       "      <th>165499</th>\n",
       "      <td>Dataset\\AFAD-Full\\72\\112\\858971-1.jpg</td>\n",
       "      <td>72</td>\n",
       "      <td>female</td>\n",
       "    </tr>\n",
       "    <tr>\n",
       "      <th>165500</th>\n",
       "      <td>Dataset\\AFAD-Full\\72\\112\\858972-0.jpg</td>\n",
       "      <td>72</td>\n",
       "      <td>female</td>\n",
       "    </tr>\n",
       "  </tbody>\n",
       "</table>\n",
       "<p>165501 rows × 3 columns</p>\n",
       "</div>"
      ],
      "text/plain": [
       "                                    file_path  age  gender\n",
       "0       Dataset\\AFAD-Full\\15\\111\\109008-0.jpg   15    male\n",
       "1       Dataset\\AFAD-Full\\15\\111\\114557-0.jpg   15    male\n",
       "2       Dataset\\AFAD-Full\\15\\111\\116002-0.jpg   15    male\n",
       "3       Dataset\\AFAD-Full\\15\\111\\116080-1.jpg   15    male\n",
       "4       Dataset\\AFAD-Full\\15\\111\\116596-2.jpg   15    male\n",
       "...                                       ...  ...     ...\n",
       "165496  Dataset\\AFAD-Full\\72\\112\\858968-0.jpg   72  female\n",
       "165497  Dataset\\AFAD-Full\\72\\112\\858968-1.jpg   72  female\n",
       "165498  Dataset\\AFAD-Full\\72\\112\\858971-0.jpg   72  female\n",
       "165499  Dataset\\AFAD-Full\\72\\112\\858971-1.jpg   72  female\n",
       "165500  Dataset\\AFAD-Full\\72\\112\\858972-0.jpg   72  female\n",
       "\n",
       "[165501 rows x 3 columns]"
      ]
     },
     "execution_count": 59,
     "metadata": {},
     "output_type": "execute_result"
    }
   ],
   "source": [
    "meta_data = pd.DataFrame( list(zip(file_path , age_list , gender_list)) , columns=[\"file_path\" , \"age\" , \"gender\"] )\n",
    "meta_data"
   ]
  },
  {
   "cell_type": "code",
   "execution_count": 61,
   "id": "b32fb531",
   "metadata": {},
   "outputs": [
    {
     "data": {
      "text/plain": [
       "22    13572\n",
       "20    13232\n",
       "24    12891\n",
       "21    12560\n",
       "19    12477\n",
       "25    11261\n",
       "23    10510\n",
       "26     7676\n",
       "27     6481\n",
       "18     5585\n",
       "28     5170\n",
       "30     4806\n",
       "29     4730\n",
       "31     4456\n",
       "35     4246\n",
       "36     4234\n",
       "32     3996\n",
       "37     3898\n",
       "34     3856\n",
       "38     3798\n",
       "39     3791\n",
       "33     3701\n",
       "17     2482\n",
       "16     2423\n",
       "40     1335\n",
       "15     1251\n",
       "42      146\n",
       "43      118\n",
       "41      114\n",
       "44       94\n",
       "45       65\n",
       "46       59\n",
       "47       49\n",
       "48       48\n",
       "53       40\n",
       "72       35\n",
       "51       30\n",
       "49       30\n",
       "50       28\n",
       "54       27\n",
       "62       25\n",
       "52       23\n",
       "56       16\n",
       "66       16\n",
       "69       15\n",
       "55       12\n",
       "58       12\n",
       "57       11\n",
       "67       10\n",
       "65        9\n",
       "63        8\n",
       "64        8\n",
       "61        8\n",
       "68        7\n",
       "59        7\n",
       "70        7\n",
       "60        6\n",
       "Name: age, dtype: int64"
      ]
     },
     "execution_count": 61,
     "metadata": {},
     "output_type": "execute_result"
    }
   ],
   "source": [
    "meta_data['age'].value_counts(dropna=False)"
   ]
  },
  {
   "cell_type": "code",
   "execution_count": 62,
   "id": "828fa9f7",
   "metadata": {},
   "outputs": [
    {
     "data": {
      "text/plain": [
       "male      101519\n",
       "female     63982\n",
       "Name: gender, dtype: int64"
      ]
     },
     "execution_count": 62,
     "metadata": {},
     "output_type": "execute_result"
    }
   ],
   "source": [
    "meta_data['gender'].value_counts(dropna=False)"
   ]
  },
  {
   "cell_type": "code",
   "execution_count": 63,
   "id": "28691570",
   "metadata": {},
   "outputs": [],
   "source": [
    "meta_data.to_csv(\"meta_data_AFAD_dataset.csv\" , index=False)"
   ]
  },
  {
   "cell_type": "code",
   "execution_count": null,
   "id": "9169dfa9",
   "metadata": {},
   "outputs": [],
   "source": []
  }
 ],
 "metadata": {
  "kernelspec": {
   "display_name": "TF.2.5.0-GPU",
   "language": "python",
   "name": "tf.2.5.0-gpu"
  },
  "language_info": {
   "codemirror_mode": {
    "name": "ipython",
    "version": 3
   },
   "file_extension": ".py",
   "mimetype": "text/x-python",
   "name": "python",
   "nbconvert_exporter": "python",
   "pygments_lexer": "ipython3",
   "version": "3.9.5"
  }
 },
 "nbformat": 4,
 "nbformat_minor": 5
}
