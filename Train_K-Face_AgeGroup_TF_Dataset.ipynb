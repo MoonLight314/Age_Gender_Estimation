{
 "cells": [
  {
   "cell_type": "code",
   "execution_count": 1,
   "id": "168e3a8f",
   "metadata": {},
   "outputs": [],
   "source": [
    "import pandas as pd\n",
    "import os\n",
    "import numpy as np\n",
    "from sklearn.preprocessing import LabelEncoder\n",
    "from sklearn.model_selection import train_test_split\n",
    "import cv2\n",
    "import tensorflow as tf\n",
    "from tensorflow.keras.models import Sequential\n",
    "from tensorflow.keras.layers import GlobalAveragePooling2D , BatchNormalization , Dropout , Dense\n",
    "from tensorflow.keras.callbacks import TensorBoard , ModelCheckpoint , LearningRateScheduler"
   ]
  },
  {
   "cell_type": "code",
   "execution_count": 2,
   "id": "a893be1e",
   "metadata": {},
   "outputs": [],
   "source": [
    "HOME_TRAIN = False"
   ]
  },
  {
   "cell_type": "code",
   "execution_count": 3,
   "id": "c3d83429",
   "metadata": {},
   "outputs": [],
   "source": [
    "BATCH_SIZE = 32\n",
    "DROP_OUT_RATE = 0.2"
   ]
  },
  {
   "cell_type": "code",
   "execution_count": 4,
   "id": "c6f6a571",
   "metadata": {},
   "outputs": [
    {
     "data": {
      "text/html": [
       "<div>\n",
       "<style scoped>\n",
       "    .dataframe tbody tr th:only-of-type {\n",
       "        vertical-align: middle;\n",
       "    }\n",
       "\n",
       "    .dataframe tbody tr th {\n",
       "        vertical-align: top;\n",
       "    }\n",
       "\n",
       "    .dataframe thead th {\n",
       "        text-align: right;\n",
       "    }\n",
       "</style>\n",
       "<table border=\"1\" class=\"dataframe\">\n",
       "  <thead>\n",
       "    <tr style=\"text-align: right;\">\n",
       "      <th></th>\n",
       "      <th>file_path_x</th>\n",
       "      <th>left</th>\n",
       "      <th>right</th>\n",
       "      <th>top</th>\n",
       "      <th>bottom</th>\n",
       "      <th>연령대</th>\n",
       "      <th>성별</th>\n",
       "      <th>new_gender</th>\n",
       "    </tr>\n",
       "  </thead>\n",
       "  <tbody>\n",
       "    <tr>\n",
       "      <th>0</th>\n",
       "      <td>C:/Users/Moon/Desktop/Age_Gender_Prediction/Da...</td>\n",
       "      <td>289</td>\n",
       "      <td>491</td>\n",
       "      <td>155</td>\n",
       "      <td>402</td>\n",
       "      <td>30대</td>\n",
       "      <td>남</td>\n",
       "      <td>1</td>\n",
       "    </tr>\n",
       "    <tr>\n",
       "      <th>1</th>\n",
       "      <td>C:/Users/Moon/Desktop/Age_Gender_Prediction/Da...</td>\n",
       "      <td>377</td>\n",
       "      <td>581</td>\n",
       "      <td>175</td>\n",
       "      <td>392</td>\n",
       "      <td>30대</td>\n",
       "      <td>남</td>\n",
       "      <td>1</td>\n",
       "    </tr>\n",
       "    <tr>\n",
       "      <th>2</th>\n",
       "      <td>C:/Users/Moon/Desktop/Age_Gender_Prediction/Da...</td>\n",
       "      <td>313</td>\n",
       "      <td>502</td>\n",
       "      <td>181</td>\n",
       "      <td>401</td>\n",
       "      <td>30대</td>\n",
       "      <td>남</td>\n",
       "      <td>1</td>\n",
       "    </tr>\n",
       "    <tr>\n",
       "      <th>3</th>\n",
       "      <td>C:/Users/Moon/Desktop/Age_Gender_Prediction/Da...</td>\n",
       "      <td>394</td>\n",
       "      <td>602</td>\n",
       "      <td>142</td>\n",
       "      <td>407</td>\n",
       "      <td>30대</td>\n",
       "      <td>남</td>\n",
       "      <td>1</td>\n",
       "    </tr>\n",
       "    <tr>\n",
       "      <th>4</th>\n",
       "      <td>C:/Users/Moon/Desktop/Age_Gender_Prediction/Da...</td>\n",
       "      <td>373</td>\n",
       "      <td>589</td>\n",
       "      <td>142</td>\n",
       "      <td>403</td>\n",
       "      <td>30대</td>\n",
       "      <td>남</td>\n",
       "      <td>1</td>\n",
       "    </tr>\n",
       "    <tr>\n",
       "      <th>...</th>\n",
       "      <td>...</td>\n",
       "      <td>...</td>\n",
       "      <td>...</td>\n",
       "      <td>...</td>\n",
       "      <td>...</td>\n",
       "      <td>...</td>\n",
       "      <td>...</td>\n",
       "      <td>...</td>\n",
       "    </tr>\n",
       "    <tr>\n",
       "      <th>365667</th>\n",
       "      <td>C:/Users/Moon/Desktop/Age_Gender_Prediction/Da...</td>\n",
       "      <td>323</td>\n",
       "      <td>635</td>\n",
       "      <td>101</td>\n",
       "      <td>470</td>\n",
       "      <td>20대</td>\n",
       "      <td>여</td>\n",
       "      <td>0</td>\n",
       "    </tr>\n",
       "    <tr>\n",
       "      <th>365668</th>\n",
       "      <td>C:/Users/Moon/Desktop/Age_Gender_Prediction/Da...</td>\n",
       "      <td>305</td>\n",
       "      <td>600</td>\n",
       "      <td>101</td>\n",
       "      <td>466</td>\n",
       "      <td>20대</td>\n",
       "      <td>여</td>\n",
       "      <td>0</td>\n",
       "    </tr>\n",
       "    <tr>\n",
       "      <th>365669</th>\n",
       "      <td>C:/Users/Moon/Desktop/Age_Gender_Prediction/Da...</td>\n",
       "      <td>282</td>\n",
       "      <td>577</td>\n",
       "      <td>101</td>\n",
       "      <td>467</td>\n",
       "      <td>20대</td>\n",
       "      <td>여</td>\n",
       "      <td>0</td>\n",
       "    </tr>\n",
       "    <tr>\n",
       "      <th>365670</th>\n",
       "      <td>C:/Users/Moon/Desktop/Age_Gender_Prediction/Da...</td>\n",
       "      <td>260</td>\n",
       "      <td>557</td>\n",
       "      <td>100</td>\n",
       "      <td>472</td>\n",
       "      <td>20대</td>\n",
       "      <td>여</td>\n",
       "      <td>0</td>\n",
       "    </tr>\n",
       "    <tr>\n",
       "      <th>365671</th>\n",
       "      <td>C:/Users/Moon/Desktop/Age_Gender_Prediction/Da...</td>\n",
       "      <td>231</td>\n",
       "      <td>537</td>\n",
       "      <td>96</td>\n",
       "      <td>474</td>\n",
       "      <td>20대</td>\n",
       "      <td>여</td>\n",
       "      <td>0</td>\n",
       "    </tr>\n",
       "  </tbody>\n",
       "</table>\n",
       "<p>365672 rows × 8 columns</p>\n",
       "</div>"
      ],
      "text/plain": [
       "                                              file_path_x  left  right  top  \\\n",
       "0       C:/Users/Moon/Desktop/Age_Gender_Prediction/Da...   289    491  155   \n",
       "1       C:/Users/Moon/Desktop/Age_Gender_Prediction/Da...   377    581  175   \n",
       "2       C:/Users/Moon/Desktop/Age_Gender_Prediction/Da...   313    502  181   \n",
       "3       C:/Users/Moon/Desktop/Age_Gender_Prediction/Da...   394    602  142   \n",
       "4       C:/Users/Moon/Desktop/Age_Gender_Prediction/Da...   373    589  142   \n",
       "...                                                   ...   ...    ...  ...   \n",
       "365667  C:/Users/Moon/Desktop/Age_Gender_Prediction/Da...   323    635  101   \n",
       "365668  C:/Users/Moon/Desktop/Age_Gender_Prediction/Da...   305    600  101   \n",
       "365669  C:/Users/Moon/Desktop/Age_Gender_Prediction/Da...   282    577  101   \n",
       "365670  C:/Users/Moon/Desktop/Age_Gender_Prediction/Da...   260    557  100   \n",
       "365671  C:/Users/Moon/Desktop/Age_Gender_Prediction/Da...   231    537   96   \n",
       "\n",
       "        bottom  연령대 성별  new_gender  \n",
       "0          402  30대  남           1  \n",
       "1          392  30대  남           1  \n",
       "2          401  30대  남           1  \n",
       "3          407  30대  남           1  \n",
       "4          403  30대  남           1  \n",
       "...        ...  ... ..         ...  \n",
       "365667     470  20대  여           0  \n",
       "365668     466  20대  여           0  \n",
       "365669     467  20대  여           0  \n",
       "365670     472  20대  여           0  \n",
       "365671     474  20대  여           0  \n",
       "\n",
       "[365672 rows x 8 columns]"
      ]
     },
     "execution_count": 4,
     "metadata": {},
     "output_type": "execute_result"
    }
   ],
   "source": [
    "dataset_info = pd.read_csv(\"meta_data_face_coor_K-Face.csv\")\n",
    "dataset_info"
   ]
  },
  {
   "cell_type": "code",
   "execution_count": 20,
   "id": "c746ca3b",
   "metadata": {},
   "outputs": [],
   "source": [
    "data_file_path = dataset_info[['file_path_x' , 'left' , 'right' , 'top' , 'bottom']]\n",
    "age = dataset_info['연령대'].tolist()"
   ]
  },
  {
   "cell_type": "code",
   "execution_count": 21,
   "id": "5f1cc802",
   "metadata": {},
   "outputs": [
    {
     "data": {
      "text/plain": [
       "40대    131725\n",
       "30대    127951\n",
       "50대     93736\n",
       "20대     12260\n",
       "Name: 연령대, dtype: int64"
      ]
     },
     "execution_count": 21,
     "metadata": {},
     "output_type": "execute_result"
    }
   ],
   "source": [
    "dataset_info['연령대'].value_counts()"
   ]
  },
  {
   "cell_type": "code",
   "execution_count": 25,
   "id": "a70aa4cc",
   "metadata": {},
   "outputs": [
    {
     "name": "stdout",
     "output_type": "stream",
     "text": [
      "['20대' '30대' '40대' '50대']\n"
     ]
    }
   ],
   "source": [
    "le_age = LabelEncoder()\n",
    "le_age.fit(age)\n",
    "print( le_age.classes_ )\n",
    "\n",
    "le_age = le_age.transform(age)\n",
    "age = tf.keras.utils.to_categorical(le_age, num_classes=4)"
   ]
  },
  {
   "cell_type": "code",
   "execution_count": 26,
   "id": "b9d6f484",
   "metadata": {},
   "outputs": [
    {
     "data": {
      "text/plain": [
       "array([[0., 1., 0., 0.],\n",
       "       [0., 1., 0., 0.],\n",
       "       [0., 1., 0., 0.],\n",
       "       ...,\n",
       "       [1., 0., 0., 0.],\n",
       "       [1., 0., 0., 0.],\n",
       "       [1., 0., 0., 0.]], dtype=float32)"
      ]
     },
     "execution_count": 26,
     "metadata": {},
     "output_type": "execute_result"
    }
   ],
   "source": [
    "age"
   ]
  },
  {
   "cell_type": "code",
   "execution_count": null,
   "id": "8711fec2",
   "metadata": {},
   "outputs": [],
   "source": []
  },
  {
   "cell_type": "code",
   "execution_count": null,
   "id": "0f7b0a99",
   "metadata": {},
   "outputs": [],
   "source": []
  },
  {
   "cell_type": "code",
   "execution_count": 28,
   "id": "503ad74f",
   "metadata": {},
   "outputs": [],
   "source": [
    "file_path_train, file_path_val, y_train, y_val = train_test_split(data_file_path, age, \n",
    "                                                                  test_size=0.25, \n",
    "                                                                  random_state=777, \n",
    "                                                                  stratify = age)"
   ]
  },
  {
   "cell_type": "code",
   "execution_count": 29,
   "id": "5152966b",
   "metadata": {},
   "outputs": [
    {
     "name": "stdout",
     "output_type": "stream",
     "text": [
      "274254 274254 91418 91418\n"
     ]
    }
   ],
   "source": [
    "print( len(file_path_train) , len(y_train) , len(file_path_val) , len(y_val) )"
   ]
  },
  {
   "cell_type": "code",
   "execution_count": null,
   "id": "dff39da6",
   "metadata": {},
   "outputs": [],
   "source": []
  },
  {
   "cell_type": "code",
   "execution_count": null,
   "id": "db9dcaf8",
   "metadata": {},
   "outputs": [],
   "source": []
  },
  {
   "cell_type": "code",
   "execution_count": 30,
   "id": "8590859c",
   "metadata": {},
   "outputs": [],
   "source": [
    "train_left = file_path_train['left'].tolist()\n",
    "train_right = file_path_train['right'].tolist()\n",
    "train_top = file_path_train['top'].tolist()\n",
    "train_bottom = file_path_train['bottom'].tolist()\n",
    "file_path_train = file_path_train['file_path_x'].tolist()"
   ]
  },
  {
   "cell_type": "code",
   "execution_count": 31,
   "id": "d31757b5",
   "metadata": {},
   "outputs": [],
   "source": [
    "val_left = file_path_val['left'].tolist()\n",
    "val_right = file_path_val['right'].tolist()\n",
    "val_top = file_path_val['top'].tolist()\n",
    "val_bottom = file_path_val['bottom'].tolist()\n",
    "file_path_val = file_path_val['file_path_x'].tolist()"
   ]
  },
  {
   "cell_type": "code",
   "execution_count": null,
   "id": "79a54ee5",
   "metadata": {},
   "outputs": [],
   "source": []
  },
  {
   "cell_type": "code",
   "execution_count": null,
   "id": "809a5709",
   "metadata": {},
   "outputs": [],
   "source": []
  },
  {
   "cell_type": "code",
   "execution_count": null,
   "id": "1d51d586",
   "metadata": {},
   "outputs": [],
   "source": []
  },
  {
   "cell_type": "code",
   "execution_count": 32,
   "id": "90db353b",
   "metadata": {},
   "outputs": [],
   "source": [
    "def load_image( image_path , left , right , top , bottom , label ):\n",
    "    img = tf.io.read_file(image_path)\n",
    "    img = tf.image.decode_jpeg(img, channels=3)   \n",
    "    img = tf.image.crop_to_bounding_box( img , top , left, bottom - top , right - left )\n",
    "    \n",
    "    \"\"\"\n",
    "    output_image = tf.image.encode_png(img)\n",
    "    file_name = tf.constant('./Ouput_image.png')\n",
    "    file = tf.io.write_file(file_name, output_image)    \n",
    "    \"\"\"\n",
    "    \n",
    "    img = tf.image.resize(img, (224, 224))\n",
    "    img = tf.keras.applications.resnet50.preprocess_input(img)    \n",
    "    \n",
    "    return img , label"
   ]
  },
  {
   "cell_type": "code",
   "execution_count": 33,
   "id": "26ffd9e9",
   "metadata": {},
   "outputs": [],
   "source": [
    "train_dataset = tf.data.Dataset.from_tensor_slices( (file_path_train , \n",
    "                                                     train_left , \n",
    "                                                     train_right , \n",
    "                                                     train_top , \n",
    "                                                     train_bottom , \n",
    "                                                     y_train) )\n",
    "\n",
    "val_dataset = tf.data.Dataset.from_tensor_slices( (file_path_val , \n",
    "                                                   val_left , \n",
    "                                                   val_right , \n",
    "                                                   val_top , \n",
    "                                                   val_bottom ,\n",
    "                                                   y_val) )"
   ]
  },
  {
   "cell_type": "code",
   "execution_count": 34,
   "id": "66d8a0e1",
   "metadata": {},
   "outputs": [],
   "source": [
    "train_dataset = train_dataset.shuffle(buffer_size=len(file_path_train))\\\n",
    "                .map( load_image, num_parallel_calls=tf.data.experimental.AUTOTUNE)\\\n",
    "                .batch(BATCH_SIZE)\\\n",
    "                .prefetch(tf.data.experimental.AUTOTUNE)     #\n",
    "\n",
    "\n",
    "val_dataset = val_dataset.shuffle(buffer_size=len(file_path_val))\\\n",
    "                .map( load_image, num_parallel_calls=tf.data.experimental.AUTOTUNE)\\\n",
    "                .batch(BATCH_SIZE)\\\n",
    "                .prefetch(tf.data.experimental.AUTOTUNE)    #"
   ]
  },
  {
   "cell_type": "code",
   "execution_count": null,
   "id": "08a6ed31",
   "metadata": {},
   "outputs": [],
   "source": []
  },
  {
   "cell_type": "code",
   "execution_count": 35,
   "id": "0925d32c",
   "metadata": {},
   "outputs": [],
   "source": [
    "ResNet50 = tf.keras.applications.resnet.ResNet50(\n",
    "    weights=None,\n",
    "    input_shape=(224, 224, 3),\n",
    "    include_top=False)"
   ]
  },
  {
   "cell_type": "code",
   "execution_count": 36,
   "id": "86c37ded",
   "metadata": {},
   "outputs": [],
   "source": [
    "model= Sequential()\n",
    "\n",
    "model.add( ResNet50 )\n",
    "\n",
    "model.add( GlobalAveragePooling2D() ) \n",
    "model.add( Dropout( DROP_OUT_RATE ) ) \n",
    "model.add( BatchNormalization() ) \n",
    "model.add( Dense(128, activation='relu') )\n",
    "model.add( Dropout( DROP_OUT_RATE ) ) \n",
    "model.add( BatchNormalization() ) \n",
    "\n",
    "model.add( Dense(4, activation='softmax') )"
   ]
  },
  {
   "cell_type": "code",
   "execution_count": 37,
   "id": "29c493b9",
   "metadata": {},
   "outputs": [],
   "source": [
    "initial_learning_rate = 0.01\n",
    "\n",
    "def lr_exp_decay(epoch, lr):\n",
    "    k = 0.1\n",
    "    return initial_learning_rate * np.math.exp(-k*epoch)\n",
    "\n",
    "lr_scheduler = LearningRateScheduler(lr_exp_decay, verbose=1)"
   ]
  },
  {
   "cell_type": "code",
   "execution_count": 38,
   "id": "4bfec6db",
   "metadata": {},
   "outputs": [],
   "source": [
    "log_dir = os.path.join('Logs')\n",
    "CHECKPOINT_PATH = os.path.join('CheckPoints_K-Face_AgeGroup')\n",
    "tb_callback = TensorBoard(log_dir=log_dir)\n",
    "\n",
    "cp = ModelCheckpoint(filepath=CHECKPOINT_PATH, \n",
    "                     monitor='val_accuracy',                     \n",
    "                     save_best_only = True,\n",
    "                     verbose = 1)"
   ]
  },
  {
   "cell_type": "code",
   "execution_count": 41,
   "id": "f7e6a4cf",
   "metadata": {},
   "outputs": [],
   "source": [
    "model.compile(\n",
    "    optimizer=tf.keras.optimizers.Adam(1e-3),\n",
    "    loss='categorical_crossentropy',\n",
    "    metrics=['accuracy']\n",
    ")"
   ]
  },
  {
   "cell_type": "code",
   "execution_count": 42,
   "id": "02730789",
   "metadata": {},
   "outputs": [
    {
     "name": "stdout",
     "output_type": "stream",
     "text": [
      "Epoch 1/20\n",
      "\n",
      "Epoch 00001: LearningRateScheduler reducing learning rate to 0.01.\n",
      "8571/8571 [==============================] - 1382s 161ms/step - loss: 1.1348 - accuracy: 0.4390 - val_loss: 1.1036 - val_accuracy: 0.5085\n",
      "\n",
      "Epoch 00001: val_accuracy improved from -inf to 0.50849, saving model to CheckPoints_K-Face_AgeGroup\n"
     ]
    },
    {
     "name": "stderr",
     "output_type": "stream",
     "text": [
      "C:\\Users\\Moon\\anaconda3\\envs\\TF.2.5.0-GPU\\lib\\site-packages\\tensorflow\\python\\keras\\utils\\generic_utils.py:494: CustomMaskWarning: Custom mask layers require a config and must override get_config. When loading, the custom mask layer must be passed to the custom_objects argument.\n",
      "  warnings.warn('Custom mask layers require a config and must override '\n"
     ]
    },
    {
     "name": "stdout",
     "output_type": "stream",
     "text": [
      "INFO:tensorflow:Assets written to: CheckPoints_K-Face_AgeGroup\\assets\n",
      "Epoch 2/20\n",
      "\n",
      "Epoch 00002: LearningRateScheduler reducing learning rate to 0.009048374180359595.\n",
      "8571/8571 [==============================] - 1375s 160ms/step - loss: 0.8107 - accuracy: 0.6454 - val_loss: 0.6045 - val_accuracy: 0.7498\n",
      "\n",
      "Epoch 00002: val_accuracy improved from 0.50849 to 0.74983, saving model to CheckPoints_K-Face_AgeGroup\n"
     ]
    },
    {
     "name": "stderr",
     "output_type": "stream",
     "text": [
      "C:\\Users\\Moon\\anaconda3\\envs\\TF.2.5.0-GPU\\lib\\site-packages\\tensorflow\\python\\keras\\utils\\generic_utils.py:494: CustomMaskWarning: Custom mask layers require a config and must override get_config. When loading, the custom mask layer must be passed to the custom_objects argument.\n",
      "  warnings.warn('Custom mask layers require a config and must override '\n"
     ]
    },
    {
     "name": "stdout",
     "output_type": "stream",
     "text": [
      "INFO:tensorflow:Assets written to: CheckPoints_K-Face_AgeGroup\\assets\n",
      "Epoch 3/20\n",
      "\n",
      "Epoch 00003: LearningRateScheduler reducing learning rate to 0.008187307530779819.\n",
      "8571/8571 [==============================] - 1384s 161ms/step - loss: 0.3793 - accuracy: 0.8526 - val_loss: 0.4762 - val_accuracy: 0.8408\n",
      "\n",
      "Epoch 00003: val_accuracy improved from 0.74983 to 0.84079, saving model to CheckPoints_K-Face_AgeGroup\n"
     ]
    },
    {
     "name": "stderr",
     "output_type": "stream",
     "text": [
      "C:\\Users\\Moon\\anaconda3\\envs\\TF.2.5.0-GPU\\lib\\site-packages\\tensorflow\\python\\keras\\utils\\generic_utils.py:494: CustomMaskWarning: Custom mask layers require a config and must override get_config. When loading, the custom mask layer must be passed to the custom_objects argument.\n",
      "  warnings.warn('Custom mask layers require a config and must override '\n"
     ]
    },
    {
     "name": "stdout",
     "output_type": "stream",
     "text": [
      "INFO:tensorflow:Assets written to: CheckPoints_K-Face_AgeGroup\\assets\n",
      "Epoch 4/20\n",
      "\n",
      "Epoch 00004: LearningRateScheduler reducing learning rate to 0.007408182206817179.\n",
      "8571/8571 [==============================] - 1383s 161ms/step - loss: 0.1984 - accuracy: 0.9271 - val_loss: 0.3087 - val_accuracy: 0.8874\n",
      "\n",
      "Epoch 00004: val_accuracy improved from 0.84079 to 0.88737, saving model to CheckPoints_K-Face_AgeGroup\n"
     ]
    },
    {
     "name": "stderr",
     "output_type": "stream",
     "text": [
      "C:\\Users\\Moon\\anaconda3\\envs\\TF.2.5.0-GPU\\lib\\site-packages\\tensorflow\\python\\keras\\utils\\generic_utils.py:494: CustomMaskWarning: Custom mask layers require a config and must override get_config. When loading, the custom mask layer must be passed to the custom_objects argument.\n",
      "  warnings.warn('Custom mask layers require a config and must override '\n"
     ]
    },
    {
     "name": "stdout",
     "output_type": "stream",
     "text": [
      "INFO:tensorflow:Assets written to: CheckPoints_K-Face_AgeGroup\\assets\n",
      "Epoch 5/20\n",
      "\n",
      "Epoch 00005: LearningRateScheduler reducing learning rate to 0.006703200460356393.\n",
      "8571/8571 [==============================] - 1383s 161ms/step - loss: 0.1301 - accuracy: 0.9530 - val_loss: 0.3043 - val_accuracy: 0.8927\n",
      "\n",
      "Epoch 00005: val_accuracy improved from 0.88737 to 0.89268, saving model to CheckPoints_K-Face_AgeGroup\n"
     ]
    },
    {
     "name": "stderr",
     "output_type": "stream",
     "text": [
      "C:\\Users\\Moon\\anaconda3\\envs\\TF.2.5.0-GPU\\lib\\site-packages\\tensorflow\\python\\keras\\utils\\generic_utils.py:494: CustomMaskWarning: Custom mask layers require a config and must override get_config. When loading, the custom mask layer must be passed to the custom_objects argument.\n",
      "  warnings.warn('Custom mask layers require a config and must override '\n"
     ]
    },
    {
     "name": "stdout",
     "output_type": "stream",
     "text": [
      "INFO:tensorflow:Assets written to: CheckPoints_K-Face_AgeGroup\\assets\n",
      "Epoch 6/20\n",
      "\n",
      "Epoch 00006: LearningRateScheduler reducing learning rate to 0.006065306597126334.\n",
      "8571/8571 [==============================] - 1386s 162ms/step - loss: 0.0952 - accuracy: 0.9661 - val_loss: 0.1255 - val_accuracy: 0.9543\n",
      "\n",
      "Epoch 00006: val_accuracy improved from 0.89268 to 0.95433, saving model to CheckPoints_K-Face_AgeGroup\n"
     ]
    },
    {
     "name": "stderr",
     "output_type": "stream",
     "text": [
      "C:\\Users\\Moon\\anaconda3\\envs\\TF.2.5.0-GPU\\lib\\site-packages\\tensorflow\\python\\keras\\utils\\generic_utils.py:494: CustomMaskWarning: Custom mask layers require a config and must override get_config. When loading, the custom mask layer must be passed to the custom_objects argument.\n",
      "  warnings.warn('Custom mask layers require a config and must override '\n"
     ]
    },
    {
     "name": "stdout",
     "output_type": "stream",
     "text": [
      "INFO:tensorflow:Assets written to: CheckPoints_K-Face_AgeGroup\\assets\n",
      "Epoch 7/20\n",
      "\n",
      "Epoch 00007: LearningRateScheduler reducing learning rate to 0.005488116360940264.\n",
      "8571/8571 [==============================] - 1383s 161ms/step - loss: 0.0806 - accuracy: 0.9712 - val_loss: 0.1584 - val_accuracy: 0.9406\n",
      "\n",
      "Epoch 00007: val_accuracy did not improve from 0.95433\n",
      "Epoch 8/20\n",
      "\n",
      "Epoch 00008: LearningRateScheduler reducing learning rate to 0.004965853037914095.\n",
      "8571/8571 [==============================] - 1385s 162ms/step - loss: 0.0658 - accuracy: 0.9769 - val_loss: 0.0436 - val_accuracy: 0.9845\n",
      "\n",
      "Epoch 00008: val_accuracy improved from 0.95433 to 0.98454, saving model to CheckPoints_K-Face_AgeGroup\n"
     ]
    },
    {
     "name": "stderr",
     "output_type": "stream",
     "text": [
      "C:\\Users\\Moon\\anaconda3\\envs\\TF.2.5.0-GPU\\lib\\site-packages\\tensorflow\\python\\keras\\utils\\generic_utils.py:494: CustomMaskWarning: Custom mask layers require a config and must override get_config. When loading, the custom mask layer must be passed to the custom_objects argument.\n",
      "  warnings.warn('Custom mask layers require a config and must override '\n"
     ]
    },
    {
     "name": "stdout",
     "output_type": "stream",
     "text": [
      "INFO:tensorflow:Assets written to: CheckPoints_K-Face_AgeGroup\\assets\n",
      "Epoch 9/20\n",
      "\n",
      "Epoch 00009: LearningRateScheduler reducing learning rate to 0.004493289641172216.\n",
      "8571/8571 [==============================] - 1384s 161ms/step - loss: 0.0538 - accuracy: 0.9814 - val_loss: 0.1028 - val_accuracy: 0.9702\n",
      "\n",
      "Epoch 00009: val_accuracy did not improve from 0.98454\n",
      "Epoch 10/20\n",
      "\n",
      "Epoch 00010: LearningRateScheduler reducing learning rate to 0.004065696597405992.\n",
      "8571/8571 [==============================] - 1386s 162ms/step - loss: 0.0431 - accuracy: 0.9852 - val_loss: 0.5557 - val_accuracy: 0.9849\n",
      "\n",
      "Epoch 00010: val_accuracy improved from 0.98454 to 0.98488, saving model to CheckPoints_K-Face_AgeGroup\n"
     ]
    },
    {
     "name": "stderr",
     "output_type": "stream",
     "text": [
      "C:\\Users\\Moon\\anaconda3\\envs\\TF.2.5.0-GPU\\lib\\site-packages\\tensorflow\\python\\keras\\utils\\generic_utils.py:494: CustomMaskWarning: Custom mask layers require a config and must override get_config. When loading, the custom mask layer must be passed to the custom_objects argument.\n",
      "  warnings.warn('Custom mask layers require a config and must override '\n"
     ]
    },
    {
     "name": "stdout",
     "output_type": "stream",
     "text": [
      "INFO:tensorflow:Assets written to: CheckPoints_K-Face_AgeGroup\\assets\n",
      "Epoch 11/20\n",
      "\n",
      "Epoch 00011: LearningRateScheduler reducing learning rate to 0.0036787944117144234.\n",
      "8571/8571 [==============================] - 1383s 161ms/step - loss: 0.0393 - accuracy: 0.9866 - val_loss: 0.1674 - val_accuracy: 0.9677\n",
      "\n",
      "Epoch 00011: val_accuracy did not improve from 0.98488\n",
      "Epoch 12/20\n",
      "\n",
      "Epoch 00012: LearningRateScheduler reducing learning rate to 0.003328710836980796.\n",
      "8571/8571 [==============================] - 1385s 162ms/step - loss: 0.0356 - accuracy: 0.9876 - val_loss: 0.1649 - val_accuracy: 0.9555\n",
      "\n",
      "Epoch 00012: val_accuracy did not improve from 0.98488\n",
      "Epoch 13/20\n",
      "\n",
      "Epoch 00013: LearningRateScheduler reducing learning rate to 0.0030119421191220205.\n",
      "8571/8571 [==============================] - 1386s 162ms/step - loss: 0.0287 - accuracy: 0.9897 - val_loss: 0.0412 - val_accuracy: 0.9890\n",
      "\n",
      "Epoch 00013: val_accuracy improved from 0.98488 to 0.98904, saving model to CheckPoints_K-Face_AgeGroup\n"
     ]
    },
    {
     "name": "stderr",
     "output_type": "stream",
     "text": [
      "C:\\Users\\Moon\\anaconda3\\envs\\TF.2.5.0-GPU\\lib\\site-packages\\tensorflow\\python\\keras\\utils\\generic_utils.py:494: CustomMaskWarning: Custom mask layers require a config and must override get_config. When loading, the custom mask layer must be passed to the custom_objects argument.\n",
      "  warnings.warn('Custom mask layers require a config and must override '\n"
     ]
    },
    {
     "name": "stdout",
     "output_type": "stream",
     "text": [
      "INFO:tensorflow:Assets written to: CheckPoints_K-Face_AgeGroup\\assets\n",
      "Epoch 14/20\n",
      "\n",
      "Epoch 00014: LearningRateScheduler reducing learning rate to 0.002725317930340126.\n",
      "8571/8571 [==============================] - 1384s 161ms/step - loss: 0.0224 - accuracy: 0.9921 - val_loss: 1102.1735 - val_accuracy: 0.2515\n",
      "\n",
      "Epoch 00014: val_accuracy did not improve from 0.98904\n",
      "Epoch 15/20\n",
      "\n",
      "Epoch 00015: LearningRateScheduler reducing learning rate to 0.0024659696394160645.\n",
      "8571/8571 [==============================] - 1385s 161ms/step - loss: 0.0264 - accuracy: 0.9909 - val_loss: 0.0485 - val_accuracy: 0.9888\n",
      "\n",
      "Epoch 00015: val_accuracy did not improve from 0.98904\n",
      "Epoch 16/20\n",
      "\n",
      "Epoch 00016: LearningRateScheduler reducing learning rate to 0.0022313016014842983.\n",
      "8571/8571 [==============================] - 1387s 162ms/step - loss: 0.0163 - accuracy: 0.9940 - val_loss: 0.3981 - val_accuracy: 0.9817\n",
      "\n",
      "Epoch 00016: val_accuracy did not improve from 0.98904\n",
      "Epoch 17/20\n",
      "\n",
      "Epoch 00017: LearningRateScheduler reducing learning rate to 0.002018965179946554.\n",
      "8571/8571 [==============================] - 1387s 162ms/step - loss: 0.0148 - accuracy: 0.9946 - val_loss: 0.1809 - val_accuracy: 0.9621\n",
      "\n",
      "Epoch 00017: val_accuracy did not improve from 0.98904\n",
      "Epoch 18/20\n",
      "\n",
      "Epoch 00018: LearningRateScheduler reducing learning rate to 0.001826835240527346.\n",
      "8571/8571 [==============================] - 1389s 162ms/step - loss: 0.0116 - accuracy: 0.9957 - val_loss: 0.1378 - val_accuracy: 0.9711\n",
      "\n",
      "Epoch 00018: val_accuracy did not improve from 0.98904\n",
      "Epoch 19/20\n",
      "\n",
      "Epoch 00019: LearningRateScheduler reducing learning rate to 0.0016529888822158654.\n",
      "8571/8571 [==============================] - 1389s 162ms/step - loss: 0.0191 - accuracy: 0.9935 - val_loss: 0.2410 - val_accuracy: 0.9909\n",
      "\n",
      "Epoch 00019: val_accuracy improved from 0.98904 to 0.99093, saving model to CheckPoints_K-Face_AgeGroup\n"
     ]
    },
    {
     "name": "stderr",
     "output_type": "stream",
     "text": [
      "C:\\Users\\Moon\\anaconda3\\envs\\TF.2.5.0-GPU\\lib\\site-packages\\tensorflow\\python\\keras\\utils\\generic_utils.py:494: CustomMaskWarning: Custom mask layers require a config and must override get_config. When loading, the custom mask layer must be passed to the custom_objects argument.\n",
      "  warnings.warn('Custom mask layers require a config and must override '\n"
     ]
    },
    {
     "name": "stdout",
     "output_type": "stream",
     "text": [
      "INFO:tensorflow:Assets written to: CheckPoints_K-Face_AgeGroup\\assets\n",
      "Epoch 20/20\n",
      "\n",
      "Epoch 00020: LearningRateScheduler reducing learning rate to 0.0014956861922263505.\n",
      "8571/8571 [==============================] - 1386s 162ms/step - loss: 0.0159 - accuracy: 0.9944 - val_loss: 0.0288 - val_accuracy: 0.9926\n",
      "\n",
      "Epoch 00020: val_accuracy improved from 0.99093 to 0.99259, saving model to CheckPoints_K-Face_AgeGroup\n"
     ]
    },
    {
     "name": "stderr",
     "output_type": "stream",
     "text": [
      "C:\\Users\\Moon\\anaconda3\\envs\\TF.2.5.0-GPU\\lib\\site-packages\\tensorflow\\python\\keras\\utils\\generic_utils.py:494: CustomMaskWarning: Custom mask layers require a config and must override get_config. When loading, the custom mask layer must be passed to the custom_objects argument.\n",
      "  warnings.warn('Custom mask layers require a config and must override '\n"
     ]
    },
    {
     "name": "stdout",
     "output_type": "stream",
     "text": [
      "INFO:tensorflow:Assets written to: CheckPoints_K-Face_AgeGroup\\assets\n"
     ]
    }
   ],
   "source": [
    "hist = model.fit(train_dataset,\n",
    "                 validation_data=val_dataset,\n",
    "                 callbacks=[lr_scheduler , cp , tb_callback],\n",
    "                 epochs = 20,\n",
    "                 verbose = 1 \n",
    ")"
   ]
  },
  {
   "cell_type": "code",
   "execution_count": null,
   "id": "b7ed2dec",
   "metadata": {},
   "outputs": [],
   "source": []
  },
  {
   "cell_type": "code",
   "execution_count": null,
   "id": "afed1c6d",
   "metadata": {},
   "outputs": [],
   "source": []
  },
  {
   "cell_type": "code",
   "execution_count": null,
   "id": "6ced41ed",
   "metadata": {},
   "outputs": [],
   "source": []
  },
  {
   "cell_type": "code",
   "execution_count": null,
   "id": "3a524faf",
   "metadata": {},
   "outputs": [],
   "source": []
  },
  {
   "cell_type": "code",
   "execution_count": null,
   "id": "9c656009",
   "metadata": {},
   "outputs": [],
   "source": []
  },
  {
   "cell_type": "code",
   "execution_count": null,
   "id": "e5ba17c7",
   "metadata": {},
   "outputs": [],
   "source": []
  },
  {
   "cell_type": "code",
   "execution_count": null,
   "id": "cef4fd7f",
   "metadata": {},
   "outputs": [],
   "source": []
  },
  {
   "cell_type": "code",
   "execution_count": null,
   "id": "db7a8b6a",
   "metadata": {},
   "outputs": [],
   "source": []
  },
  {
   "cell_type": "code",
   "execution_count": null,
   "id": "499adc5d",
   "metadata": {},
   "outputs": [],
   "source": []
  },
  {
   "cell_type": "code",
   "execution_count": null,
   "id": "9289881c",
   "metadata": {},
   "outputs": [],
   "source": []
  },
  {
   "cell_type": "code",
   "execution_count": null,
   "id": "99ad97c7",
   "metadata": {},
   "outputs": [],
   "source": []
  },
  {
   "cell_type": "code",
   "execution_count": null,
   "id": "163b81fe",
   "metadata": {},
   "outputs": [],
   "source": []
  },
  {
   "cell_type": "markdown",
   "id": "089f23db",
   "metadata": {},
   "source": [
    "# 사용한 Code"
   ]
  },
  {
   "cell_type": "code",
   "execution_count": null,
   "id": "583566c0",
   "metadata": {},
   "outputs": [],
   "source": [
    "def gender_map( gender ):\n",
    "    if gender == '남':\n",
    "        return 1\n",
    "    elif gender == '여':\n",
    "        return 0"
   ]
  },
  {
   "cell_type": "code",
   "execution_count": null,
   "id": "75024df7",
   "metadata": {},
   "outputs": [],
   "source": [
    "dataset_info['new_gender'] = dataset_info['성별'].map( gender_map )\n",
    "dataset_info.head()"
   ]
  },
  {
   "cell_type": "code",
   "execution_count": null,
   "id": "96c0a871",
   "metadata": {},
   "outputs": [],
   "source": []
  },
  {
   "cell_type": "code",
   "execution_count": null,
   "id": "e84e58bc",
   "metadata": {},
   "outputs": [],
   "source": [
    "if HOME_TRAIN == False:\n",
    "    data_file_path = [c.replace('f:/', 'C:/Users/Moon/Desktop/Age_Gender_Prediction/Dataset/') for c in data_file_path]"
   ]
  },
  {
   "cell_type": "code",
   "execution_count": null,
   "id": "d0c8c9f6",
   "metadata": {},
   "outputs": [],
   "source": [
    "def get_ID_2(file_path):\n",
    "    return file_path[19:]"
   ]
  },
  {
   "cell_type": "code",
   "execution_count": null,
   "id": "e9e4c1b4",
   "metadata": {},
   "outputs": [],
   "source": [
    "dataset_info['ID'] = dataset_info['file_path'].apply(get_ID_2)\n",
    "dataset_info['ID']"
   ]
  },
  {
   "cell_type": "code",
   "execution_count": null,
   "id": "05f0a839",
   "metadata": {},
   "outputs": [],
   "source": []
  },
  {
   "cell_type": "code",
   "execution_count": null,
   "id": "f4f00366",
   "metadata": {},
   "outputs": [],
   "source": [
    "dataset_info.info()"
   ]
  },
  {
   "cell_type": "code",
   "execution_count": null,
   "id": "111eb6ff",
   "metadata": {},
   "outputs": [],
   "source": []
  },
  {
   "cell_type": "code",
   "execution_count": null,
   "id": "4d51e09f",
   "metadata": {},
   "outputs": [],
   "source": [
    "face_coor_info = pd.read_csv(\"coor_211129.csv\")"
   ]
  },
  {
   "cell_type": "code",
   "execution_count": null,
   "id": "30b53f05",
   "metadata": {},
   "outputs": [],
   "source": [
    "face_coor_info.head()"
   ]
  },
  {
   "cell_type": "code",
   "execution_count": null,
   "id": "b7147bd5",
   "metadata": {},
   "outputs": [],
   "source": [
    "face_coor_info.info()"
   ]
  },
  {
   "cell_type": "code",
   "execution_count": null,
   "id": "a8aee020",
   "metadata": {},
   "outputs": [],
   "source": [
    "def get_ID(file_path):\n",
    "    return file_path[68:]"
   ]
  },
  {
   "cell_type": "code",
   "execution_count": null,
   "id": "20b5b6e7",
   "metadata": {},
   "outputs": [],
   "source": [
    "face_coor_info['file_path'][0]"
   ]
  },
  {
   "cell_type": "code",
   "execution_count": null,
   "id": "0c73d323",
   "metadata": {},
   "outputs": [],
   "source": [
    "face_coor_info['ID'] = face_coor_info['file_path'].apply(get_ID)\n",
    "face_coor_info['ID']"
   ]
  },
  {
   "cell_type": "code",
   "execution_count": null,
   "id": "907c9e14",
   "metadata": {},
   "outputs": [],
   "source": []
  },
  {
   "cell_type": "code",
   "execution_count": null,
   "id": "7f626cdb",
   "metadata": {},
   "outputs": [],
   "source": [
    "meta_data_face_coor = pd.merge(face_coor_info , dataset_info , how='left' , on='ID')"
   ]
  },
  {
   "cell_type": "code",
   "execution_count": null,
   "id": "7b521cc3",
   "metadata": {},
   "outputs": [],
   "source": [
    "meta_data_face_coor.head()"
   ]
  },
  {
   "cell_type": "code",
   "execution_count": null,
   "id": "b63c02e8",
   "metadata": {},
   "outputs": [],
   "source": [
    "meta_data_face_coor.info()"
   ]
  },
  {
   "cell_type": "code",
   "execution_count": null,
   "id": "6bae1bcd",
   "metadata": {},
   "outputs": [],
   "source": [
    "meta_data_face_coor = meta_data_face_coor.drop(['file_path_y'] , axis=1)"
   ]
  },
  {
   "cell_type": "code",
   "execution_count": null,
   "id": "e1a85522",
   "metadata": {},
   "outputs": [],
   "source": [
    "meta_data_face_coor.head()"
   ]
  },
  {
   "cell_type": "code",
   "execution_count": null,
   "id": "40cb220f",
   "metadata": {},
   "outputs": [],
   "source": [
    "meta_data_face_coor.isna().sum()"
   ]
  },
  {
   "cell_type": "code",
   "execution_count": null,
   "id": "4debfc40",
   "metadata": {},
   "outputs": [],
   "source": [
    "meta_data_face_coor['연령대'].value_counts()"
   ]
  },
  {
   "cell_type": "code",
   "execution_count": null,
   "id": "e036a8f0",
   "metadata": {},
   "outputs": [],
   "source": [
    "meta_data_face_coor['new_gender'].value_counts()"
   ]
  },
  {
   "cell_type": "code",
   "execution_count": null,
   "id": "94b56a45",
   "metadata": {},
   "outputs": [],
   "source": [
    "meta_data_face_coor.to_csv(\"meta_data_face_coor_K-Face.csv\",index=False)"
   ]
  },
  {
   "cell_type": "code",
   "execution_count": null,
   "id": "8c3c697e",
   "metadata": {},
   "outputs": [],
   "source": []
  },
  {
   "cell_type": "code",
   "execution_count": null,
   "id": "f557aaaa",
   "metadata": {},
   "outputs": [],
   "source": []
  },
  {
   "cell_type": "code",
   "execution_count": null,
   "id": "f3e1d95a",
   "metadata": {},
   "outputs": [],
   "source": []
  },
  {
   "cell_type": "code",
   "execution_count": null,
   "id": "23632cae",
   "metadata": {},
   "outputs": [],
   "source": []
  }
 ],
 "metadata": {
  "kernelspec": {
   "display_name": "TF.2.5.0-GPU",
   "language": "python",
   "name": "tf.2.5.0-gpu"
  },
  "language_info": {
   "codemirror_mode": {
    "name": "ipython",
    "version": 3
   },
   "file_extension": ".py",
   "mimetype": "text/x-python",
   "name": "python",
   "nbconvert_exporter": "python",
   "pygments_lexer": "ipython3",
   "version": "3.9.7"
  }
 },
 "nbformat": 4,
 "nbformat_minor": 5
}
