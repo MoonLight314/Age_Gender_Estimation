{
 "cells": [
  {
   "cell_type": "code",
   "execution_count": 2,
   "id": "dcd84b85",
   "metadata": {},
   "outputs": [],
   "source": [
    "import os\n",
    "import shutil\n",
    "import pandas as pd\n",
    "from tqdm import tqdm"
   ]
  },
  {
   "cell_type": "code",
   "execution_count": 3,
   "id": "60c829ab",
   "metadata": {},
   "outputs": [
    {
     "data": {
      "text/html": [
       "<div>\n",
       "<style scoped>\n",
       "    .dataframe tbody tr th:only-of-type {\n",
       "        vertical-align: middle;\n",
       "    }\n",
       "\n",
       "    .dataframe tbody tr th {\n",
       "        vertical-align: top;\n",
       "    }\n",
       "\n",
       "    .dataframe thead th {\n",
       "        text-align: right;\n",
       "    }\n",
       "</style>\n",
       "<table border=\"1\" class=\"dataframe\">\n",
       "  <thead>\n",
       "    <tr style=\"text-align: right;\">\n",
       "      <th></th>\n",
       "      <th>file_path</th>\n",
       "      <th>age</th>\n",
       "      <th>gender</th>\n",
       "    </tr>\n",
       "  </thead>\n",
       "  <tbody>\n",
       "    <tr>\n",
       "      <th>0</th>\n",
       "      <td>Dataset\\AFAD-Full\\15\\111\\109008-0.jpg</td>\n",
       "      <td>15</td>\n",
       "      <td>male</td>\n",
       "    </tr>\n",
       "    <tr>\n",
       "      <th>1</th>\n",
       "      <td>Dataset\\AFAD-Full\\15\\111\\114557-0.jpg</td>\n",
       "      <td>15</td>\n",
       "      <td>male</td>\n",
       "    </tr>\n",
       "    <tr>\n",
       "      <th>2</th>\n",
       "      <td>Dataset\\AFAD-Full\\15\\111\\116002-0.jpg</td>\n",
       "      <td>15</td>\n",
       "      <td>male</td>\n",
       "    </tr>\n",
       "    <tr>\n",
       "      <th>3</th>\n",
       "      <td>Dataset\\AFAD-Full\\15\\111\\116080-1.jpg</td>\n",
       "      <td>15</td>\n",
       "      <td>male</td>\n",
       "    </tr>\n",
       "    <tr>\n",
       "      <th>4</th>\n",
       "      <td>Dataset\\AFAD-Full\\15\\111\\116596-2.jpg</td>\n",
       "      <td>15</td>\n",
       "      <td>male</td>\n",
       "    </tr>\n",
       "  </tbody>\n",
       "</table>\n",
       "</div>"
      ],
      "text/plain": [
       "                               file_path  age gender\n",
       "0  Dataset\\AFAD-Full\\15\\111\\109008-0.jpg   15   male\n",
       "1  Dataset\\AFAD-Full\\15\\111\\114557-0.jpg   15   male\n",
       "2  Dataset\\AFAD-Full\\15\\111\\116002-0.jpg   15   male\n",
       "3  Dataset\\AFAD-Full\\15\\111\\116080-1.jpg   15   male\n",
       "4  Dataset\\AFAD-Full\\15\\111\\116596-2.jpg   15   male"
      ]
     },
     "execution_count": 3,
     "metadata": {},
     "output_type": "execute_result"
    }
   ],
   "source": [
    "data = pd.read_csv(\"meta_data_AFAD_dataset.csv\")\n",
    "data.head()"
   ]
  },
  {
   "cell_type": "code",
   "execution_count": 4,
   "id": "ddeb9bcb",
   "metadata": {},
   "outputs": [],
   "source": [
    "path = data['file_path'].tolist()\n",
    "gender = data['gender'].tolist()"
   ]
  },
  {
   "cell_type": "code",
   "execution_count": null,
   "id": "0b57863b",
   "metadata": {},
   "outputs": [],
   "source": []
  },
  {
   "cell_type": "code",
   "execution_count": 6,
   "id": "79808905",
   "metadata": {},
   "outputs": [],
   "source": [
    "for idx,p in enumerate(path):\n",
    "#for idx,p in tqdm(enumerate(path[:50])):\n",
    "    \n",
    "    if gender[idx] == 'female':\n",
    "        shutil.copy( p , os.path.join(\"Dataset\\AFAD-Full\\Generator\" , \"female\") )\n",
    "    else:\n",
    "        shutil.copy( p , os.path.join(\"Dataset\\AFAD-Full\\Generator\" , \"male\") )\n",
    "    "
   ]
  },
  {
   "cell_type": "code",
   "execution_count": null,
   "id": "090a3a3a",
   "metadata": {},
   "outputs": [],
   "source": []
  }
 ],
 "metadata": {
  "kernelspec": {
   "display_name": "TF.2.5.0-GPU",
   "language": "python",
   "name": "tf.2.5.0-gpu"
  },
  "language_info": {
   "codemirror_mode": {
    "name": "ipython",
    "version": 3
   },
   "file_extension": ".py",
   "mimetype": "text/x-python",
   "name": "python",
   "nbconvert_exporter": "python",
   "pygments_lexer": "ipython3",
   "version": "3.9.7"
  }
 },
 "nbformat": 4,
 "nbformat_minor": 5
}
