{
 "cells": [
  {
   "cell_type": "code",
   "execution_count": 1,
   "id": "168e3a8f",
   "metadata": {},
   "outputs": [],
   "source": [
    "import pandas as pd\n",
    "import os\n",
    "import numpy as np\n",
    "from sklearn.preprocessing import LabelEncoder\n",
    "from sklearn.model_selection import train_test_split\n",
    "import cv2\n",
    "import tensorflow as tf\n",
    "from tensorflow.keras.models import Sequential\n",
    "from tensorflow.keras.layers import GlobalAveragePooling2D , BatchNormalization , Dropout , Dense\n",
    "from tensorflow.keras.callbacks import TensorBoard , ModelCheckpoint , LearningRateScheduler"
   ]
  },
  {
   "cell_type": "code",
   "execution_count": 2,
   "id": "a893be1e",
   "metadata": {},
   "outputs": [],
   "source": [
    "HOME_TRAIN = False"
   ]
  },
  {
   "cell_type": "code",
   "execution_count": 3,
   "id": "c3d83429",
   "metadata": {},
   "outputs": [],
   "source": [
    "BATCH_SIZE = 32\n",
    "DROP_OUT_RATE = 0.2"
   ]
  },
  {
   "cell_type": "code",
   "execution_count": 4,
   "id": "c6f6a571",
   "metadata": {},
   "outputs": [
    {
     "data": {
      "text/html": [
       "<div>\n",
       "<style scoped>\n",
       "    .dataframe tbody tr th:only-of-type {\n",
       "        vertical-align: middle;\n",
       "    }\n",
       "\n",
       "    .dataframe tbody tr th {\n",
       "        vertical-align: top;\n",
       "    }\n",
       "\n",
       "    .dataframe thead th {\n",
       "        text-align: right;\n",
       "    }\n",
       "</style>\n",
       "<table border=\"1\" class=\"dataframe\">\n",
       "  <thead>\n",
       "    <tr style=\"text-align: right;\">\n",
       "      <th></th>\n",
       "      <th>file_path_x</th>\n",
       "      <th>left</th>\n",
       "      <th>right</th>\n",
       "      <th>top</th>\n",
       "      <th>bottom</th>\n",
       "      <th>연령대</th>\n",
       "      <th>성별</th>\n",
       "      <th>new_gender</th>\n",
       "    </tr>\n",
       "  </thead>\n",
       "  <tbody>\n",
       "    <tr>\n",
       "      <th>0</th>\n",
       "      <td>C:/Users/Moon/Desktop/Age_Gender_Prediction/Da...</td>\n",
       "      <td>289</td>\n",
       "      <td>491</td>\n",
       "      <td>155</td>\n",
       "      <td>402</td>\n",
       "      <td>30대</td>\n",
       "      <td>남</td>\n",
       "      <td>1</td>\n",
       "    </tr>\n",
       "    <tr>\n",
       "      <th>1</th>\n",
       "      <td>C:/Users/Moon/Desktop/Age_Gender_Prediction/Da...</td>\n",
       "      <td>377</td>\n",
       "      <td>581</td>\n",
       "      <td>175</td>\n",
       "      <td>392</td>\n",
       "      <td>30대</td>\n",
       "      <td>남</td>\n",
       "      <td>1</td>\n",
       "    </tr>\n",
       "    <tr>\n",
       "      <th>2</th>\n",
       "      <td>C:/Users/Moon/Desktop/Age_Gender_Prediction/Da...</td>\n",
       "      <td>313</td>\n",
       "      <td>502</td>\n",
       "      <td>181</td>\n",
       "      <td>401</td>\n",
       "      <td>30대</td>\n",
       "      <td>남</td>\n",
       "      <td>1</td>\n",
       "    </tr>\n",
       "    <tr>\n",
       "      <th>3</th>\n",
       "      <td>C:/Users/Moon/Desktop/Age_Gender_Prediction/Da...</td>\n",
       "      <td>394</td>\n",
       "      <td>602</td>\n",
       "      <td>142</td>\n",
       "      <td>407</td>\n",
       "      <td>30대</td>\n",
       "      <td>남</td>\n",
       "      <td>1</td>\n",
       "    </tr>\n",
       "    <tr>\n",
       "      <th>4</th>\n",
       "      <td>C:/Users/Moon/Desktop/Age_Gender_Prediction/Da...</td>\n",
       "      <td>373</td>\n",
       "      <td>589</td>\n",
       "      <td>142</td>\n",
       "      <td>403</td>\n",
       "      <td>30대</td>\n",
       "      <td>남</td>\n",
       "      <td>1</td>\n",
       "    </tr>\n",
       "    <tr>\n",
       "      <th>...</th>\n",
       "      <td>...</td>\n",
       "      <td>...</td>\n",
       "      <td>...</td>\n",
       "      <td>...</td>\n",
       "      <td>...</td>\n",
       "      <td>...</td>\n",
       "      <td>...</td>\n",
       "      <td>...</td>\n",
       "    </tr>\n",
       "    <tr>\n",
       "      <th>365667</th>\n",
       "      <td>C:/Users/Moon/Desktop/Age_Gender_Prediction/Da...</td>\n",
       "      <td>323</td>\n",
       "      <td>635</td>\n",
       "      <td>101</td>\n",
       "      <td>470</td>\n",
       "      <td>20대</td>\n",
       "      <td>여</td>\n",
       "      <td>0</td>\n",
       "    </tr>\n",
       "    <tr>\n",
       "      <th>365668</th>\n",
       "      <td>C:/Users/Moon/Desktop/Age_Gender_Prediction/Da...</td>\n",
       "      <td>305</td>\n",
       "      <td>600</td>\n",
       "      <td>101</td>\n",
       "      <td>466</td>\n",
       "      <td>20대</td>\n",
       "      <td>여</td>\n",
       "      <td>0</td>\n",
       "    </tr>\n",
       "    <tr>\n",
       "      <th>365669</th>\n",
       "      <td>C:/Users/Moon/Desktop/Age_Gender_Prediction/Da...</td>\n",
       "      <td>282</td>\n",
       "      <td>577</td>\n",
       "      <td>101</td>\n",
       "      <td>467</td>\n",
       "      <td>20대</td>\n",
       "      <td>여</td>\n",
       "      <td>0</td>\n",
       "    </tr>\n",
       "    <tr>\n",
       "      <th>365670</th>\n",
       "      <td>C:/Users/Moon/Desktop/Age_Gender_Prediction/Da...</td>\n",
       "      <td>260</td>\n",
       "      <td>557</td>\n",
       "      <td>100</td>\n",
       "      <td>472</td>\n",
       "      <td>20대</td>\n",
       "      <td>여</td>\n",
       "      <td>0</td>\n",
       "    </tr>\n",
       "    <tr>\n",
       "      <th>365671</th>\n",
       "      <td>C:/Users/Moon/Desktop/Age_Gender_Prediction/Da...</td>\n",
       "      <td>231</td>\n",
       "      <td>537</td>\n",
       "      <td>96</td>\n",
       "      <td>474</td>\n",
       "      <td>20대</td>\n",
       "      <td>여</td>\n",
       "      <td>0</td>\n",
       "    </tr>\n",
       "  </tbody>\n",
       "</table>\n",
       "<p>365672 rows × 8 columns</p>\n",
       "</div>"
      ],
      "text/plain": [
       "                                              file_path_x  left  right  top  \\\n",
       "0       C:/Users/Moon/Desktop/Age_Gender_Prediction/Da...   289    491  155   \n",
       "1       C:/Users/Moon/Desktop/Age_Gender_Prediction/Da...   377    581  175   \n",
       "2       C:/Users/Moon/Desktop/Age_Gender_Prediction/Da...   313    502  181   \n",
       "3       C:/Users/Moon/Desktop/Age_Gender_Prediction/Da...   394    602  142   \n",
       "4       C:/Users/Moon/Desktop/Age_Gender_Prediction/Da...   373    589  142   \n",
       "...                                                   ...   ...    ...  ...   \n",
       "365667  C:/Users/Moon/Desktop/Age_Gender_Prediction/Da...   323    635  101   \n",
       "365668  C:/Users/Moon/Desktop/Age_Gender_Prediction/Da...   305    600  101   \n",
       "365669  C:/Users/Moon/Desktop/Age_Gender_Prediction/Da...   282    577  101   \n",
       "365670  C:/Users/Moon/Desktop/Age_Gender_Prediction/Da...   260    557  100   \n",
       "365671  C:/Users/Moon/Desktop/Age_Gender_Prediction/Da...   231    537   96   \n",
       "\n",
       "        bottom  연령대 성별  new_gender  \n",
       "0          402  30대  남           1  \n",
       "1          392  30대  남           1  \n",
       "2          401  30대  남           1  \n",
       "3          407  30대  남           1  \n",
       "4          403  30대  남           1  \n",
       "...        ...  ... ..         ...  \n",
       "365667     470  20대  여           0  \n",
       "365668     466  20대  여           0  \n",
       "365669     467  20대  여           0  \n",
       "365670     472  20대  여           0  \n",
       "365671     474  20대  여           0  \n",
       "\n",
       "[365672 rows x 8 columns]"
      ]
     },
     "execution_count": 4,
     "metadata": {},
     "output_type": "execute_result"
    }
   ],
   "source": [
    "dataset_info = pd.read_csv(\"meta_data_face_coor_K-Face.csv\")\n",
    "dataset_info"
   ]
  },
  {
   "cell_type": "code",
   "execution_count": null,
   "id": "deaeacd9",
   "metadata": {},
   "outputs": [],
   "source": []
  },
  {
   "cell_type": "code",
   "execution_count": 5,
   "id": "a3e4d325",
   "metadata": {},
   "outputs": [],
   "source": [
    "data_file_path = dataset_info[['file_path_x' , 'left' , 'right' , 'top' , 'bottom']]\n",
    "gender = dataset_info['new_gender'].tolist()"
   ]
  },
  {
   "cell_type": "code",
   "execution_count": 6,
   "id": "503ad74f",
   "metadata": {},
   "outputs": [],
   "source": [
    "file_path_train, file_path_val, y_train, y_val = train_test_split(data_file_path, gender, \n",
    "                                                                  test_size=0.25, \n",
    "                                                                  random_state=777, \n",
    "                                                                  stratify = gender)"
   ]
  },
  {
   "cell_type": "code",
   "execution_count": 7,
   "id": "5152966b",
   "metadata": {},
   "outputs": [
    {
     "name": "stdout",
     "output_type": "stream",
     "text": [
      "274254 274254 91418 91418\n"
     ]
    }
   ],
   "source": [
    "print( len(file_path_train) , len(y_train) , len(file_path_val) , len(y_val) )"
   ]
  },
  {
   "cell_type": "code",
   "execution_count": null,
   "id": "b7582de9",
   "metadata": {},
   "outputs": [],
   "source": []
  },
  {
   "cell_type": "code",
   "execution_count": null,
   "id": "99e94fa4",
   "metadata": {},
   "outputs": [],
   "source": []
  },
  {
   "cell_type": "code",
   "execution_count": 8,
   "id": "3ee954fd",
   "metadata": {},
   "outputs": [],
   "source": [
    "train_left = file_path_train['left'].tolist()\n",
    "train_right = file_path_train['right'].tolist()\n",
    "train_top = file_path_train['top'].tolist()\n",
    "train_bottom = file_path_train['bottom'].tolist()\n",
    "file_path_train = file_path_train['file_path_x'].tolist()"
   ]
  },
  {
   "cell_type": "code",
   "execution_count": 9,
   "id": "531d7963",
   "metadata": {},
   "outputs": [],
   "source": [
    "val_left = file_path_val['left'].tolist()\n",
    "val_right = file_path_val['right'].tolist()\n",
    "val_top = file_path_val['top'].tolist()\n",
    "val_bottom = file_path_val['bottom'].tolist()\n",
    "file_path_val = file_path_val['file_path_x'].tolist()"
   ]
  },
  {
   "cell_type": "code",
   "execution_count": null,
   "id": "3a412025",
   "metadata": {},
   "outputs": [],
   "source": []
  },
  {
   "cell_type": "code",
   "execution_count": null,
   "id": "dc09838c",
   "metadata": {},
   "outputs": [],
   "source": []
  },
  {
   "cell_type": "code",
   "execution_count": null,
   "id": "55c899f6",
   "metadata": {},
   "outputs": [],
   "source": []
  },
  {
   "cell_type": "code",
   "execution_count": 10,
   "id": "90db353b",
   "metadata": {},
   "outputs": [],
   "source": [
    "def load_image( image_path , left , right , top , bottom , label ):\n",
    "    img = tf.io.read_file(image_path)\n",
    "    img = tf.image.decode_jpeg(img, channels=3)   \n",
    "    img = tf.image.crop_to_bounding_box( img , top , left, bottom - top , right - left )\n",
    "    \n",
    "    \"\"\"\n",
    "    output_image = tf.image.encode_png(img)\n",
    "    file_name = tf.constant('./Ouput_image.png')\n",
    "    file = tf.io.write_file(file_name, output_image)    \n",
    "    \"\"\"\n",
    "    \n",
    "    img = tf.image.resize(img, (224, 224))\n",
    "    img = tf.keras.applications.resnet50.preprocess_input(img)    \n",
    "    \n",
    "    return img , label"
   ]
  },
  {
   "cell_type": "code",
   "execution_count": 11,
   "id": "26ffd9e9",
   "metadata": {},
   "outputs": [],
   "source": [
    "train_dataset = tf.data.Dataset.from_tensor_slices( (file_path_train , \n",
    "                                                     train_left , \n",
    "                                                     train_right , \n",
    "                                                     train_top , \n",
    "                                                     train_bottom , \n",
    "                                                     y_train) )\n",
    "\n",
    "val_dataset = tf.data.Dataset.from_tensor_slices( (file_path_val , \n",
    "                                                   val_left , \n",
    "                                                   val_right , \n",
    "                                                   val_top , \n",
    "                                                   val_bottom ,\n",
    "                                                   y_val) )"
   ]
  },
  {
   "cell_type": "code",
   "execution_count": 12,
   "id": "66d8a0e1",
   "metadata": {},
   "outputs": [],
   "source": [
    "train_dataset = train_dataset.shuffle(buffer_size=len(file_path_train))\\\n",
    "                .map( load_image, num_parallel_calls=tf.data.experimental.AUTOTUNE)\\\n",
    "                .batch(BATCH_SIZE)\\\n",
    "                .prefetch(tf.data.experimental.AUTOTUNE)     #\n",
    "\n",
    "\n",
    "val_dataset = val_dataset.shuffle(buffer_size=len(file_path_val))\\\n",
    "                .map( load_image, num_parallel_calls=tf.data.experimental.AUTOTUNE)\\\n",
    "                .batch(BATCH_SIZE)\\\n",
    "                .prefetch(tf.data.experimental.AUTOTUNE)    #"
   ]
  },
  {
   "cell_type": "code",
   "execution_count": null,
   "id": "6ef1a65a",
   "metadata": {},
   "outputs": [],
   "source": []
  },
  {
   "cell_type": "code",
   "execution_count": 13,
   "id": "0925d32c",
   "metadata": {},
   "outputs": [],
   "source": [
    "ResNet50 = tf.keras.applications.resnet.ResNet50(\n",
    "    weights=None,\n",
    "    input_shape=(224, 224, 3),\n",
    "    include_top=False)"
   ]
  },
  {
   "cell_type": "code",
   "execution_count": 14,
   "id": "1b75618e",
   "metadata": {},
   "outputs": [],
   "source": [
    "model= Sequential()\n",
    "\n",
    "model.add( ResNet50 )\n",
    "\n",
    "model.add( GlobalAveragePooling2D() ) \n",
    "model.add( Dropout( DROP_OUT_RATE ) ) \n",
    "model.add( BatchNormalization() ) \n",
    "model.add( Dense(128, activation='relu') )\n",
    "model.add( Dropout( DROP_OUT_RATE ) ) \n",
    "model.add( BatchNormalization() ) \n",
    "\n",
    "model.add( Dense(1, activation='sigmoid') )"
   ]
  },
  {
   "cell_type": "code",
   "execution_count": 15,
   "id": "8d125a41",
   "metadata": {},
   "outputs": [],
   "source": [
    "initial_learning_rate = 0.01\n",
    "\n",
    "def lr_exp_decay(epoch, lr):\n",
    "    k = 0.1\n",
    "    return initial_learning_rate * np.math.exp(-k*epoch)\n",
    "\n",
    "lr_scheduler = LearningRateScheduler(lr_exp_decay, verbose=1)"
   ]
  },
  {
   "cell_type": "code",
   "execution_count": 16,
   "id": "aee29608",
   "metadata": {},
   "outputs": [],
   "source": [
    "log_dir = os.path.join('Logs')\n",
    "CHECKPOINT_PATH = os.path.join('CheckPoints_K-Face_Gender')\n",
    "tb_callback = TensorBoard(log_dir=log_dir)\n",
    "\n",
    "cp = ModelCheckpoint(filepath=CHECKPOINT_PATH, \n",
    "                     monitor='val_accuracy',                     \n",
    "                     save_best_only = True,\n",
    "                     verbose = 1)"
   ]
  },
  {
   "cell_type": "code",
   "execution_count": 17,
   "id": "64a3be69",
   "metadata": {},
   "outputs": [],
   "source": [
    "model.compile(\n",
    "    optimizer=tf.keras.optimizers.Adam(1e-3),\n",
    "    loss='binary_crossentropy',\n",
    "    metrics=['accuracy']\n",
    ")"
   ]
  },
  {
   "cell_type": "code",
   "execution_count": 18,
   "id": "50b20a35",
   "metadata": {},
   "outputs": [
    {
     "name": "stderr",
     "output_type": "stream",
     "text": [
      "C:\\Users\\Moon\\anaconda3\\envs\\TF.2.5.0-GPU\\lib\\site-packages\\tensorflow\\python\\keras\\utils\\generic_utils.py:494: CustomMaskWarning: Custom mask layers require a config and must override get_config. When loading, the custom mask layer must be passed to the custom_objects argument.\n",
      "  warnings.warn('Custom mask layers require a config and must override '\n"
     ]
    },
    {
     "name": "stdout",
     "output_type": "stream",
     "text": [
      "Epoch 1/20\n",
      "\n",
      "Epoch 00001: LearningRateScheduler reducing learning rate to 0.01.\n",
      "8571/8571 [==============================] - 1415s 164ms/step - loss: 0.1951 - accuracy: 0.9167 - val_loss: 0.1525 - val_accuracy: 0.9423\n",
      "\n",
      "Epoch 00001: val_accuracy improved from -inf to 0.94230, saving model to CheckPoints_K-Face_Gender\n"
     ]
    },
    {
     "name": "stderr",
     "output_type": "stream",
     "text": [
      "C:\\Users\\Moon\\anaconda3\\envs\\TF.2.5.0-GPU\\lib\\site-packages\\tensorflow\\python\\keras\\utils\\generic_utils.py:494: CustomMaskWarning: Custom mask layers require a config and must override get_config. When loading, the custom mask layer must be passed to the custom_objects argument.\n",
      "  warnings.warn('Custom mask layers require a config and must override '\n"
     ]
    },
    {
     "name": "stdout",
     "output_type": "stream",
     "text": [
      "INFO:tensorflow:Assets written to: CheckPoints_K-Face_Gender\\assets\n",
      "Epoch 2/20\n",
      "\n",
      "Epoch 00002: LearningRateScheduler reducing learning rate to 0.009048374180359595.\n",
      "8571/8571 [==============================] - 1408s 164ms/step - loss: 0.0693 - accuracy: 0.9751 - val_loss: 0.1058 - val_accuracy: 0.9601\n",
      "\n",
      "Epoch 00002: val_accuracy improved from 0.94230 to 0.96006, saving model to CheckPoints_K-Face_Gender\n"
     ]
    },
    {
     "name": "stderr",
     "output_type": "stream",
     "text": [
      "C:\\Users\\Moon\\anaconda3\\envs\\TF.2.5.0-GPU\\lib\\site-packages\\tensorflow\\python\\keras\\utils\\generic_utils.py:494: CustomMaskWarning: Custom mask layers require a config and must override get_config. When loading, the custom mask layer must be passed to the custom_objects argument.\n",
      "  warnings.warn('Custom mask layers require a config and must override '\n"
     ]
    },
    {
     "name": "stdout",
     "output_type": "stream",
     "text": [
      "INFO:tensorflow:Assets written to: CheckPoints_K-Face_Gender\\assets\n",
      "Epoch 3/20\n",
      "\n",
      "Epoch 00003: LearningRateScheduler reducing learning rate to 0.008187307530779819.\n",
      "8571/8571 [==============================] - 1419s 166ms/step - loss: 0.0432 - accuracy: 0.9847 - val_loss: 0.1024 - val_accuracy: 0.9613\n",
      "\n",
      "Epoch 00003: val_accuracy improved from 0.96006 to 0.96133, saving model to CheckPoints_K-Face_Gender\n"
     ]
    },
    {
     "name": "stderr",
     "output_type": "stream",
     "text": [
      "C:\\Users\\Moon\\anaconda3\\envs\\TF.2.5.0-GPU\\lib\\site-packages\\tensorflow\\python\\keras\\utils\\generic_utils.py:494: CustomMaskWarning: Custom mask layers require a config and must override get_config. When loading, the custom mask layer must be passed to the custom_objects argument.\n",
      "  warnings.warn('Custom mask layers require a config and must override '\n"
     ]
    },
    {
     "name": "stdout",
     "output_type": "stream",
     "text": [
      "INFO:tensorflow:Assets written to: CheckPoints_K-Face_Gender\\assets\n",
      "Epoch 4/20\n",
      "\n",
      "Epoch 00004: LearningRateScheduler reducing learning rate to 0.007408182206817179.\n",
      " 576/8571 [=>............................] - ETA: 19:58 - loss: 0.0208 - accuracy: 0.9924"
     ]
    },
    {
     "ename": "KeyboardInterrupt",
     "evalue": "",
     "output_type": "error",
     "traceback": [
      "\u001b[1;31m---------------------------------------------------------------------------\u001b[0m",
      "\u001b[1;31mKeyboardInterrupt\u001b[0m                         Traceback (most recent call last)",
      "\u001b[1;32m~\\AppData\\Local\\Temp/ipykernel_12248/3388407605.py\u001b[0m in \u001b[0;36m<module>\u001b[1;34m\u001b[0m\n\u001b[1;32m----> 1\u001b[1;33m hist = model.fit(train_dataset,\n\u001b[0m\u001b[0;32m      2\u001b[0m                  \u001b[0mvalidation_data\u001b[0m\u001b[1;33m=\u001b[0m\u001b[0mval_dataset\u001b[0m\u001b[1;33m,\u001b[0m\u001b[1;33m\u001b[0m\u001b[1;33m\u001b[0m\u001b[0m\n\u001b[0;32m      3\u001b[0m                  \u001b[0mcallbacks\u001b[0m\u001b[1;33m=\u001b[0m\u001b[1;33m[\u001b[0m\u001b[0mlr_scheduler\u001b[0m \u001b[1;33m,\u001b[0m \u001b[0mcp\u001b[0m \u001b[1;33m,\u001b[0m \u001b[0mtb_callback\u001b[0m\u001b[1;33m]\u001b[0m\u001b[1;33m,\u001b[0m\u001b[1;33m\u001b[0m\u001b[1;33m\u001b[0m\u001b[0m\n\u001b[0;32m      4\u001b[0m                  \u001b[0mepochs\u001b[0m \u001b[1;33m=\u001b[0m \u001b[1;36m20\u001b[0m\u001b[1;33m,\u001b[0m\u001b[1;33m\u001b[0m\u001b[1;33m\u001b[0m\u001b[0m\n\u001b[0;32m      5\u001b[0m                  \u001b[0mverbose\u001b[0m \u001b[1;33m=\u001b[0m \u001b[1;36m1\u001b[0m\u001b[1;33m\u001b[0m\u001b[1;33m\u001b[0m\u001b[0m\n",
      "\u001b[1;32m~\\anaconda3\\envs\\TF.2.5.0-GPU\\lib\\site-packages\\tensorflow\\python\\keras\\engine\\training.py\u001b[0m in \u001b[0;36mfit\u001b[1;34m(self, x, y, batch_size, epochs, verbose, callbacks, validation_split, validation_data, shuffle, class_weight, sample_weight, initial_epoch, steps_per_epoch, validation_steps, validation_batch_size, validation_freq, max_queue_size, workers, use_multiprocessing)\u001b[0m\n\u001b[0;32m   1181\u001b[0m                 _r=1):\n\u001b[0;32m   1182\u001b[0m               \u001b[0mcallbacks\u001b[0m\u001b[1;33m.\u001b[0m\u001b[0mon_train_batch_begin\u001b[0m\u001b[1;33m(\u001b[0m\u001b[0mstep\u001b[0m\u001b[1;33m)\u001b[0m\u001b[1;33m\u001b[0m\u001b[1;33m\u001b[0m\u001b[0m\n\u001b[1;32m-> 1183\u001b[1;33m               \u001b[0mtmp_logs\u001b[0m \u001b[1;33m=\u001b[0m \u001b[0mself\u001b[0m\u001b[1;33m.\u001b[0m\u001b[0mtrain_function\u001b[0m\u001b[1;33m(\u001b[0m\u001b[0miterator\u001b[0m\u001b[1;33m)\u001b[0m\u001b[1;33m\u001b[0m\u001b[1;33m\u001b[0m\u001b[0m\n\u001b[0m\u001b[0;32m   1184\u001b[0m               \u001b[1;32mif\u001b[0m \u001b[0mdata_handler\u001b[0m\u001b[1;33m.\u001b[0m\u001b[0mshould_sync\u001b[0m\u001b[1;33m:\u001b[0m\u001b[1;33m\u001b[0m\u001b[1;33m\u001b[0m\u001b[0m\n\u001b[0;32m   1185\u001b[0m                 \u001b[0mcontext\u001b[0m\u001b[1;33m.\u001b[0m\u001b[0masync_wait\u001b[0m\u001b[1;33m(\u001b[0m\u001b[1;33m)\u001b[0m\u001b[1;33m\u001b[0m\u001b[1;33m\u001b[0m\u001b[0m\n",
      "\u001b[1;32m~\\anaconda3\\envs\\TF.2.5.0-GPU\\lib\\site-packages\\tensorflow\\python\\eager\\def_function.py\u001b[0m in \u001b[0;36m__call__\u001b[1;34m(self, *args, **kwds)\u001b[0m\n\u001b[0;32m    887\u001b[0m \u001b[1;33m\u001b[0m\u001b[0m\n\u001b[0;32m    888\u001b[0m       \u001b[1;32mwith\u001b[0m \u001b[0mOptionalXlaContext\u001b[0m\u001b[1;33m(\u001b[0m\u001b[0mself\u001b[0m\u001b[1;33m.\u001b[0m\u001b[0m_jit_compile\u001b[0m\u001b[1;33m)\u001b[0m\u001b[1;33m:\u001b[0m\u001b[1;33m\u001b[0m\u001b[1;33m\u001b[0m\u001b[0m\n\u001b[1;32m--> 889\u001b[1;33m         \u001b[0mresult\u001b[0m \u001b[1;33m=\u001b[0m \u001b[0mself\u001b[0m\u001b[1;33m.\u001b[0m\u001b[0m_call\u001b[0m\u001b[1;33m(\u001b[0m\u001b[1;33m*\u001b[0m\u001b[0margs\u001b[0m\u001b[1;33m,\u001b[0m \u001b[1;33m**\u001b[0m\u001b[0mkwds\u001b[0m\u001b[1;33m)\u001b[0m\u001b[1;33m\u001b[0m\u001b[1;33m\u001b[0m\u001b[0m\n\u001b[0m\u001b[0;32m    890\u001b[0m \u001b[1;33m\u001b[0m\u001b[0m\n\u001b[0;32m    891\u001b[0m       \u001b[0mnew_tracing_count\u001b[0m \u001b[1;33m=\u001b[0m \u001b[0mself\u001b[0m\u001b[1;33m.\u001b[0m\u001b[0mexperimental_get_tracing_count\u001b[0m\u001b[1;33m(\u001b[0m\u001b[1;33m)\u001b[0m\u001b[1;33m\u001b[0m\u001b[1;33m\u001b[0m\u001b[0m\n",
      "\u001b[1;32m~\\anaconda3\\envs\\TF.2.5.0-GPU\\lib\\site-packages\\tensorflow\\python\\eager\\def_function.py\u001b[0m in \u001b[0;36m_call\u001b[1;34m(self, *args, **kwds)\u001b[0m\n\u001b[0;32m    915\u001b[0m       \u001b[1;31m# In this case we have created variables on the first call, so we run the\u001b[0m\u001b[1;33m\u001b[0m\u001b[1;33m\u001b[0m\u001b[0m\n\u001b[0;32m    916\u001b[0m       \u001b[1;31m# defunned version which is guaranteed to never create variables.\u001b[0m\u001b[1;33m\u001b[0m\u001b[1;33m\u001b[0m\u001b[0m\n\u001b[1;32m--> 917\u001b[1;33m       \u001b[1;32mreturn\u001b[0m \u001b[0mself\u001b[0m\u001b[1;33m.\u001b[0m\u001b[0m_stateless_fn\u001b[0m\u001b[1;33m(\u001b[0m\u001b[1;33m*\u001b[0m\u001b[0margs\u001b[0m\u001b[1;33m,\u001b[0m \u001b[1;33m**\u001b[0m\u001b[0mkwds\u001b[0m\u001b[1;33m)\u001b[0m  \u001b[1;31m# pylint: disable=not-callable\u001b[0m\u001b[1;33m\u001b[0m\u001b[1;33m\u001b[0m\u001b[0m\n\u001b[0m\u001b[0;32m    918\u001b[0m     \u001b[1;32melif\u001b[0m \u001b[0mself\u001b[0m\u001b[1;33m.\u001b[0m\u001b[0m_stateful_fn\u001b[0m \u001b[1;32mis\u001b[0m \u001b[1;32mnot\u001b[0m \u001b[1;32mNone\u001b[0m\u001b[1;33m:\u001b[0m\u001b[1;33m\u001b[0m\u001b[1;33m\u001b[0m\u001b[0m\n\u001b[0;32m    919\u001b[0m       \u001b[1;31m# Release the lock early so that multiple threads can perform the call\u001b[0m\u001b[1;33m\u001b[0m\u001b[1;33m\u001b[0m\u001b[0m\n",
      "\u001b[1;32m~\\anaconda3\\envs\\TF.2.5.0-GPU\\lib\\site-packages\\tensorflow\\python\\eager\\function.py\u001b[0m in \u001b[0;36m__call__\u001b[1;34m(self, *args, **kwargs)\u001b[0m\n\u001b[0;32m   3021\u001b[0m       (graph_function,\n\u001b[0;32m   3022\u001b[0m        filtered_flat_args) = self._maybe_define_function(args, kwargs)\n\u001b[1;32m-> 3023\u001b[1;33m     return graph_function._call_flat(\n\u001b[0m\u001b[0;32m   3024\u001b[0m         filtered_flat_args, captured_inputs=graph_function.captured_inputs)  # pylint: disable=protected-access\n\u001b[0;32m   3025\u001b[0m \u001b[1;33m\u001b[0m\u001b[0m\n",
      "\u001b[1;32m~\\anaconda3\\envs\\TF.2.5.0-GPU\\lib\\site-packages\\tensorflow\\python\\eager\\function.py\u001b[0m in \u001b[0;36m_call_flat\u001b[1;34m(self, args, captured_inputs, cancellation_manager)\u001b[0m\n\u001b[0;32m   1958\u001b[0m         and executing_eagerly):\n\u001b[0;32m   1959\u001b[0m       \u001b[1;31m# No tape is watching; skip to running the function.\u001b[0m\u001b[1;33m\u001b[0m\u001b[1;33m\u001b[0m\u001b[0m\n\u001b[1;32m-> 1960\u001b[1;33m       return self._build_call_outputs(self._inference_function.call(\n\u001b[0m\u001b[0;32m   1961\u001b[0m           ctx, args, cancellation_manager=cancellation_manager))\n\u001b[0;32m   1962\u001b[0m     forward_backward = self._select_forward_and_backward_functions(\n",
      "\u001b[1;32m~\\anaconda3\\envs\\TF.2.5.0-GPU\\lib\\site-packages\\tensorflow\\python\\eager\\function.py\u001b[0m in \u001b[0;36mcall\u001b[1;34m(self, ctx, args, cancellation_manager)\u001b[0m\n\u001b[0;32m    589\u001b[0m       \u001b[1;32mwith\u001b[0m \u001b[0m_InterpolateFunctionError\u001b[0m\u001b[1;33m(\u001b[0m\u001b[0mself\u001b[0m\u001b[1;33m)\u001b[0m\u001b[1;33m:\u001b[0m\u001b[1;33m\u001b[0m\u001b[1;33m\u001b[0m\u001b[0m\n\u001b[0;32m    590\u001b[0m         \u001b[1;32mif\u001b[0m \u001b[0mcancellation_manager\u001b[0m \u001b[1;32mis\u001b[0m \u001b[1;32mNone\u001b[0m\u001b[1;33m:\u001b[0m\u001b[1;33m\u001b[0m\u001b[1;33m\u001b[0m\u001b[0m\n\u001b[1;32m--> 591\u001b[1;33m           outputs = execute.execute(\n\u001b[0m\u001b[0;32m    592\u001b[0m               \u001b[0mstr\u001b[0m\u001b[1;33m(\u001b[0m\u001b[0mself\u001b[0m\u001b[1;33m.\u001b[0m\u001b[0msignature\u001b[0m\u001b[1;33m.\u001b[0m\u001b[0mname\u001b[0m\u001b[1;33m)\u001b[0m\u001b[1;33m,\u001b[0m\u001b[1;33m\u001b[0m\u001b[1;33m\u001b[0m\u001b[0m\n\u001b[0;32m    593\u001b[0m               \u001b[0mnum_outputs\u001b[0m\u001b[1;33m=\u001b[0m\u001b[0mself\u001b[0m\u001b[1;33m.\u001b[0m\u001b[0m_num_outputs\u001b[0m\u001b[1;33m,\u001b[0m\u001b[1;33m\u001b[0m\u001b[1;33m\u001b[0m\u001b[0m\n",
      "\u001b[1;32m~\\anaconda3\\envs\\TF.2.5.0-GPU\\lib\\site-packages\\tensorflow\\python\\eager\\execute.py\u001b[0m in \u001b[0;36mquick_execute\u001b[1;34m(op_name, num_outputs, inputs, attrs, ctx, name)\u001b[0m\n\u001b[0;32m     57\u001b[0m   \u001b[1;32mtry\u001b[0m\u001b[1;33m:\u001b[0m\u001b[1;33m\u001b[0m\u001b[1;33m\u001b[0m\u001b[0m\n\u001b[0;32m     58\u001b[0m     \u001b[0mctx\u001b[0m\u001b[1;33m.\u001b[0m\u001b[0mensure_initialized\u001b[0m\u001b[1;33m(\u001b[0m\u001b[1;33m)\u001b[0m\u001b[1;33m\u001b[0m\u001b[1;33m\u001b[0m\u001b[0m\n\u001b[1;32m---> 59\u001b[1;33m     tensors = pywrap_tfe.TFE_Py_Execute(ctx._handle, device_name, op_name,\n\u001b[0m\u001b[0;32m     60\u001b[0m                                         inputs, attrs, num_outputs)\n\u001b[0;32m     61\u001b[0m   \u001b[1;32mexcept\u001b[0m \u001b[0mcore\u001b[0m\u001b[1;33m.\u001b[0m\u001b[0m_NotOkStatusException\u001b[0m \u001b[1;32mas\u001b[0m \u001b[0me\u001b[0m\u001b[1;33m:\u001b[0m\u001b[1;33m\u001b[0m\u001b[1;33m\u001b[0m\u001b[0m\n",
      "\u001b[1;31mKeyboardInterrupt\u001b[0m: "
     ]
    }
   ],
   "source": [
    "hist = model.fit(train_dataset,\n",
    "                 validation_data=val_dataset,\n",
    "                 callbacks=[lr_scheduler , cp , tb_callback],\n",
    "                 epochs = 20,\n",
    "                 verbose = 1 \n",
    ")"
   ]
  },
  {
   "cell_type": "code",
   "execution_count": null,
   "id": "22c225d5",
   "metadata": {},
   "outputs": [],
   "source": []
  },
  {
   "cell_type": "code",
   "execution_count": null,
   "id": "846a340d",
   "metadata": {},
   "outputs": [],
   "source": []
  },
  {
   "cell_type": "code",
   "execution_count": null,
   "id": "02753403",
   "metadata": {},
   "outputs": [],
   "source": []
  },
  {
   "cell_type": "code",
   "execution_count": null,
   "id": "2d7f9c9b",
   "metadata": {},
   "outputs": [],
   "source": []
  },
  {
   "cell_type": "code",
   "execution_count": null,
   "id": "dc9d6dde",
   "metadata": {},
   "outputs": [],
   "source": []
  },
  {
   "cell_type": "code",
   "execution_count": null,
   "id": "b81b46ad",
   "metadata": {},
   "outputs": [],
   "source": []
  },
  {
   "cell_type": "code",
   "execution_count": null,
   "id": "7fc089b0",
   "metadata": {},
   "outputs": [],
   "source": []
  },
  {
   "cell_type": "code",
   "execution_count": null,
   "id": "07f8695f",
   "metadata": {},
   "outputs": [],
   "source": []
  },
  {
   "cell_type": "code",
   "execution_count": null,
   "id": "70b45785",
   "metadata": {},
   "outputs": [],
   "source": []
  },
  {
   "cell_type": "code",
   "execution_count": null,
   "id": "8bf5fc4d",
   "metadata": {},
   "outputs": [],
   "source": []
  },
  {
   "cell_type": "code",
   "execution_count": null,
   "id": "f94e889d",
   "metadata": {},
   "outputs": [],
   "source": []
  },
  {
   "cell_type": "code",
   "execution_count": null,
   "id": "75206ca1",
   "metadata": {},
   "outputs": [],
   "source": []
  },
  {
   "cell_type": "markdown",
   "id": "a7774c64",
   "metadata": {},
   "source": [
    "# 사용한 Code"
   ]
  },
  {
   "cell_type": "code",
   "execution_count": null,
   "id": "83780a4a",
   "metadata": {},
   "outputs": [],
   "source": [
    "def gender_map( gender ):\n",
    "    if gender == '남':\n",
    "        return 1\n",
    "    elif gender == '여':\n",
    "        return 0"
   ]
  },
  {
   "cell_type": "code",
   "execution_count": null,
   "id": "95855fee",
   "metadata": {},
   "outputs": [],
   "source": [
    "dataset_info['new_gender'] = dataset_info['성별'].map( gender_map )\n",
    "dataset_info.head()"
   ]
  },
  {
   "cell_type": "code",
   "execution_count": null,
   "id": "5ee520f6",
   "metadata": {},
   "outputs": [],
   "source": []
  },
  {
   "cell_type": "code",
   "execution_count": null,
   "id": "718f031d",
   "metadata": {},
   "outputs": [],
   "source": [
    "if HOME_TRAIN == False:\n",
    "    data_file_path = [c.replace('f:/', 'C:/Users/Moon/Desktop/Age_Gender_Prediction/Dataset/') for c in data_file_path]"
   ]
  },
  {
   "cell_type": "code",
   "execution_count": null,
   "id": "34218ce4",
   "metadata": {},
   "outputs": [],
   "source": [
    "def get_ID_2(file_path):\n",
    "    return file_path[19:]"
   ]
  },
  {
   "cell_type": "code",
   "execution_count": null,
   "id": "f8ae31b9",
   "metadata": {},
   "outputs": [],
   "source": [
    "dataset_info['ID'] = dataset_info['file_path'].apply(get_ID_2)\n",
    "dataset_info['ID']"
   ]
  },
  {
   "cell_type": "code",
   "execution_count": null,
   "id": "e58a4293",
   "metadata": {},
   "outputs": [],
   "source": []
  },
  {
   "cell_type": "code",
   "execution_count": null,
   "id": "2ee614db",
   "metadata": {},
   "outputs": [],
   "source": [
    "dataset_info.info()"
   ]
  },
  {
   "cell_type": "code",
   "execution_count": null,
   "id": "ca11af77",
   "metadata": {},
   "outputs": [],
   "source": []
  },
  {
   "cell_type": "code",
   "execution_count": null,
   "id": "0610fb90",
   "metadata": {},
   "outputs": [],
   "source": [
    "face_coor_info = pd.read_csv(\"coor_211129.csv\")"
   ]
  },
  {
   "cell_type": "code",
   "execution_count": null,
   "id": "3b9fae53",
   "metadata": {},
   "outputs": [],
   "source": [
    "face_coor_info.head()"
   ]
  },
  {
   "cell_type": "code",
   "execution_count": null,
   "id": "11f2e880",
   "metadata": {},
   "outputs": [],
   "source": [
    "face_coor_info.info()"
   ]
  },
  {
   "cell_type": "code",
   "execution_count": null,
   "id": "7f1bdd82",
   "metadata": {},
   "outputs": [],
   "source": [
    "def get_ID(file_path):\n",
    "    return file_path[68:]"
   ]
  },
  {
   "cell_type": "code",
   "execution_count": null,
   "id": "75c4d0d5",
   "metadata": {},
   "outputs": [],
   "source": [
    "face_coor_info['file_path'][0]"
   ]
  },
  {
   "cell_type": "code",
   "execution_count": null,
   "id": "0241a7b0",
   "metadata": {},
   "outputs": [],
   "source": [
    "face_coor_info['ID'] = face_coor_info['file_path'].apply(get_ID)\n",
    "face_coor_info['ID']"
   ]
  },
  {
   "cell_type": "code",
   "execution_count": null,
   "id": "020426b4",
   "metadata": {},
   "outputs": [],
   "source": []
  },
  {
   "cell_type": "code",
   "execution_count": null,
   "id": "77638855",
   "metadata": {},
   "outputs": [],
   "source": [
    "meta_data_face_coor = pd.merge(face_coor_info , dataset_info , how='left' , on='ID')"
   ]
  },
  {
   "cell_type": "code",
   "execution_count": null,
   "id": "d1b66278",
   "metadata": {},
   "outputs": [],
   "source": [
    "meta_data_face_coor.head()"
   ]
  },
  {
   "cell_type": "code",
   "execution_count": null,
   "id": "03a50416",
   "metadata": {},
   "outputs": [],
   "source": [
    "meta_data_face_coor.info()"
   ]
  },
  {
   "cell_type": "code",
   "execution_count": null,
   "id": "b9b24d5b",
   "metadata": {},
   "outputs": [],
   "source": [
    "meta_data_face_coor = meta_data_face_coor.drop(['file_path_y'] , axis=1)"
   ]
  },
  {
   "cell_type": "code",
   "execution_count": null,
   "id": "3aee737f",
   "metadata": {},
   "outputs": [],
   "source": [
    "meta_data_face_coor.head()"
   ]
  },
  {
   "cell_type": "code",
   "execution_count": null,
   "id": "ca7e61f1",
   "metadata": {},
   "outputs": [],
   "source": [
    "meta_data_face_coor.isna().sum()"
   ]
  },
  {
   "cell_type": "code",
   "execution_count": null,
   "id": "1547122e",
   "metadata": {},
   "outputs": [],
   "source": [
    "meta_data_face_coor['연령대'].value_counts()"
   ]
  },
  {
   "cell_type": "code",
   "execution_count": null,
   "id": "56560c0f",
   "metadata": {},
   "outputs": [],
   "source": [
    "meta_data_face_coor['new_gender'].value_counts()"
   ]
  },
  {
   "cell_type": "code",
   "execution_count": null,
   "id": "acc771df",
   "metadata": {},
   "outputs": [],
   "source": [
    "meta_data_face_coor.to_csv(\"meta_data_face_coor_K-Face.csv\",index=False)"
   ]
  },
  {
   "cell_type": "code",
   "execution_count": null,
   "id": "affe4824",
   "metadata": {},
   "outputs": [],
   "source": []
  },
  {
   "cell_type": "code",
   "execution_count": null,
   "id": "74d38016",
   "metadata": {},
   "outputs": [],
   "source": []
  },
  {
   "cell_type": "code",
   "execution_count": null,
   "id": "a29d2bf1",
   "metadata": {},
   "outputs": [],
   "source": []
  },
  {
   "cell_type": "code",
   "execution_count": null,
   "id": "91ca1066",
   "metadata": {},
   "outputs": [],
   "source": []
  }
 ],
 "metadata": {
  "kernelspec": {
   "display_name": "TF.2.5.0-GPU",
   "language": "python",
   "name": "tf.2.5.0-gpu"
  },
  "language_info": {
   "codemirror_mode": {
    "name": "ipython",
    "version": 3
   },
   "file_extension": ".py",
   "mimetype": "text/x-python",
   "name": "python",
   "nbconvert_exporter": "python",
   "pygments_lexer": "ipython3",
   "version": "3.9.7"
  }
 },
 "nbformat": 4,
 "nbformat_minor": 5
}
