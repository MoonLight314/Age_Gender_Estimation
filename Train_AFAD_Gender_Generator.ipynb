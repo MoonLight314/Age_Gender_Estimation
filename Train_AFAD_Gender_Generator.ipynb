{
 "cells": [
  {
   "cell_type": "code",
   "execution_count": 1,
   "id": "67ca3ab4",
   "metadata": {},
   "outputs": [],
   "source": [
    "import pandas as pd\n",
    "import os\n",
    "import numpy as np\n",
    "import tensorflow as tf\n",
    "from tensorflow.keras.preprocessing.image import ImageDataGenerator\n",
    "\n",
    "#from tensorflow.keras.applications.efficientnet import EfficientNetB0\n",
    "from tensorflow.keras.applications.resnet50 import ResNet50\n",
    "\n",
    "from tensorflow.keras.layers import GlobalAveragePooling2D , BatchNormalization , Dropout , Dense\n",
    "from tensorflow.keras.models import Sequential\n",
    "from tensorflow.keras.callbacks import TensorBoard , ModelCheckpoint , LearningRateScheduler"
   ]
  },
  {
   "cell_type": "code",
   "execution_count": 2,
   "id": "5bee3a9b",
   "metadata": {},
   "outputs": [],
   "source": [
    "data_generator = ImageDataGenerator(validation_split=0.25,\n",
    "                                    rescale=1./255)"
   ]
  },
  {
   "cell_type": "code",
   "execution_count": 3,
   "id": "845a1392",
   "metadata": {},
   "outputs": [],
   "source": [
    "BATCH_SIZE = 16\n",
    "#BATCH_SIZE = 8 #회사 Main PC"
   ]
  },
  {
   "cell_type": "code",
   "execution_count": 4,
   "id": "263f635b",
   "metadata": {},
   "outputs": [],
   "source": [
    "PATH = \"./Dataset/AFAD-Full/Generator/\""
   ]
  },
  {
   "cell_type": "code",
   "execution_count": 5,
   "id": "4469bf4d",
   "metadata": {},
   "outputs": [
    {
     "name": "stdout",
     "output_type": "stream",
     "text": [
      "Found 124127 images belonging to 2 classes.\n"
     ]
    }
   ],
   "source": [
    "train_gen = data_generator.flow_from_directory(PATH,\n",
    "                                               target_size = (224, 224),\n",
    "                                               batch_size = BATCH_SIZE,  \n",
    "                                               subset=\"training\",\n",
    "                                               class_mode = 'binary'\n",
    "                                              )"
   ]
  },
  {
   "cell_type": "code",
   "execution_count": 6,
   "id": "11769ba0",
   "metadata": {},
   "outputs": [
    {
     "name": "stdout",
     "output_type": "stream",
     "text": [
      "Found 41374 images belonging to 2 classes.\n"
     ]
    }
   ],
   "source": [
    "valid_gen = data_generator.flow_from_directory(PATH,\n",
    "                                               target_size = (224, 224),\n",
    "                                               batch_size = BATCH_SIZE,  \n",
    "                                               subset=\"validation\",\n",
    "                                               class_mode = 'binary'\n",
    "                                              )"
   ]
  },
  {
   "cell_type": "code",
   "execution_count": 7,
   "id": "f24540ec",
   "metadata": {},
   "outputs": [],
   "source": [
    "log_dir = os.path.join('Logs')\n",
    "CHECKPOINT_PATH = os.path.join('CheckPoints')\n",
    "tb_callback = TensorBoard(log_dir=log_dir)\n",
    "\n",
    "cp = ModelCheckpoint(filepath=CHECKPOINT_PATH, monitor='val_accuracy',\n",
    "                     save_best_only = True,\n",
    "                     verbose = 1)"
   ]
  },
  {
   "cell_type": "code",
   "execution_count": 8,
   "id": "8eafd407",
   "metadata": {},
   "outputs": [],
   "source": [
    "initial_learning_rate = 0.01\n",
    "\n",
    "def lr_exp_decay(epoch, lr):\n",
    "    k = 0.1\n",
    "    return initial_learning_rate * np.math.exp(-k*epoch)"
   ]
  },
  {
   "cell_type": "code",
   "execution_count": 9,
   "id": "98535e42",
   "metadata": {},
   "outputs": [],
   "source": [
    "lr_scheduler = LearningRateScheduler(lr_exp_decay, verbose=1)"
   ]
  },
  {
   "cell_type": "code",
   "execution_count": 10,
   "id": "dc2860e5",
   "metadata": {},
   "outputs": [
    {
     "data": {
      "text/plain": [
       "\"\\nEfficientNet = tf.keras.applications.efficientnet.EfficientNetB0(\\n    #weights='imagenet',\\n    weights=None,\\n    input_shape=(224, 224, 3),\\n    include_top=False)\\n\""
      ]
     },
     "execution_count": 10,
     "metadata": {},
     "output_type": "execute_result"
    }
   ],
   "source": [
    "ResNet50 = tf.keras.applications.resnet.ResNet50(\n",
    "    weights=None,\n",
    "    input_shape=(224, 224, 3),\n",
    "    include_top=False)\n",
    "\n",
    "\"\"\"\n",
    "EfficientNet = tf.keras.applications.efficientnet.EfficientNetB0(\n",
    "    #weights='imagenet',\n",
    "    weights=None,\n",
    "    input_shape=(224, 224, 3),\n",
    "    include_top=False)\n",
    "\"\"\""
   ]
  },
  {
   "cell_type": "code",
   "execution_count": 11,
   "id": "455f73c5",
   "metadata": {},
   "outputs": [],
   "source": [
    "#EfficientNet.trainable = False"
   ]
  },
  {
   "cell_type": "code",
   "execution_count": 12,
   "id": "9de40569",
   "metadata": {},
   "outputs": [],
   "source": [
    "DROP_OUT_RATE = 0.25"
   ]
  },
  {
   "cell_type": "code",
   "execution_count": 13,
   "id": "16c5a01f",
   "metadata": {},
   "outputs": [],
   "source": [
    "model= Sequential()\n",
    "\n",
    "#model.add( EfficientNet )\n",
    "model.add( ResNet50 )\n",
    "\n",
    "model.add( GlobalAveragePooling2D() ) \n",
    "model.add( Dropout( DROP_OUT_RATE ) ) \n",
    "model.add( BatchNormalization() ) \n",
    "model.add( Dense(512, activation='relu') )\n",
    "model.add( Dropout( DROP_OUT_RATE ) ) \n",
    "model.add( BatchNormalization() ) \n",
    "model.add( Dense(128, activation='relu') )\n",
    "model.add( Dropout( DROP_OUT_RATE ) ) \n",
    "model.add( BatchNormalization() ) \n",
    "model.add( Dense(1, activation='sigmoid') )"
   ]
  },
  {
   "cell_type": "code",
   "execution_count": 14,
   "id": "1158a247",
   "metadata": {
    "scrolled": true
   },
   "outputs": [
    {
     "name": "stdout",
     "output_type": "stream",
     "text": [
      "Model: \"sequential\"\n",
      "_________________________________________________________________\n",
      "Layer (type)                 Output Shape              Param #   \n",
      "=================================================================\n",
      "resnet50 (Functional)        (None, 7, 7, 2048)        23587712  \n",
      "_________________________________________________________________\n",
      "global_average_pooling2d (Gl (None, 2048)              0         \n",
      "_________________________________________________________________\n",
      "dropout (Dropout)            (None, 2048)              0         \n",
      "_________________________________________________________________\n",
      "batch_normalization (BatchNo (None, 2048)              8192      \n",
      "_________________________________________________________________\n",
      "dense (Dense)                (None, 512)               1049088   \n",
      "_________________________________________________________________\n",
      "dropout_1 (Dropout)          (None, 512)               0         \n",
      "_________________________________________________________________\n",
      "batch_normalization_1 (Batch (None, 512)               2048      \n",
      "_________________________________________________________________\n",
      "dense_1 (Dense)              (None, 128)               65664     \n",
      "_________________________________________________________________\n",
      "dropout_2 (Dropout)          (None, 128)               0         \n",
      "_________________________________________________________________\n",
      "batch_normalization_2 (Batch (None, 128)               512       \n",
      "_________________________________________________________________\n",
      "dense_2 (Dense)              (None, 1)                 129       \n",
      "=================================================================\n",
      "Total params: 24,713,345\n",
      "Trainable params: 24,654,849\n",
      "Non-trainable params: 58,496\n",
      "_________________________________________________________________\n"
     ]
    }
   ],
   "source": [
    "model.summary()"
   ]
  },
  {
   "cell_type": "code",
   "execution_count": 15,
   "id": "d0d8aa3a",
   "metadata": {},
   "outputs": [],
   "source": [
    "model.compile(\n",
    "    optimizer=tf.keras.optimizers.Adam(1e-3),\n",
    "    loss='binary_crossentropy',\n",
    "    metrics=['accuracy']\n",
    ")"
   ]
  },
  {
   "cell_type": "code",
   "execution_count": null,
   "id": "0f3ada8e",
   "metadata": {},
   "outputs": [
    {
     "name": "stdout",
     "output_type": "stream",
     "text": [
      "Epoch 1/50\n",
      "\n",
      "Epoch 00001: LearningRateScheduler reducing learning rate to 0.01.\n"
     ]
    },
    {
     "name": "stderr",
     "output_type": "stream",
     "text": [
      "C:\\Users\\Moon\\anaconda3\\envs\\TF.2.5.0-GPU\\lib\\site-packages\\tensorflow\\python\\keras\\utils\\generic_utils.py:494: CustomMaskWarning: Custom mask layers require a config and must override get_config. When loading, the custom mask layer must be passed to the custom_objects argument.\n",
      "  warnings.warn('Custom mask layers require a config and must override '\n"
     ]
    },
    {
     "name": "stdout",
     "output_type": "stream",
     "text": [
      "7758/7758 [==============================] - 909s 116ms/step - loss: 0.4102 - accuracy: 0.8096 - val_loss: 0.2898 - val_accuracy: 0.8829\n",
      "\n",
      "Epoch 00001: val_accuracy improved from -inf to 0.88290, saving model to CheckPoints\n"
     ]
    },
    {
     "name": "stderr",
     "output_type": "stream",
     "text": [
      "C:\\Users\\Moon\\anaconda3\\envs\\TF.2.5.0-GPU\\lib\\site-packages\\tensorflow\\python\\keras\\utils\\generic_utils.py:494: CustomMaskWarning: Custom mask layers require a config and must override get_config. When loading, the custom mask layer must be passed to the custom_objects argument.\n",
      "  warnings.warn('Custom mask layers require a config and must override '\n"
     ]
    },
    {
     "name": "stdout",
     "output_type": "stream",
     "text": [
      "INFO:tensorflow:Assets written to: CheckPoints\\assets\n",
      "Epoch 2/50\n",
      "\n",
      "Epoch 00002: LearningRateScheduler reducing learning rate to 0.009048374180359595.\n",
      "  29/7758 [..............................] - ETA: 12:41 - loss: 0.3179 - accuracy: 0.8599- ETA: 12:37 - loss: 0.3042 - accuracy: 0.8"
     ]
    }
   ],
   "source": [
    "hist = model.fit(train_gen,\n",
    "                 epochs = 50,\n",
    "                 validation_data=valid_gen,\n",
    "                 callbacks=[cp , tb_callback , lr_scheduler],\n",
    "                 verbose = 1 \n",
    ")"
   ]
  },
  {
   "cell_type": "code",
   "execution_count": null,
   "id": "0fc14b4a",
   "metadata": {},
   "outputs": [],
   "source": []
  },
  {
   "cell_type": "code",
   "execution_count": null,
   "id": "5682361b",
   "metadata": {},
   "outputs": [],
   "source": []
  }
 ],
 "metadata": {
  "kernelspec": {
   "display_name": "TF.2.5.0-GPU",
   "language": "python",
   "name": "tf.2.5.0-gpu"
  },
  "language_info": {
   "codemirror_mode": {
    "name": "ipython",
    "version": 3
   },
   "file_extension": ".py",
   "mimetype": "text/x-python",
   "name": "python",
   "nbconvert_exporter": "python",
   "pygments_lexer": "ipython3",
   "version": "3.9.7"
  }
 },
 "nbformat": 4,
 "nbformat_minor": 5
}
