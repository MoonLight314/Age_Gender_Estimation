{
 "cells": [
  {
   "cell_type": "code",
   "execution_count": 10,
   "id": "168e3a8f",
   "metadata": {},
   "outputs": [
    {
     "data": {
      "text/plain": [
       "'\\nfrom tensorflow.keras.applications.resnet50 import ResNet50\\nfrom tensorflow.keras.layers import GlobalAveragePooling2D , BatchNormalization , Dropout , Dense\\nfrom tensorflow.keras.models import Sequential\\nfrom tensorflow.keras.callbacks import TensorBoard , ModelCheckpoint , LearningRateScheduler\\n'"
      ]
     },
     "execution_count": 10,
     "metadata": {},
     "output_type": "execute_result"
    }
   ],
   "source": [
    "import pandas as pd\n",
    "import os\n",
    "import numpy as np\n",
    "#from six import b\n",
    "from sklearn.preprocessing import LabelEncoder\n",
    "from sklearn.model_selection import train_test_split\n",
    "import cv2\n",
    "import tensorflow as tf\n",
    "\n",
    "\"\"\"\n",
    "from tensorflow.keras.applications.resnet50 import ResNet50\n",
    "from tensorflow.keras.layers import GlobalAveragePooling2D , BatchNormalization , Dropout , Dense\n",
    "from tensorflow.keras.models import Sequential\n",
    "from tensorflow.keras.callbacks import TensorBoard , ModelCheckpoint , LearningRateScheduler\n",
    "\"\"\""
   ]
  },
  {
   "cell_type": "code",
   "execution_count": 2,
   "id": "a893be1e",
   "metadata": {},
   "outputs": [],
   "source": [
    "HOME_TRAIN = False"
   ]
  },
  {
   "cell_type": "code",
   "execution_count": 3,
   "id": "c3d83429",
   "metadata": {},
   "outputs": [],
   "source": [
    "BATCH_SIZE = 32"
   ]
  },
  {
   "cell_type": "code",
   "execution_count": 4,
   "id": "c6f6a571",
   "metadata": {},
   "outputs": [
    {
     "data": {
      "text/html": [
       "<div>\n",
       "<style scoped>\n",
       "    .dataframe tbody tr th:only-of-type {\n",
       "        vertical-align: middle;\n",
       "    }\n",
       "\n",
       "    .dataframe tbody tr th {\n",
       "        vertical-align: top;\n",
       "    }\n",
       "\n",
       "    .dataframe thead th {\n",
       "        text-align: right;\n",
       "    }\n",
       "</style>\n",
       "<table border=\"1\" class=\"dataframe\">\n",
       "  <thead>\n",
       "    <tr style=\"text-align: right;\">\n",
       "      <th></th>\n",
       "      <th>file_path</th>\n",
       "      <th>ID</th>\n",
       "      <th>연령대</th>\n",
       "      <th>성별</th>\n",
       "    </tr>\n",
       "  </thead>\n",
       "  <tbody>\n",
       "    <tr>\n",
       "      <th>0</th>\n",
       "      <td>f:/High_Resolution\\19062421\\S001\\L1\\E01\\C10.jpg</td>\n",
       "      <td>19062421</td>\n",
       "      <td>30대</td>\n",
       "      <td>남</td>\n",
       "    </tr>\n",
       "    <tr>\n",
       "      <th>1</th>\n",
       "      <td>f:/High_Resolution\\19062421\\S001\\L1\\E01\\C19.jpg</td>\n",
       "      <td>19062421</td>\n",
       "      <td>30대</td>\n",
       "      <td>남</td>\n",
       "    </tr>\n",
       "    <tr>\n",
       "      <th>2</th>\n",
       "      <td>f:/High_Resolution\\19062421\\S001\\L1\\E01\\C20.jpg</td>\n",
       "      <td>19062421</td>\n",
       "      <td>30대</td>\n",
       "      <td>남</td>\n",
       "    </tr>\n",
       "    <tr>\n",
       "      <th>3</th>\n",
       "      <td>f:/High_Resolution\\19062421\\S001\\L1\\E01\\C4.jpg</td>\n",
       "      <td>19062421</td>\n",
       "      <td>30대</td>\n",
       "      <td>남</td>\n",
       "    </tr>\n",
       "    <tr>\n",
       "      <th>4</th>\n",
       "      <td>f:/High_Resolution\\19062421\\S001\\L1\\E01\\C5.jpg</td>\n",
       "      <td>19062421</td>\n",
       "      <td>30대</td>\n",
       "      <td>남</td>\n",
       "    </tr>\n",
       "    <tr>\n",
       "      <th>...</th>\n",
       "      <td>...</td>\n",
       "      <td>...</td>\n",
       "      <td>...</td>\n",
       "      <td>...</td>\n",
       "    </tr>\n",
       "    <tr>\n",
       "      <th>583195</th>\n",
       "      <td>f:/High_Resolution\\19101513\\S003\\L9\\E02\\C5.jpg</td>\n",
       "      <td>19101513</td>\n",
       "      <td>20대</td>\n",
       "      <td>여</td>\n",
       "    </tr>\n",
       "    <tr>\n",
       "      <th>583196</th>\n",
       "      <td>f:/High_Resolution\\19101513\\S003\\L9\\E02\\C6.jpg</td>\n",
       "      <td>19101513</td>\n",
       "      <td>20대</td>\n",
       "      <td>여</td>\n",
       "    </tr>\n",
       "    <tr>\n",
       "      <th>583197</th>\n",
       "      <td>f:/High_Resolution\\19101513\\S003\\L9\\E02\\C7.jpg</td>\n",
       "      <td>19101513</td>\n",
       "      <td>20대</td>\n",
       "      <td>여</td>\n",
       "    </tr>\n",
       "    <tr>\n",
       "      <th>583198</th>\n",
       "      <td>f:/High_Resolution\\19101513\\S003\\L9\\E02\\C8.jpg</td>\n",
       "      <td>19101513</td>\n",
       "      <td>20대</td>\n",
       "      <td>여</td>\n",
       "    </tr>\n",
       "    <tr>\n",
       "      <th>583199</th>\n",
       "      <td>f:/High_Resolution\\19101513\\S003\\L9\\E02\\C9.jpg</td>\n",
       "      <td>19101513</td>\n",
       "      <td>20대</td>\n",
       "      <td>여</td>\n",
       "    </tr>\n",
       "  </tbody>\n",
       "</table>\n",
       "<p>583200 rows × 4 columns</p>\n",
       "</div>"
      ],
      "text/plain": [
       "                                              file_path        ID  연령대 성별\n",
       "0       f:/High_Resolution\\19062421\\S001\\L1\\E01\\C10.jpg  19062421  30대  남\n",
       "1       f:/High_Resolution\\19062421\\S001\\L1\\E01\\C19.jpg  19062421  30대  남\n",
       "2       f:/High_Resolution\\19062421\\S001\\L1\\E01\\C20.jpg  19062421  30대  남\n",
       "3        f:/High_Resolution\\19062421\\S001\\L1\\E01\\C4.jpg  19062421  30대  남\n",
       "4        f:/High_Resolution\\19062421\\S001\\L1\\E01\\C5.jpg  19062421  30대  남\n",
       "...                                                 ...       ...  ... ..\n",
       "583195   f:/High_Resolution\\19101513\\S003\\L9\\E02\\C5.jpg  19101513  20대  여\n",
       "583196   f:/High_Resolution\\19101513\\S003\\L9\\E02\\C6.jpg  19101513  20대  여\n",
       "583197   f:/High_Resolution\\19101513\\S003\\L9\\E02\\C7.jpg  19101513  20대  여\n",
       "583198   f:/High_Resolution\\19101513\\S003\\L9\\E02\\C8.jpg  19101513  20대  여\n",
       "583199   f:/High_Resolution\\19101513\\S003\\L9\\E02\\C9.jpg  19101513  20대  여\n",
       "\n",
       "[583200 rows x 4 columns]"
      ]
     },
     "execution_count": 4,
     "metadata": {},
     "output_type": "execute_result"
    }
   ],
   "source": [
    "dataset_info = pd.read_csv(\"meta_data_for_train_K-Face.csv\")\n",
    "dataset_info"
   ]
  },
  {
   "cell_type": "code",
   "execution_count": 5,
   "id": "f249fe0e",
   "metadata": {},
   "outputs": [],
   "source": [
    "def gender_map( gender ):\n",
    "    if gender == '남':\n",
    "        return 1\n",
    "    elif gender == '여':\n",
    "        return 0"
   ]
  },
  {
   "cell_type": "code",
   "execution_count": 6,
   "id": "22671cca",
   "metadata": {},
   "outputs": [
    {
     "data": {
      "text/html": [
       "<div>\n",
       "<style scoped>\n",
       "    .dataframe tbody tr th:only-of-type {\n",
       "        vertical-align: middle;\n",
       "    }\n",
       "\n",
       "    .dataframe tbody tr th {\n",
       "        vertical-align: top;\n",
       "    }\n",
       "\n",
       "    .dataframe thead th {\n",
       "        text-align: right;\n",
       "    }\n",
       "</style>\n",
       "<table border=\"1\" class=\"dataframe\">\n",
       "  <thead>\n",
       "    <tr style=\"text-align: right;\">\n",
       "      <th></th>\n",
       "      <th>file_path</th>\n",
       "      <th>ID</th>\n",
       "      <th>연령대</th>\n",
       "      <th>성별</th>\n",
       "      <th>new_gender</th>\n",
       "    </tr>\n",
       "  </thead>\n",
       "  <tbody>\n",
       "    <tr>\n",
       "      <th>0</th>\n",
       "      <td>f:/High_Resolution\\19062421\\S001\\L1\\E01\\C10.jpg</td>\n",
       "      <td>19062421</td>\n",
       "      <td>30대</td>\n",
       "      <td>남</td>\n",
       "      <td>1</td>\n",
       "    </tr>\n",
       "    <tr>\n",
       "      <th>1</th>\n",
       "      <td>f:/High_Resolution\\19062421\\S001\\L1\\E01\\C19.jpg</td>\n",
       "      <td>19062421</td>\n",
       "      <td>30대</td>\n",
       "      <td>남</td>\n",
       "      <td>1</td>\n",
       "    </tr>\n",
       "    <tr>\n",
       "      <th>2</th>\n",
       "      <td>f:/High_Resolution\\19062421\\S001\\L1\\E01\\C20.jpg</td>\n",
       "      <td>19062421</td>\n",
       "      <td>30대</td>\n",
       "      <td>남</td>\n",
       "      <td>1</td>\n",
       "    </tr>\n",
       "    <tr>\n",
       "      <th>3</th>\n",
       "      <td>f:/High_Resolution\\19062421\\S001\\L1\\E01\\C4.jpg</td>\n",
       "      <td>19062421</td>\n",
       "      <td>30대</td>\n",
       "      <td>남</td>\n",
       "      <td>1</td>\n",
       "    </tr>\n",
       "    <tr>\n",
       "      <th>4</th>\n",
       "      <td>f:/High_Resolution\\19062421\\S001\\L1\\E01\\C5.jpg</td>\n",
       "      <td>19062421</td>\n",
       "      <td>30대</td>\n",
       "      <td>남</td>\n",
       "      <td>1</td>\n",
       "    </tr>\n",
       "  </tbody>\n",
       "</table>\n",
       "</div>"
      ],
      "text/plain": [
       "                                         file_path        ID  연령대 성별  \\\n",
       "0  f:/High_Resolution\\19062421\\S001\\L1\\E01\\C10.jpg  19062421  30대  남   \n",
       "1  f:/High_Resolution\\19062421\\S001\\L1\\E01\\C19.jpg  19062421  30대  남   \n",
       "2  f:/High_Resolution\\19062421\\S001\\L1\\E01\\C20.jpg  19062421  30대  남   \n",
       "3   f:/High_Resolution\\19062421\\S001\\L1\\E01\\C4.jpg  19062421  30대  남   \n",
       "4   f:/High_Resolution\\19062421\\S001\\L1\\E01\\C5.jpg  19062421  30대  남   \n",
       "\n",
       "   new_gender  \n",
       "0           1  \n",
       "1           1  \n",
       "2           1  \n",
       "3           1  \n",
       "4           1  "
      ]
     },
     "execution_count": 6,
     "metadata": {},
     "output_type": "execute_result"
    }
   ],
   "source": [
    "dataset_info['new_gender'] = dataset_info['성별'].map( gender_map )\n",
    "dataset_info.head()"
   ]
  },
  {
   "cell_type": "code",
   "execution_count": 7,
   "id": "9cc645fe",
   "metadata": {},
   "outputs": [],
   "source": [
    "data_file_path = dataset_info['file_path'].tolist()\n",
    "gender = dataset_info['new_gender'].tolist()\n",
    "#age = dataset_info['age'].tolist()"
   ]
  },
  {
   "cell_type": "code",
   "execution_count": 8,
   "id": "09d27e34",
   "metadata": {},
   "outputs": [],
   "source": [
    "if HOME_TRAIN == False:\n",
    "    data_file_path = [c.replace('f:/', 'C:/Users/csyi/Desktop/Age_Gender_Prediction/Dataset/K-Face/') for c in data_file_path]"
   ]
  },
  {
   "cell_type": "code",
   "execution_count": 11,
   "id": "2452283b",
   "metadata": {},
   "outputs": [
    {
     "data": {
      "text/plain": [
       "array([[0., 1.],\n",
       "       [0., 1.],\n",
       "       [0., 1.],\n",
       "       ...,\n",
       "       [1., 0.],\n",
       "       [1., 0.],\n",
       "       [1., 0.]], dtype=float32)"
      ]
     },
     "execution_count": 11,
     "metadata": {},
     "output_type": "execute_result"
    }
   ],
   "source": [
    "le_gender = LabelEncoder( ).fit_transform(gender)\n",
    "\n",
    "gender = tf.keras.utils.to_categorical(le_gender, num_classes=2)\n",
    "gender"
   ]
  },
  {
   "cell_type": "code",
   "execution_count": 12,
   "id": "503ad74f",
   "metadata": {},
   "outputs": [],
   "source": [
    "file_path_train, file_path_val, y_train, y_val = train_test_split(data_file_path, gender, \n",
    "                                                                  test_size=0.25, \n",
    "                                                                  random_state=777, \n",
    "                                                                  stratify = gender)"
   ]
  },
  {
   "cell_type": "code",
   "execution_count": 13,
   "id": "5152966b",
   "metadata": {},
   "outputs": [
    {
     "name": "stdout",
     "output_type": "stream",
     "text": [
      "437400 437400 145800 145800\n"
     ]
    }
   ],
   "source": [
    "print( len(file_path_train) , len(y_train) , len(file_path_val) , len(y_val) )"
   ]
  },
  {
   "cell_type": "code",
   "execution_count": 14,
   "id": "90db353b",
   "metadata": {},
   "outputs": [],
   "source": [
    "def load_image( image_path , label ):\n",
    "    img = tf.io.read_file(image_path)\n",
    "    img = tf.image.decode_jpeg(img, channels=3)\n",
    "    img = tf.image.resize(img, (224, 224))\n",
    "    img = tf.keras.applications.resnet50.preprocess_input(img)\n",
    "    return img , label"
   ]
  },
  {
   "cell_type": "code",
   "execution_count": 15,
   "id": "26ffd9e9",
   "metadata": {},
   "outputs": [],
   "source": [
    "train_dataset = tf.data.Dataset.from_tensor_slices( (file_path_train , y_train) )\n",
    "val_dataset = tf.data.Dataset.from_tensor_slices( (file_path_val , y_val) )"
   ]
  },
  {
   "cell_type": "code",
   "execution_count": 16,
   "id": "66d8a0e1",
   "metadata": {},
   "outputs": [],
   "source": [
    "train_dataset = train_dataset.shuffle(buffer_size=len(file_path_train))\\\n",
    "                .map( load_image, num_parallel_calls=tf.data.experimental.AUTOTUNE)\\\n",
    "                .batch(BATCH_SIZE)\\\n",
    "                .prefetch(tf.data.experimental.AUTOTUNE)     #\n",
    "\n",
    "val_dataset = val_dataset.shuffle(buffer_size=len(file_path_val))\\\n",
    "                .map( load_image, num_parallel_calls=tf.data.experimental.AUTOTUNE)\\\n",
    "                .batch(BATCH_SIZE)\\\n",
    "                .prefetch(tf.data.experimental.AUTOTUNE)    #"
   ]
  },
  {
   "cell_type": "code",
   "execution_count": 17,
   "id": "cfe66a62",
   "metadata": {},
   "outputs": [
    {
     "data": {
      "text/plain": [
       "<TakeDataset shapes: ((None, 224, 224, 3), (None, 2)), types: (tf.float32, tf.float32)>"
      ]
     },
     "execution_count": 17,
     "metadata": {},
     "output_type": "execute_result"
    }
   ],
   "source": [
    "train_dataset.take(1)"
   ]
  },
  {
   "cell_type": "code",
   "execution_count": null,
   "id": "0925d32c",
   "metadata": {},
   "outputs": [],
   "source": []
  }
 ],
 "metadata": {
  "kernelspec": {
   "display_name": "TF.2.5.0-GPU",
   "language": "python",
   "name": "tf.2.5.0-gpu"
  },
  "language_info": {
   "codemirror_mode": {
    "name": "ipython",
    "version": 3
   },
   "file_extension": ".py",
   "mimetype": "text/x-python",
   "name": "python",
   "nbconvert_exporter": "python",
   "pygments_lexer": "ipython3",
   "version": "3.9.5"
  }
 },
 "nbformat": 4,
 "nbformat_minor": 5
}
